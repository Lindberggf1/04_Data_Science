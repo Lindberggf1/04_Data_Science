{
 "cells": [
  {
   "cell_type": "markdown",
   "id": "9e99872b",
   "metadata": {},
   "source": [
    "# Conjunto de dados do Titanic - Vetores One-Hot"
   ]
  },
  {
   "cell_type": "markdown",
   "id": "13569e06",
   "metadata": {},
   "source": [
    "Nesta Unidade vamos construir um modelo para prever quem sobreviveu ao desastre do Titanic.\n",
    "\n",
    "Ao fazer isso, praticaremos a transformação de dados entre tipos numéricos e categóricos, incluindo o uso de vetores one-hot."
   ]
  },
  {
   "cell_type": "markdown",
   "id": "f130f4ae",
   "metadata": {},
   "source": [
    "## Preparando dados"
   ]
  },
  {
   "cell_type": "markdown",
   "id": "c3784330",
   "metadata": {},
   "source": [
    "Vamos começar abrindo e limpando rapidamente nosso conjunto de dados, como fizemos na última unidade:"
   ]
  },
  {
   "cell_type": "code",
   "execution_count": null,
   "id": "c0049428",
   "metadata": {},
   "outputs": [],
   "source": [
    "import pandas\n",
    "!python -m wget https://raw.githubusercontent.com/MicrosoftDocs/mslearn-introduction-to-machine-learning/main/m0c_logistic_regression.py\n",
    "!python -m wget https://raw.githubusercontent.com/MicrosoftDocs/mslearn-introduction-to-machine-learning/main/Data/titanic.csv\n",
    "\n",
    "# Open our dataset from file\n",
    "dataset = pandas.read_csv(\"titanic.csv\", index_col=False, sep=\",\", header=0)\n",
    "\n",
    "# Fill missing cabin information with 'Unknown'\n",
    "dataset[\"Cabin\"].fillna(\"Unknown\", inplace=True)\n",
    "\n",
    "# Remove rows missing Age information\n",
    "dataset.dropna(subset=[\"Age\"], inplace=True)\n",
    "\n",
    "# Remove the Name, PassengerId, and Ticket fields\n",
    "# This is optional and only to make it easier to read our print-outs\n",
    "dataset.drop([\"PassengerId\", \"Name\", \"Ticket\"], axis=1, inplace=True)\n",
    "\n",
    "dataset.head()"
   ]
  },
  {
   "cell_type": "markdown",
   "id": "e8d2eb5f",
   "metadata": {},
   "source": [
    "## Sobre nosso modelo"
   ]
  },
  {
   "cell_type": "markdown",
   "id": "9e0446d2",
   "metadata": {},
   "source": [
    "Estaremos treinando um tipo de modelo chamado Regressão Logística, que irá prever quem sobreviverá ao desastre do Titanic.\n",
    "\n",
    "Você não precisa entender de regressão logística para entender este exercício, então colocamos a implementação de fora deste notebook em um método chamado train_logistic_regression. Se você estiver curioso, pode ler este método em nosso repositório GitHub.\n",
    "\n",
    "train_logistic_regression:\n",
    "\n",
    " 1. Aceita nosso quadro de dados e uma lista de recursos a serem incluídos no modelo.\n",
    " 2. Treina o modelo\n",
    " 3. Retorna um número informando o desempenho do modelo na previsão de sobrevivência. Números menores são melhores."
   ]
  },
  {
   "cell_type": "markdown",
   "id": "4918380f",
   "metadata": {},
   "source": [
    "## Apenas Numérico"
   ]
  },
  {
   "cell_type": "markdown",
   "id": "9790ef17",
   "metadata": {},
   "source": [
    "Vamos criar um modelo, usando apenas os recursos numéricos.\n",
    "\n",
    "Primeiro, usaremos Pclassaqui como um recurso ordinal, em vez de um recurso categórico codificado one-hot."
   ]
  },
  {
   "cell_type": "code",
   "execution_count": null,
   "id": "a5970c57",
   "metadata": {},
   "outputs": [],
   "source": [
    "from m0c_logistic_regression import train_logistic_regression\n",
    "\n",
    "features = [\"Age\", \"Pclass\", \"SibSp\", \"Parch\", \"Fare\"] \n",
    "loss_numerical_only = train_logistic_regression(dataset, features)\n",
    "\n",
    "print(f\"Numerical-Only, Log-Loss (cost): {loss_numerical_only}\")"
   ]
  },
  {
   "cell_type": "markdown",
   "id": "1b2aab60",
   "metadata": {},
   "source": [
    "Temos nosso ponto de partida. Vamos ver se podemos melhorar o modelo usando recursos categóricos."
   ]
  },
  {
   "cell_type": "markdown",
   "id": "fe23d05f",
   "metadata": {},
   "source": [
    "## Recursos categóricos binários"
   ]
  },
  {
   "cell_type": "markdown",
   "id": "95442d09",
   "metadata": {},
   "source": [
    "Os recursos categóricos que têm apenas dois valores potenciais podem ser codificados em uma única coluna como 0e 1.\n",
    "\n",
    "Vamos converter os Sexvalores em IsFemale- a 0para masculino e 1feminino - e incluir isso em nosso modelo."
   ]
  },
  {
   "cell_type": "code",
   "execution_count": null,
   "id": "a510ae5b",
   "metadata": {},
   "outputs": [],
   "source": [
    "# Swap male / female with numerical values\n",
    "# We can do this because there are only two categories\n",
    "dataset[\"IsFemale\"] = dataset.Sex.replace({'male':0, 'female':1})\n",
    "\n",
    "# Print out the first few rows of the dataset\n",
    "print(dataset.head())\n",
    "\n",
    "# Run and test the model, also using IsFemale this time\n",
    "features = [\"Age\", \"Pclass\", \"SibSp\", \"Parch\", \"Fare\", \"IsFemale\"] \n",
    "loss_binary_categoricals = train_logistic_regression(dataset, features)\n",
    "\n",
    "print(f\"\\nNumerical + Sex, Log-Loss (cost): {loss_binary_categoricals}\")"
   ]
  },
  {
   "cell_type": "markdown",
   "id": "9ae476f6",
   "metadata": {},
   "source": [
    "Nossa perda (erro) diminuiu! Isso significa que este modelo tem um desempenho melhor do que o anterior."
   ]
  },
  {
   "cell_type": "markdown",
   "id": "a2f9683d",
   "metadata": {},
   "source": [
    "## Codificação One-Hot"
   ]
  },
  {
   "cell_type": "markdown",
   "id": "8c8d6b85",
   "metadata": {},
   "source": [
    "A classe de ticket ( Pclass) é um recurso Ordinal. Isso significa que seus valores potenciais (1, 2 e 3) são tratados como tendo uma ordem e igualmente espaçados. É possível que esse espaçamento uniforme simplesmente não esteja correto - nas histórias que ouvimos sobre o Titanic, os passageiros da terceira classe foram tratados muito pior do que os da 1ª e 2ª classe.\n",
    "\n",
    "Vamos converter Pclassem um recurso categórico usando a codificação one-hot:"
   ]
  },
  {
   "cell_type": "code",
   "execution_count": null,
   "id": "9e70b564",
   "metadata": {},
   "outputs": [],
   "source": [
    "# Get all possible categories for the \"PClass\" column\n",
    "print(f\"Possible values for PClass: {dataset['Pclass'].unique()}\")\n",
    "\n",
    "# Use Pandas to One-Hot encode the PClass category\n",
    "dataset_with_one_hot = pandas.get_dummies(dataset, columns=[\"Pclass\"], drop_first=False)\n",
    "\n",
    "# Add back in the old Pclass column, for learning purposes\n",
    "dataset_with_one_hot[\"Pclass\"] = dataset.Pclass\n",
    "\n",
    "# Print out the first few rows\n",
    "dataset_with_one_hot.head()"
   ]
  },
  {
   "cell_type": "markdown",
   "id": "b474fa3f",
   "metadata": {},
   "source": [
    "Veja como Pclassfoi convertido em três valores: Pclass_1, Pclass_2e Pclass_3.\n",
    "\n",
    "Linhas com Pclass1 têm um valor na Pclass_1coluna. O mesmo padrão existe para valores de 2 e 3.\n",
    "\n",
    "Vamos agora executar novamente nosso modelo tratando os Pclassvalores como categóricos, em vez de ordinais."
   ]
  },
  {
   "cell_type": "code",
   "execution_count": null,
   "id": "5ddfac38",
   "metadata": {},
   "outputs": [],
   "source": [
    "# Run and test the model, also using Pclass as a categorical feature this time\n",
    "features = [\"Age\", \"SibSp\", \"Parch\", \"Fare\", \"IsFemale\",\n",
    "            \"Pclass_1\", \"Pclass_2\", \"Pclass_3\"]\n",
    "\n",
    "loss_pclass_categorical = train_logistic_regression(dataset_with_one_hot, features)\n",
    "\n",
    "print(f\"\\nNumerical, Sex, Categorical Pclass, Log-Loss (cost): {loss_pclass_categorical}\")"
   ]
  },
  {
   "cell_type": "markdown",
   "id": "6b35bb5b",
   "metadata": {},
   "source": [
    "Isso parece ter piorado um pouco as coisas!\n",
    "\n",
    "Vamos continuar."
   ]
  },
  {
   "cell_type": "markdown",
   "id": "14caebc4",
   "metadata": {},
   "source": [
    "## This seems to have made things slightly worse!"
   ]
  },
  {
   "cell_type": "markdown",
   "id": "8e5ff3c5",
   "metadata": {},
   "source": [
    "Lembre-se que muitos passageiros tinham Cabininformações. Cabiné uma característica categórica e deve ser um bom preditor de sobrevivência, porque as pessoas em cabines mais baixas provavelmente tiveram pouco tempo para escapar durante o naufrágio.\n",
    "\n",
    "Vamos codificar a cabine usando vetores one-hot e incluí-la em um modelo. Há tantas cabines desta vez que não vamos imprimir todas. Se você quiser praticar imprimi-los, sinta-se à vontade para editar o código como prática."
   ]
  },
  {
   "cell_type": "code",
   "execution_count": null,
   "id": "b5324c0a",
   "metadata": {},
   "outputs": [],
   "source": [
    "# Use Pandas to One-Hot encode the Cabin and Pclass categories\n",
    "dataset_with_one_hot = pandas.get_dummies(dataset, columns=[\"Pclass\", \"Cabin\"], drop_first=False)\n",
    "\n",
    "# Find cabin column names\n",
    "cabin_column_names = list(c for c in dataset_with_one_hot.columns if c.startswith(\"Cabin_\"))\n",
    "\n",
    "# Print out how many cabins there were\n",
    "print(len(cabin_column_names), \"cabins found\")\n",
    "\n",
    "# Make a list of features\n",
    "features = [\"Age\", \"SibSp\", \"Parch\", \"Fare\", \"IsFemale\",\n",
    "            \"Pclass_1\", \"Pclass_2\", \"Pclass_3\"] + \\\n",
    "            cabin_column_names\n",
    "\n",
    "# Run the model and print the result\n",
    "loss_cabin_categorical = train_logistic_regression(dataset_with_one_hot, features)\n",
    "\n",
    "print(f\"\\nNumerical, Sex, Categorical Pclass, Cabin, Log-Loss (cost): {loss_cabin_categorical}\")"
   ]
  },
  {
   "cell_type": "markdown",
   "id": "044d93e0",
   "metadata": {},
   "source": [
    "Esse é o nosso melhor resultado até agora!"
   ]
  },
  {
   "cell_type": "markdown",
   "id": "f512a357",
   "metadata": {},
   "source": [
    "## Melhorando o Poder"
   ]
  },
  {
   "cell_type": "markdown",
   "id": "3c174d02",
   "metadata": {},
   "source": [
    "Incluir um número muito grande de classes categóricas - como 135 Cabines - geralmente não é a melhor maneira de treinar um modelo. Isso ocorre porque o modelo tem apenas alguns exemplos de cada classe de categoria para aprender.\n",
    "\n",
    "Às vezes, os modelos podem ser aprimorados simplificando os recursos. Cabinprovavelmente era útil porque indicava em qual andar do povo titânico provavelmente estava situado: aqueles nos conveses inferiores teriam seus aposentos inundados primeiro.\n",
    "\n",
    "Usar as informações do deck pode ser mais simples do que categorizar as pessoas em Cabines.\n",
    "\n",
    "Vamos simplificar o que rodamos, substituindo as 135 Cabincategorias por uma categoria mais simples Deck, que possui apenas 9 valores: A - G, T e U (Desconhecido)"
   ]
  },
  {
   "cell_type": "code",
   "execution_count": null,
   "id": "21b02872",
   "metadata": {},
   "outputs": [],
   "source": [
    "# We have cabin names, like A31, G45. The letter refers to the deck that\n",
    "# the cabin was on. Extract just the deck and save it to a column. \n",
    "dataset[\"Deck\"] = [c[0] for c in dataset.Cabin]\n",
    "\n",
    "print(\"Decks: \", sorted(dataset.Deck.unique()))\n",
    "\n",
    "# Create one-hot vectors for:\n",
    "# Pclass - the class of ticket. (This could be treated as ordinal or categorical)\n",
    "# Deck - the deck that the cabin was on\n",
    "dataset_with_one_hot = pandas.get_dummies(dataset, columns=[\"Pclass\", \"Deck\"], drop_first=False)\n",
    "\n",
    "# Find the deck names\n",
    "deck_of_cabin_column_names = list(c for c in dataset_with_one_hot.columns if c.startswith(\"Deck_\"))\n",
    " \n",
    "features = [\"Age\", \"IsFemale\", \"SibSp\", \"Parch\", \"Fare\", \n",
    "            \"Pclass_1\", \"Pclass_2\", \"Pclass_3\",\n",
    "            \"Deck_A\", \"Deck_B\", \"Deck_C\", \"Deck_D\", \n",
    "            \"Deck_E\", \"Deck_F\", \"Deck_G\", \"Deck_U\", \"Deck_T\"]\n",
    "\n",
    "loss_deck = train_logistic_regression(dataset_with_one_hot, features)\n",
    "\n",
    "print(f\"\\nSimplifying Cabin Into Deck, Log-Loss (cost): {loss_deck}\")"
   ]
  },
  {
   "cell_type": "markdown",
   "id": "fca05246",
   "metadata": {},
   "source": [
    "## Comparando modelos"
   ]
  },
  {
   "cell_type": "markdown",
   "id": "aa831edc",
   "metadata": {},
   "source": [
    "Vamos comparar o losspara estes modelos:"
   ]
  },
  {
   "cell_type": "code",
   "execution_count": null,
   "id": "37f63253",
   "metadata": {},
   "outputs": [],
   "source": [
    "# Use a dataframe to create a comparison table of metrics\n",
    "# Copy metrics from previous Unit\n",
    "\n",
    "l =[[\"Numeric Features Only\", loss_numerical_only],\n",
    "    [\"Adding Sex as Binary\", loss_binary_categoricals],\n",
    "    [\"Treating Pclass as Categorical\", loss_pclass_categorical],\n",
    "    [\"Using Cabin as Categorical\", loss_cabin_categorical],\n",
    "    [\"Using Deck rather than Cabin\", loss_deck]]\n",
    "\n",
    "pandas.DataFrame(l, columns=[\"Dataset\", \"Log-Loss (Low is better)\"])"
   ]
  },
  {
   "cell_type": "markdown",
   "id": "9aa49434",
   "metadata": {},
   "source": [
    "Podemos ver que incluir recursos categóricos pode melhorar e prejudicar o funcionamento de um modelo. Muitas vezes, a experimentação é a melhor maneira de encontrar o melhor modelo."
   ]
  },
  {
   "cell_type": "markdown",
   "id": "7b39f379",
   "metadata": {},
   "source": [
    "# Resumo"
   ]
  },
  {
   "cell_type": "markdown",
   "id": "10426409",
   "metadata": {},
   "source": [
    "Nesta unidade você aprendeu como usar a codificação One-Hot para endereçar dados categóricos.\n",
    "\n",
    "Também exploramos como, às vezes, pensar criticamente sobre o problema que você está tentando pode melhorar uma solução melhor do que simplesmente incluir todos os recursos possíveis em um modelo."
   ]
  },
  {
   "cell_type": "code",
   "execution_count": null,
   "id": "6625fce7",
   "metadata": {},
   "outputs": [],
   "source": []
  }
 ],
 "metadata": {
  "kernelspec": {
   "display_name": "Python 3 (ipykernel)",
   "language": "python",
   "name": "python3"
  },
  "language_info": {
   "codemirror_mode": {
    "name": "ipython",
    "version": 3
   },
   "file_extension": ".py",
   "mimetype": "text/x-python",
   "name": "python",
   "nbconvert_exporter": "python",
   "pygments_lexer": "ipython3",
   "version": "3.9.12"
  }
 },
 "nbformat": 4,
 "nbformat_minor": 5
}
