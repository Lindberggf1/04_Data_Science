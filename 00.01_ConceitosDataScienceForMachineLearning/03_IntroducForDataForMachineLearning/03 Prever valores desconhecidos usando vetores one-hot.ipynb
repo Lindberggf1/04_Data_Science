{
 "cells": [
  {
   "cell_type": "markdown",
   "id": "7a3c37f0",
   "metadata": {},
   "source": [
    "# Conjunto de dados do Titanic - Vetores One-Hot"
   ]
  },
  {
   "cell_type": "markdown",
   "id": "a5c4ce69",
   "metadata": {},
   "source": [
    "Nesta Unidade vamos construir um modelo para prever quem sobreviveu ao desastre do Titanic.\n",
    "\n",
    "Ao fazer isso, praticaremos a transformação de dados entre tipos numéricos e categóricos, incluindo o uso de vetores one-hot."
   ]
  },
  {
   "cell_type": "markdown",
   "id": "2d0f7c70",
   "metadata": {},
   "source": [
    "## Preparando dados"
   ]
  },
  {
   "cell_type": "markdown",
   "id": "e2b7cbfe",
   "metadata": {},
   "source": [
    "Vamos começar abrindo e limpando rapidamente nosso conjunto de dados, como fizemos na última unidade:"
   ]
  },
  {
   "cell_type": "code",
   "execution_count": 3,
   "id": "659b0626",
   "metadata": {},
   "outputs": [
    {
     "name": "stdout",
     "output_type": "stream",
     "text": [
      "\n",
      "Saved under m0c_logistic_regression.py\n",
      "\n",
      "Saved under titanic (2).csv\n"
     ]
    },
    {
     "data": {
      "text/html": [
       "<div>\n",
       "<style scoped>\n",
       "    .dataframe tbody tr th:only-of-type {\n",
       "        vertical-align: middle;\n",
       "    }\n",
       "\n",
       "    .dataframe tbody tr th {\n",
       "        vertical-align: top;\n",
       "    }\n",
       "\n",
       "    .dataframe thead th {\n",
       "        text-align: right;\n",
       "    }\n",
       "</style>\n",
       "<table border=\"1\" class=\"dataframe\">\n",
       "  <thead>\n",
       "    <tr style=\"text-align: right;\">\n",
       "      <th></th>\n",
       "      <th>Survived</th>\n",
       "      <th>Pclass</th>\n",
       "      <th>Sex</th>\n",
       "      <th>Age</th>\n",
       "      <th>SibSp</th>\n",
       "      <th>Parch</th>\n",
       "      <th>Fare</th>\n",
       "      <th>Cabin</th>\n",
       "      <th>Embarked</th>\n",
       "    </tr>\n",
       "  </thead>\n",
       "  <tbody>\n",
       "    <tr>\n",
       "      <th>0</th>\n",
       "      <td>0</td>\n",
       "      <td>3</td>\n",
       "      <td>male</td>\n",
       "      <td>22.0</td>\n",
       "      <td>1</td>\n",
       "      <td>0</td>\n",
       "      <td>7.2500</td>\n",
       "      <td>Unknown</td>\n",
       "      <td>S</td>\n",
       "    </tr>\n",
       "    <tr>\n",
       "      <th>1</th>\n",
       "      <td>1</td>\n",
       "      <td>1</td>\n",
       "      <td>female</td>\n",
       "      <td>38.0</td>\n",
       "      <td>1</td>\n",
       "      <td>0</td>\n",
       "      <td>71.2833</td>\n",
       "      <td>C85</td>\n",
       "      <td>C</td>\n",
       "    </tr>\n",
       "    <tr>\n",
       "      <th>2</th>\n",
       "      <td>1</td>\n",
       "      <td>3</td>\n",
       "      <td>female</td>\n",
       "      <td>26.0</td>\n",
       "      <td>0</td>\n",
       "      <td>0</td>\n",
       "      <td>7.9250</td>\n",
       "      <td>Unknown</td>\n",
       "      <td>S</td>\n",
       "    </tr>\n",
       "    <tr>\n",
       "      <th>3</th>\n",
       "      <td>1</td>\n",
       "      <td>1</td>\n",
       "      <td>female</td>\n",
       "      <td>35.0</td>\n",
       "      <td>1</td>\n",
       "      <td>0</td>\n",
       "      <td>53.1000</td>\n",
       "      <td>C123</td>\n",
       "      <td>S</td>\n",
       "    </tr>\n",
       "    <tr>\n",
       "      <th>4</th>\n",
       "      <td>0</td>\n",
       "      <td>3</td>\n",
       "      <td>male</td>\n",
       "      <td>35.0</td>\n",
       "      <td>0</td>\n",
       "      <td>0</td>\n",
       "      <td>8.0500</td>\n",
       "      <td>Unknown</td>\n",
       "      <td>S</td>\n",
       "    </tr>\n",
       "  </tbody>\n",
       "</table>\n",
       "</div>"
      ],
      "text/plain": [
       "   Survived  Pclass     Sex   Age  SibSp  Parch     Fare    Cabin Embarked\n",
       "0         0       3    male  22.0      1      0   7.2500  Unknown        S\n",
       "1         1       1  female  38.0      1      0  71.2833      C85        C\n",
       "2         1       3  female  26.0      0      0   7.9250  Unknown        S\n",
       "3         1       1  female  35.0      1      0  53.1000     C123        S\n",
       "4         0       3    male  35.0      0      0   8.0500  Unknown        S"
      ]
     },
     "execution_count": 3,
     "metadata": {},
     "output_type": "execute_result"
    }
   ],
   "source": [
    "import pandas\n",
    "!python -m wget https://raw.githubusercontent.com/MicrosoftDocs/mslearn-introduction-to-machine-learning/main/m0c_logistic_regression.py\n",
    "!python -m wget https://raw.githubusercontent.com/MicrosoftDocs/mslearn-introduction-to-machine-learning/main/Data/titanic.csv\n",
    "\n",
    "# Open our dataset from file\n",
    "dataset = pandas.read_csv(\"titanic.csv\", index_col=False, sep=\",\", header=0)\n",
    "\n",
    "# Fill missing cabin information with 'Unknown'\n",
    "dataset[\"Cabin\"].fillna(\"Unknown\", inplace=True)\n",
    "\n",
    "# Remove rows missing Age information\n",
    "dataset.dropna(subset=[\"Age\"], inplace=True)\n",
    "\n",
    "# Remove the Name, PassengerId, and Ticket fields\n",
    "# This is optional and only to make it easier to read our print-outs\n",
    "dataset.drop([\"PassengerId\", \"Name\", \"Ticket\"], axis=1, inplace=True)\n",
    "\n",
    "dataset.head()"
   ]
  },
  {
   "cell_type": "markdown",
   "id": "f52ff5bc",
   "metadata": {},
   "source": [
    "## Sobre nosso modelo"
   ]
  },
  {
   "cell_type": "markdown",
   "id": "f06f8b94",
   "metadata": {},
   "source": [
    "Estaremos treinando um tipo de modelo chamado Regressão Logística, que irá prever quem sobreviverá ao desastre do Titanic.\n",
    "\n",
    "Você não precisa entender de regressão logística para entender este exercício, então colocamos a implementação de fora deste notebook em um método chamado train_logistic_regression. Se você estiver curioso, pode ler este método em nosso repositório GitHub.\n",
    "\n",
    "train_logistic_regression:\n",
    "\n",
    " 1. Aceita nosso quadro de dados e uma lista de recursos a serem incluídos no modelo.\n",
    " 2. Treina o modelo\n",
    " 3. Retorna um número informando o desempenho do modelo na previsão de sobrevivência. Números menores são melhores."
   ]
  },
  {
   "cell_type": "markdown",
   "id": "658672a3",
   "metadata": {},
   "source": [
    "## Apenas Numérico"
   ]
  },
  {
   "cell_type": "markdown",
   "id": "993b05dc",
   "metadata": {},
   "source": [
    "Vamos criar um modelo, usando apenas os recursos numéricos.\n",
    "\n",
    "Primeiro, usaremos Pclass aqui como um recurso ordinal, em vez de um recurso categórico codificado one-hot."
   ]
  },
  {
   "cell_type": "code",
   "execution_count": 4,
   "id": "0c19d58b",
   "metadata": {},
   "outputs": [
    {
     "name": "stdout",
     "output_type": "stream",
     "text": [
      "Numerical-Only, Log-Loss (cost): 0.6121682789483456\n"
     ]
    }
   ],
   "source": [
    "from m0c_logistic_regression import train_logistic_regression\n",
    "\n",
    "features = [\"Age\", \"Pclass\", \"SibSp\", \"Parch\", \"Fare\"] \n",
    "loss_numerical_only = train_logistic_regression(dataset, features)\n",
    "\n",
    "print(f\"Numerical-Only, Log-Loss (cost): {loss_numerical_only}\")"
   ]
  },
  {
   "cell_type": "markdown",
   "id": "03069958",
   "metadata": {},
   "source": [
    "Temos nosso ponto de partida. Vamos ver se podemos melhorar o modelo usando recursos categóricos."
   ]
  },
  {
   "cell_type": "markdown",
   "id": "deb67c45",
   "metadata": {},
   "source": [
    "## Recursos categóricos binários"
   ]
  },
  {
   "cell_type": "markdown",
   "id": "ec04e4ca",
   "metadata": {},
   "source": [
    "Os recursos categóricos que têm apenas dois valores potenciais podem ser codificados em uma única coluna como 0 e 1.\n",
    "\n",
    "Vamos converter os Sex valores em IsFemale- a 0 para masculino e 1 feminino - e incluir isso em nosso modelo."
   ]
  },
  {
   "cell_type": "code",
   "execution_count": 5,
   "id": "cede1b53",
   "metadata": {},
   "outputs": [
    {
     "name": "stdout",
     "output_type": "stream",
     "text": [
      "   Survived  Pclass     Sex   Age  SibSp  Parch     Fare    Cabin Embarked  \\\n",
      "0         0       3    male  22.0      1      0   7.2500  Unknown        S   \n",
      "1         1       1  female  38.0      1      0  71.2833      C85        C   \n",
      "2         1       3  female  26.0      0      0   7.9250  Unknown        S   \n",
      "3         1       1  female  35.0      1      0  53.1000     C123        S   \n",
      "4         0       3    male  35.0      0      0   8.0500  Unknown        S   \n",
      "\n",
      "   IsFemale  \n",
      "0         0  \n",
      "1         1  \n",
      "2         1  \n",
      "3         1  \n",
      "4         0  \n",
      "\n",
      "Numerical + Sex, Log-Loss (cost): 0.47071447414358547\n"
     ]
    }
   ],
   "source": [
    "# Swap male / female with numerical values\n",
    "# We can do this because there are only two categories\n",
    "dataset[\"IsFemale\"] = dataset.Sex.replace({'male':0, 'female':1})\n",
    "\n",
    "# Print out the first few rows of the dataset\n",
    "print(dataset.head())\n",
    "\n",
    "# Run and test the model, also using IsFemale this time\n",
    "features = [\"Age\", \"Pclass\", \"SibSp\", \"Parch\", \"Fare\", \"IsFemale\"] \n",
    "loss_binary_categoricals = train_logistic_regression(dataset, features)\n",
    "\n",
    "print(f\"\\nNumerical + Sex, Log-Loss (cost): {loss_binary_categoricals}\")"
   ]
  },
  {
   "cell_type": "markdown",
   "id": "14575264",
   "metadata": {},
   "source": [
    "Nossa perda (erro) diminuiu! Isso significa que este modelo tem um desempenho melhor do que o anterior."
   ]
  },
  {
   "cell_type": "markdown",
   "id": "ce28ffea",
   "metadata": {},
   "source": [
    "## Codificação One-Hot"
   ]
  },
  {
   "cell_type": "markdown",
   "id": "763cb594",
   "metadata": {},
   "source": [
    "A classe de ticket ( Pclass) é um recurso Ordinal. Isso significa que seus valores potenciais (1, 2 e 3) são tratados como tendo uma ordem e igualmente espaçados. É possível que esse espaçamento uniforme simplesmente não esteja correto - nas histórias que ouvimos sobre o Titanic, os passageiros da terceira classe foram tratados muito pior do que os da 1ª e 2ª classe.\n",
    "\n",
    "Vamos converter Pclassem um recurso categórico usando a codificação one-hot:"
   ]
  },
  {
   "cell_type": "code",
   "execution_count": 6,
   "id": "429b84e5",
   "metadata": {},
   "outputs": [
    {
     "name": "stdout",
     "output_type": "stream",
     "text": [
      "Possible values for PClass: [3 1 2]\n"
     ]
    },
    {
     "data": {
      "text/html": [
       "<div>\n",
       "<style scoped>\n",
       "    .dataframe tbody tr th:only-of-type {\n",
       "        vertical-align: middle;\n",
       "    }\n",
       "\n",
       "    .dataframe tbody tr th {\n",
       "        vertical-align: top;\n",
       "    }\n",
       "\n",
       "    .dataframe thead th {\n",
       "        text-align: right;\n",
       "    }\n",
       "</style>\n",
       "<table border=\"1\" class=\"dataframe\">\n",
       "  <thead>\n",
       "    <tr style=\"text-align: right;\">\n",
       "      <th></th>\n",
       "      <th>Survived</th>\n",
       "      <th>Sex</th>\n",
       "      <th>Age</th>\n",
       "      <th>SibSp</th>\n",
       "      <th>Parch</th>\n",
       "      <th>Fare</th>\n",
       "      <th>Cabin</th>\n",
       "      <th>Embarked</th>\n",
       "      <th>IsFemale</th>\n",
       "      <th>Pclass_1</th>\n",
       "      <th>Pclass_2</th>\n",
       "      <th>Pclass_3</th>\n",
       "      <th>Pclass</th>\n",
       "    </tr>\n",
       "  </thead>\n",
       "  <tbody>\n",
       "    <tr>\n",
       "      <th>0</th>\n",
       "      <td>0</td>\n",
       "      <td>male</td>\n",
       "      <td>22.0</td>\n",
       "      <td>1</td>\n",
       "      <td>0</td>\n",
       "      <td>7.2500</td>\n",
       "      <td>Unknown</td>\n",
       "      <td>S</td>\n",
       "      <td>0</td>\n",
       "      <td>0</td>\n",
       "      <td>0</td>\n",
       "      <td>1</td>\n",
       "      <td>3</td>\n",
       "    </tr>\n",
       "    <tr>\n",
       "      <th>1</th>\n",
       "      <td>1</td>\n",
       "      <td>female</td>\n",
       "      <td>38.0</td>\n",
       "      <td>1</td>\n",
       "      <td>0</td>\n",
       "      <td>71.2833</td>\n",
       "      <td>C85</td>\n",
       "      <td>C</td>\n",
       "      <td>1</td>\n",
       "      <td>1</td>\n",
       "      <td>0</td>\n",
       "      <td>0</td>\n",
       "      <td>1</td>\n",
       "    </tr>\n",
       "    <tr>\n",
       "      <th>2</th>\n",
       "      <td>1</td>\n",
       "      <td>female</td>\n",
       "      <td>26.0</td>\n",
       "      <td>0</td>\n",
       "      <td>0</td>\n",
       "      <td>7.9250</td>\n",
       "      <td>Unknown</td>\n",
       "      <td>S</td>\n",
       "      <td>1</td>\n",
       "      <td>0</td>\n",
       "      <td>0</td>\n",
       "      <td>1</td>\n",
       "      <td>3</td>\n",
       "    </tr>\n",
       "    <tr>\n",
       "      <th>3</th>\n",
       "      <td>1</td>\n",
       "      <td>female</td>\n",
       "      <td>35.0</td>\n",
       "      <td>1</td>\n",
       "      <td>0</td>\n",
       "      <td>53.1000</td>\n",
       "      <td>C123</td>\n",
       "      <td>S</td>\n",
       "      <td>1</td>\n",
       "      <td>1</td>\n",
       "      <td>0</td>\n",
       "      <td>0</td>\n",
       "      <td>1</td>\n",
       "    </tr>\n",
       "    <tr>\n",
       "      <th>4</th>\n",
       "      <td>0</td>\n",
       "      <td>male</td>\n",
       "      <td>35.0</td>\n",
       "      <td>0</td>\n",
       "      <td>0</td>\n",
       "      <td>8.0500</td>\n",
       "      <td>Unknown</td>\n",
       "      <td>S</td>\n",
       "      <td>0</td>\n",
       "      <td>0</td>\n",
       "      <td>0</td>\n",
       "      <td>1</td>\n",
       "      <td>3</td>\n",
       "    </tr>\n",
       "  </tbody>\n",
       "</table>\n",
       "</div>"
      ],
      "text/plain": [
       "   Survived     Sex   Age  SibSp  Parch     Fare    Cabin Embarked  IsFemale  \\\n",
       "0         0    male  22.0      1      0   7.2500  Unknown        S         0   \n",
       "1         1  female  38.0      1      0  71.2833      C85        C         1   \n",
       "2         1  female  26.0      0      0   7.9250  Unknown        S         1   \n",
       "3         1  female  35.0      1      0  53.1000     C123        S         1   \n",
       "4         0    male  35.0      0      0   8.0500  Unknown        S         0   \n",
       "\n",
       "   Pclass_1  Pclass_2  Pclass_3  Pclass  \n",
       "0         0         0         1       3  \n",
       "1         1         0         0       1  \n",
       "2         0         0         1       3  \n",
       "3         1         0         0       1  \n",
       "4         0         0         1       3  "
      ]
     },
     "execution_count": 6,
     "metadata": {},
     "output_type": "execute_result"
    }
   ],
   "source": [
    "# Get all possible categories for the \"PClass\" column\n",
    "print(f\"Possible values for PClass: {dataset['Pclass'].unique()}\")\n",
    "\n",
    "# Use Pandas to One-Hot encode the PClass category\n",
    "dataset_with_one_hot = pandas.get_dummies(dataset, columns=[\"Pclass\"], drop_first=False)\n",
    "\n",
    "# Add back in the old Pclass column, for learning purposes\n",
    "dataset_with_one_hot[\"Pclass\"] = dataset.Pclass\n",
    "\n",
    "# Print out the first few rows\n",
    "dataset_with_one_hot.head()"
   ]
  },
  {
   "cell_type": "markdown",
   "id": "fcd61fac",
   "metadata": {},
   "source": [
    "Veja como Pclass foi convertido em três valores: Pclass_1, Pclass_2 e Pclass_3.\n",
    "\n",
    "Linhas com Pclass1 têm um valor na Pclass_1 coluna. O mesmo padrão existe para valores de 2 e 3.\n",
    "\n",
    "Vamos agora executar novamente nosso modelo tratando os Pclass valores como categóricos, em vez de ordinais."
   ]
  },
  {
   "cell_type": "code",
   "execution_count": 7,
   "id": "7240ba29",
   "metadata": {},
   "outputs": [
    {
     "name": "stdout",
     "output_type": "stream",
     "text": [
      "\n",
      "Numerical, Sex, Categorical Pclass, Log-Loss (cost): 0.471711186710776\n"
     ]
    }
   ],
   "source": [
    "# Run and test the model, also using Pclass as a categorical feature this time\n",
    "features = [\"Age\", \"SibSp\", \"Parch\", \"Fare\", \"IsFemale\",\n",
    "            \"Pclass_1\", \"Pclass_2\", \"Pclass_3\"]\n",
    "\n",
    "loss_pclass_categorical = train_logistic_regression(dataset_with_one_hot, features)\n",
    "\n",
    "print(f\"\\nNumerical, Sex, Categorical Pclass, Log-Loss (cost): {loss_pclass_categorical}\")"
   ]
  },
  {
   "cell_type": "markdown",
   "id": "0f62b017",
   "metadata": {},
   "source": [
    "Isso parece ter piorado um pouco as coisas!\n",
    "\n",
    "Vamos continuar."
   ]
  },
  {
   "cell_type": "markdown",
   "id": "80ebe507",
   "metadata": {},
   "source": [
    "## Incluindo Cabine"
   ]
  },
  {
   "cell_type": "markdown",
   "id": "eda8f1fe",
   "metadata": {},
   "source": [
    "Lembre-se que muitos passageiros tinham Cabin informações. Cabin é uma característica categórica e deve ser um bom preditor de sobrevivência, porque as pessoas em cabines mais baixas provavelmente tiveram pouco tempo para escapar durante o naufrágio.\n",
    "\n",
    "Vamos codificar a cabine usando vetores one-hot e incluí-la em um modelo. Há tantas cabines desta vez que não vamos imprimir todas. Se você quiser praticar imprimi-los, sinta-se à vontade para editar o código como prática."
   ]
  },
  {
   "cell_type": "code",
   "execution_count": 8,
   "id": "b31c0643",
   "metadata": {},
   "outputs": [
    {
     "name": "stdout",
     "output_type": "stream",
     "text": [
      "135 cabins found\n",
      "\n",
      "Numerical, Sex, Categorical Pclass, Cabin, Log-Loss (cost): 0.46007129627873466\n"
     ]
    }
   ],
   "source": [
    "# Use Pandas to One-Hot encode the Cabin and Pclass categories\n",
    "dataset_with_one_hot = pandas.get_dummies(dataset, columns=[\"Pclass\", \"Cabin\"], drop_first=False)\n",
    "\n",
    "# Find cabin column names\n",
    "cabin_column_names = list(c for c in dataset_with_one_hot.columns if c.startswith(\"Cabin_\"))\n",
    "\n",
    "# Print out how many cabins there were\n",
    "print(len(cabin_column_names), \"cabins found\")\n",
    "\n",
    "# Make a list of features\n",
    "features = [\"Age\", \"SibSp\", \"Parch\", \"Fare\", \"IsFemale\",\n",
    "            \"Pclass_1\", \"Pclass_2\", \"Pclass_3\"] + \\\n",
    "            cabin_column_names\n",
    "\n",
    "# Run the model and print the result\n",
    "loss_cabin_categorical = train_logistic_regression(dataset_with_one_hot, features)\n",
    "\n",
    "print(f\"\\nNumerical, Sex, Categorical Pclass, Cabin, Log-Loss (cost): {loss_cabin_categorical}\")"
   ]
  },
  {
   "cell_type": "markdown",
   "id": "8b2e4733",
   "metadata": {},
   "source": [
    "Esse é o nosso melhor resultado até agora!"
   ]
  },
  {
   "cell_type": "markdown",
   "id": "b5b3a801",
   "metadata": {},
   "source": [
    "## Melhorando o Poder"
   ]
  },
  {
   "cell_type": "markdown",
   "id": "050016fa",
   "metadata": {},
   "source": [
    "Incluir um número muito grande de classes categóricas - como 135 Cabines - geralmente não é a melhor maneira de treinar um modelo. Isso ocorre porque o modelo tem apenas alguns exemplos de cada classe de categoria para aprender.\n",
    "\n",
    "Às vezes, os modelos podem ser aprimorados simplificando os recursos. Cabin provavelmente era útil porque indicava em qual andar do povo titânico provavelmente estava situado: aqueles nos conveses inferiores teriam seus aposentos inundados primeiro.\n",
    "\n",
    "Usar as informações do deck pode ser mais simples do que categorizar as pessoas em Cabines.\n",
    "\n",
    "Vamos simplificar o que rodamos, substituindo as 135 Cabin categorias por uma categoria mais simples Deck, que possui apenas 9 valores: A - G, T e U (Desconhecido)"
   ]
  },
  {
   "cell_type": "code",
   "execution_count": 9,
   "id": "a59752f8",
   "metadata": {},
   "outputs": [
    {
     "name": "stdout",
     "output_type": "stream",
     "text": [
      "Decks:  ['A', 'B', 'C', 'D', 'E', 'F', 'G', 'T', 'U']\n",
      "\n",
      "Simplifying Cabin Into Deck, Log-Loss (cost): 0.45884220743082615\n"
     ]
    }
   ],
   "source": [
    "# We have cabin names, like A31, G45. The letter refers to the deck that\n",
    "# the cabin was on. Extract just the deck and save it to a column. \n",
    "dataset[\"Deck\"] = [c[0] for c in dataset.Cabin]\n",
    "\n",
    "print(\"Decks: \", sorted(dataset.Deck.unique()))\n",
    "\n",
    "# Create one-hot vectors for:\n",
    "# Pclass - the class of ticket. (This could be treated as ordinal or categorical)\n",
    "# Deck - the deck that the cabin was on\n",
    "dataset_with_one_hot = pandas.get_dummies(dataset, columns=[\"Pclass\", \"Deck\"], drop_first=False)\n",
    "\n",
    "# Find the deck names\n",
    "deck_of_cabin_column_names = list(c for c in dataset_with_one_hot.columns if c.startswith(\"Deck_\"))\n",
    " \n",
    "features = [\"Age\", \"IsFemale\", \"SibSp\", \"Parch\", \"Fare\", \n",
    "            \"Pclass_1\", \"Pclass_2\", \"Pclass_3\",\n",
    "            \"Deck_A\", \"Deck_B\", \"Deck_C\", \"Deck_D\", \n",
    "            \"Deck_E\", \"Deck_F\", \"Deck_G\", \"Deck_U\", \"Deck_T\"]\n",
    "\n",
    "loss_deck = train_logistic_regression(dataset_with_one_hot, features)\n",
    "\n",
    "print(f\"\\nSimplifying Cabin Into Deck, Log-Loss (cost): {loss_deck}\")"
   ]
  },
  {
   "cell_type": "markdown",
   "id": "e1f9998e",
   "metadata": {},
   "source": [
    "## Comparando modelos"
   ]
  },
  {
   "cell_type": "markdown",
   "id": "7db627b9",
   "metadata": {},
   "source": [
    "Vamos comparar o loss para estes modelos:"
   ]
  },
  {
   "cell_type": "code",
   "execution_count": 10,
   "id": "71fb05e2",
   "metadata": {},
   "outputs": [
    {
     "data": {
      "text/html": [
       "<div>\n",
       "<style scoped>\n",
       "    .dataframe tbody tr th:only-of-type {\n",
       "        vertical-align: middle;\n",
       "    }\n",
       "\n",
       "    .dataframe tbody tr th {\n",
       "        vertical-align: top;\n",
       "    }\n",
       "\n",
       "    .dataframe thead th {\n",
       "        text-align: right;\n",
       "    }\n",
       "</style>\n",
       "<table border=\"1\" class=\"dataframe\">\n",
       "  <thead>\n",
       "    <tr style=\"text-align: right;\">\n",
       "      <th></th>\n",
       "      <th>Dataset</th>\n",
       "      <th>Log-Loss (Low is better)</th>\n",
       "    </tr>\n",
       "  </thead>\n",
       "  <tbody>\n",
       "    <tr>\n",
       "      <th>0</th>\n",
       "      <td>Numeric Features Only</td>\n",
       "      <td>0.612168</td>\n",
       "    </tr>\n",
       "    <tr>\n",
       "      <th>1</th>\n",
       "      <td>Adding Sex as Binary</td>\n",
       "      <td>0.470714</td>\n",
       "    </tr>\n",
       "    <tr>\n",
       "      <th>2</th>\n",
       "      <td>Treating Pclass as Categorical</td>\n",
       "      <td>0.471711</td>\n",
       "    </tr>\n",
       "    <tr>\n",
       "      <th>3</th>\n",
       "      <td>Using Cabin as Categorical</td>\n",
       "      <td>0.460071</td>\n",
       "    </tr>\n",
       "    <tr>\n",
       "      <th>4</th>\n",
       "      <td>Using Deck rather than Cabin</td>\n",
       "      <td>0.458842</td>\n",
       "    </tr>\n",
       "  </tbody>\n",
       "</table>\n",
       "</div>"
      ],
      "text/plain": [
       "                          Dataset  Log-Loss (Low is better)\n",
       "0           Numeric Features Only                  0.612168\n",
       "1            Adding Sex as Binary                  0.470714\n",
       "2  Treating Pclass as Categorical                  0.471711\n",
       "3      Using Cabin as Categorical                  0.460071\n",
       "4    Using Deck rather than Cabin                  0.458842"
      ]
     },
     "execution_count": 10,
     "metadata": {},
     "output_type": "execute_result"
    }
   ],
   "source": [
    "# Use a dataframe to create a comparison table of metrics\n",
    "# Copy metrics from previous Unit\n",
    "\n",
    "l =[[\"Numeric Features Only\", loss_numerical_only],\n",
    "    [\"Adding Sex as Binary\", loss_binary_categoricals],\n",
    "    [\"Treating Pclass as Categorical\", loss_pclass_categorical],\n",
    "    [\"Using Cabin as Categorical\", loss_cabin_categorical],\n",
    "    [\"Using Deck rather than Cabin\", loss_deck]]\n",
    "\n",
    "pandas.DataFrame(l, columns=[\"Dataset\", \"Log-Loss (Low is better)\"])"
   ]
  },
  {
   "cell_type": "markdown",
   "id": "2bf0a280",
   "metadata": {},
   "source": [
    "Podemos ver que incluir recursos categóricos pode melhorar e prejudicar o funcionamento de um modelo. Muitas vezes, a experimentação é a melhor maneira de encontrar o melhor modelo."
   ]
  },
  {
   "cell_type": "markdown",
   "id": "3e9b3f73",
   "metadata": {},
   "source": [
    "# Resumo"
   ]
  },
  {
   "cell_type": "markdown",
   "id": "442d843e",
   "metadata": {},
   "source": [
    "Nesta unidade você aprendeu como usar a codificação One-Hot para endereçar dados categóricos.\n",
    "\n",
    "Também exploramos como, às vezes, pensar criticamente sobre o problema que você está tentando pode melhorar uma solução melhor do que simplesmente incluir todos os recursos possíveis em um modelo."
   ]
  },
  {
   "cell_type": "code",
   "execution_count": null,
   "id": "6a66f595",
   "metadata": {},
   "outputs": [],
   "source": []
  }
 ],
 "metadata": {
  "kernelspec": {
   "display_name": "Python 3 (ipykernel)",
   "language": "python",
   "name": "python3"
  },
  "language_info": {
   "codemirror_mode": {
    "name": "ipython",
    "version": 3
   },
   "file_extension": ".py",
   "mimetype": "text/x-python",
   "name": "python",
   "nbconvert_exporter": "python",
   "pygments_lexer": "ipython3",
   "version": "3.9.12"
  }
 },
 "nbformat": 4,
 "nbformat_minor": 5
}
