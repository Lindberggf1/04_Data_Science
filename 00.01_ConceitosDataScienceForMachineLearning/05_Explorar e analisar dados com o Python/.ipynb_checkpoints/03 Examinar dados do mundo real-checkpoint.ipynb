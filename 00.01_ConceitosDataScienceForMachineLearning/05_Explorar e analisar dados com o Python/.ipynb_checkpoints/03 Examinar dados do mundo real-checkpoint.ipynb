{
 "cells": [
  {
   "cell_type": "markdown",
   "id": "6debc512",
   "metadata": {},
   "source": [
    "# Explorando dados com Python - dados do mundo real"
   ]
  },
  {
   "cell_type": "markdown",
   "id": "bd59b54b",
   "metadata": {},
   "source": [
    "Da última vez, analisamos as notas dos dados de nossos alunos e investigamos isso visualmente com histogramas e gráficos de caixa. Agora, examinaremos casos mais complexos, descreveremos os dados mais detalhadamente e discutiremos como fazer comparações básicas entre os dados."
   ]
  },
  {
   "cell_type": "markdown",
   "id": "510fb93e",
   "metadata": {},
   "source": [
    "## Distribuições de dados do mundo real"
   ]
  },
  {
   "cell_type": "markdown",
   "id": "00ddb3f6",
   "metadata": {},
   "source": [
    "Da última vez, analisamos as notas dos dados dos nossos alunos e estimamos a partir dessa amostra como seria a população completa de notas. Apenas para atualizar, vamos dar uma olhada nesses dados novamente.\n",
    "\n",
    "Execute o código abaixo para imprimir os dados e fazer um histograma + boxplot que mostre as notas para nossa amostra de alunos."
   ]
  },
  {
   "cell_type": "code",
   "execution_count": 4,
   "id": "8a6adeb9",
   "metadata": {},
   "outputs": [
    {
     "name": "stdout",
     "output_type": "stream",
     "text": [
      "\n",
      "Saved under grades (2).csv\n",
      "         Name  StudyHours  Grade   Pass\n",
      "0         Dan       10.00   50.0  False\n",
      "1       Joann       11.50   50.0  False\n",
      "2       Pedro        9.00   47.0  False\n",
      "3       Rosie       16.00   97.0   True\n",
      "4       Ethan        9.25   49.0  False\n",
      "5       Vicky        1.00    3.0  False\n",
      "6    Frederic       11.50   53.0  False\n",
      "7      Jimmie        9.00   42.0  False\n",
      "8      Rhonda        8.50   26.0  False\n",
      "9    Giovanni       14.50   74.0   True\n",
      "10  Francesca       15.50   82.0   True\n",
      "11      Rajab       13.75   62.0   True\n",
      "12    Naiyana        9.00   37.0  False\n",
      "13       Kian        8.00   15.0  False\n",
      "14      Jenny       15.50   70.0   True\n",
      "15     Jakeem        8.00   27.0  False\n",
      "16     Helena        9.00   36.0  False\n",
      "17      Ismat        6.00   35.0  False\n",
      "18      Anila       10.00   48.0  False\n",
      "19       Skye       12.00   52.0  False\n",
      "20     Daniel       12.50   63.0   True\n",
      "21      Aisha       12.00   64.0   True\n",
      "Minimum:3.00\n",
      "Mean:49.18\n",
      "Median:49.50\n",
      "Mode:50.00\n",
      "Maximum:97.00\n",
      "\n"
     ]
    },
    {
     "name": "stderr",
     "output_type": "stream",
     "text": [
      "C:\\Users\\BlueShift\\AppData\\Local\\Temp\\ipykernel_9776\\4127783611.py:63: UserWarning: Matplotlib is currently using module://matplotlib_inline.backend_inline, which is a non-GUI backend, so cannot show the figure.\n",
      "  fig.show()\n"
     ]
    },
    {
     "data": {
      "image/png": "[encoded data removed]",
      "text/plain": [
       "<Figure size 720x288 with 2 Axes>"
      ]
     },
     "metadata": {
      "needs_background": "light"
     },
     "output_type": "display_data"
    }
   ],
   "source": [
    "import pandas as pd\n",
    "from matplotlib import pyplot as plt\n",
    "\n",
    "# Load data from a text file\n",
    "!python -m wget https://raw.githubusercontent.com/MicrosoftDocs/mslearn-introduction-to-machine-learning/main/Data/ml-basics/grades.csv\n",
    "df_students = pd.read_csv('grades.csv',delimiter=',',header='infer')\n",
    "\n",
    "# Remove any rows with missing data\n",
    "df_students = df_students.dropna(axis=0, how='any')\n",
    "\n",
    "# Calculate who passed, assuming '60' is the grade needed to pass\n",
    "passes  = pd.Series(df_students['Grade'] >= 60)\n",
    "\n",
    "# Save who passed to the Pandas dataframe\n",
    "df_students = pd.concat([df_students, passes.rename(\"Pass\")], axis=1)\n",
    "\n",
    "\n",
    "# Print the result out into this notebook\n",
    "print(df_students)\n",
    "\n",
    "\n",
    "# Create a function that we can re-use\n",
    "def show_distribution(var_data):\n",
    "    '''\n",
    "    This function will make a distribution (graph) and display it\n",
    "    '''\n",
    "\n",
    "    # Get statistics\n",
    "    min_val = var_data.min()\n",
    "    max_val = var_data.max()\n",
    "    mean_val = var_data.mean()\n",
    "    med_val = var_data.median()\n",
    "    mod_val = var_data.mode()[0]\n",
    "\n",
    "    print('Minimum:{:.2f}\\nMean:{:.2f}\\nMedian:{:.2f}\\nMode:{:.2f}\\nMaximum:{:.2f}\\n'.format(min_val,\n",
    "                                                                                            mean_val,\n",
    "                                                                                            med_val,\n",
    "                                                                                            mod_val,\n",
    "                                                                                            max_val))\n",
    "\n",
    "    # Create a figure for 2 subplots (2 rows, 1 column)\n",
    "    fig, ax = plt.subplots(2, 1, figsize = (10,4))\n",
    "\n",
    "    # Plot the histogram   \n",
    "    ax[0].hist(var_data)\n",
    "    ax[0].set_ylabel('Frequency')\n",
    "\n",
    "    # Add lines for the mean, median, and mode\n",
    "    ax[0].axvline(x=min_val, color = 'gray', linestyle='dashed', linewidth = 2)\n",
    "    ax[0].axvline(x=mean_val, color = 'cyan', linestyle='dashed', linewidth = 2)\n",
    "    ax[0].axvline(x=med_val, color = 'red', linestyle='dashed', linewidth = 2)\n",
    "    ax[0].axvline(x=mod_val, color = 'yellow', linestyle='dashed', linewidth = 2)\n",
    "    ax[0].axvline(x=max_val, color = 'gray', linestyle='dashed', linewidth = 2)\n",
    "\n",
    "    # Plot the boxplot   \n",
    "    ax[1].boxplot(var_data, vert=False)\n",
    "    ax[1].set_xlabel('Value')\n",
    "\n",
    "    # Add a title to the Figure\n",
    "    fig.suptitle('Data Distribution')\n",
    "\n",
    "    # Show the figure\n",
    "    fig.show()\n",
    "\n",
    "\n",
    "show_distribution(df_students['Grade'])"
   ]
  },
  {
   "cell_type": "markdown",
   "id": "1b846b8c",
   "metadata": {},
   "source": [
    "Como você deve se lembrar, nossos dados tinham a média e a moda no centro, com os dados espalhados simetricamente a partir daí.\n",
    "\n",
    "Agora vamos dar uma olhada na distribuição dos dados de horas de estudo."
   ]
  },
  {
   "cell_type": "code",
   "execution_count": 5,
   "id": "6a05e9c4",
   "metadata": {},
   "outputs": [
    {
     "name": "stdout",
     "output_type": "stream",
     "text": [
      "Minimum:1.00\n",
      "Mean:10.52\n",
      "Median:10.00\n",
      "Mode:9.00\n",
      "Maximum:16.00\n",
      "\n"
     ]
    },
    {
     "name": "stderr",
     "output_type": "stream",
     "text": [
      "C:\\Users\\BlueShift\\AppData\\Local\\Temp\\ipykernel_9776\\4127783611.py:63: UserWarning: Matplotlib is currently using module://matplotlib_inline.backend_inline, which is a non-GUI backend, so cannot show the figure.\n",
      "  fig.show()\n"
     ]
    },
    {
     "data": {
      "image/png": "[encoded data removed]",
      "text/plain": [
       "<Figure size 720x288 with 2 Axes>"
      ]
     },
     "metadata": {
      "needs_background": "light"
     },
     "output_type": "display_data"
    }
   ],
   "source": [
    "# Get the variable to examine\n",
    "col = df_students['StudyHours']\n",
    "# Call the function\n",
    "show_distribution(col)"
   ]
  },
  {
   "cell_type": "markdown",
   "id": "fcb162a8",
   "metadata": {},
   "source": [
    "A distribuição dos dados de tempo de estudo é significativamente diferente daquela das séries.\n",
    "\n",
    "Observe que os bigodes do gráfico de caixa começam apenas em torno de 6,0, indicando que a grande maioria do primeiro trimestre dos dados está acima desse valor. O mínimo é marcado com um o , indicando que é estatisticamente um valor discrepante - um valor que está significativamente fora do intervalo do resto da distribuição.\n",
    "\n",
    "Outliers podem ocorrer por vários motivos. Talvez um aluno pretendia registrar \"10\" horas de estudo, mas digitou \"1\" e perdeu o \"0\". Ou talvez o aluno fosse anormalmente preguiçoso quando se trata de estudar! De qualquer forma, é uma anomalia estatística que não representa um aluno típico. Vamos ver como fica a distribuição sem ele."
   ]
  },
  {
   "cell_type": "code",
   "execution_count": 6,
   "id": "7c8dddbe",
   "metadata": {},
   "outputs": [
    {
     "name": "stdout",
     "output_type": "stream",
     "text": [
      "Minimum:6.00\n",
      "Mean:10.98\n",
      "Median:10.00\n",
      "Mode:9.00\n",
      "Maximum:16.00\n",
      "\n"
     ]
    },
    {
     "name": "stderr",
     "output_type": "stream",
     "text": [
      "C:\\Users\\BlueShift\\AppData\\Local\\Temp\\ipykernel_9776\\4127783611.py:63: UserWarning: Matplotlib is currently using module://matplotlib_inline.backend_inline, which is a non-GUI backend, so cannot show the figure.\n",
      "  fig.show()\n"
     ]
    },
    {
     "data": {
      "image/png": "[encoded data removed]",
      "text/plain": [
       "<Figure size 720x288 with 2 Axes>"
      ]
     },
     "metadata": {
      "needs_background": "light"
     },
     "output_type": "display_data"
    }
   ],
   "source": [
    "# Get the variable to examine\n",
    "# We will only get students who have studied more than one hour\n",
    "col = df_students[df_students.StudyHours>1]['StudyHours']\n",
    "\n",
    "# Call the function\n",
    "show_distribution(col)"
   ]
  },
  {
   "cell_type": "markdown",
   "id": "9ef04b48",
   "metadata": {},
   "source": [
    "Para fins de aprendizado, acabamos de tratar o valor 1 como um verdadeiro valor discrepante aqui e o excluímos. No mundo real, porém, seria incomum excluir dados nos extremos sem mais justificativas quando o tamanho de nossa amostra é tão pequeno. Isso ocorre porque quanto menor o tamanho da nossa amostra, mais provável é que nossa amostragem seja uma representação ruim de toda a população (aqui, a população significa notas para todos os alunos, não apenas nossos 22). Por exemplo, se amostrarmos o tempo de estudo para outros 1.000 alunos, podemos descobrir que é bastante comum não estudar muito!\n",
    "\n",
    "Quando temos mais dados disponíveis, nossa amostra se torna mais confiável. Isso torna mais fácil considerar valores discrepantes como valores que ficam abaixo ou acima dos percentis dentro dos quais a maioria dos dados se encontra. Por exemplo, o código a seguir usa a função quantil Pandas para excluir observações abaixo do percentil 0,01 (o valor acima do qual residem 99% dos dados)."
   ]
  },
  {
   "cell_type": "code",
   "execution_count": 7,
   "id": "d8d23a30",
   "metadata": {},
   "outputs": [
    {
     "name": "stdout",
     "output_type": "stream",
     "text": [
      "Minimum:6.00\n",
      "Mean:10.98\n",
      "Median:10.00\n",
      "Mode:9.00\n",
      "Maximum:16.00\n",
      "\n"
     ]
    },
    {
     "name": "stderr",
     "output_type": "stream",
     "text": [
      "C:\\Users\\BlueShift\\AppData\\Local\\Temp\\ipykernel_9776\\4127783611.py:63: UserWarning: Matplotlib is currently using module://matplotlib_inline.backend_inline, which is a non-GUI backend, so cannot show the figure.\n",
      "  fig.show()\n"
     ]
    },
    {
     "data": {
      "image/png": "[encoded data removed]",
      "text/plain": [
       "<Figure size 720x288 with 2 Axes>"
      ]
     },
     "metadata": {
      "needs_background": "light"
     },
     "output_type": "display_data"
    }
   ],
   "source": [
    "# calculate the 0.01th percentile\n",
    "q01 = df_students.StudyHours.quantile(0.01)\n",
    "# Get the variable to examine\n",
    "col = df_students[df_students.StudyHours>q01]['StudyHours']\n",
    "# Call the function\n",
    "show_distribution(col)"
   ]
  },
  {
   "cell_type": "markdown",
   "id": "c82dc02e",
   "metadata": {},
   "source": [
    "Dica : Você também pode eliminar valores discrepantes na extremidade superior da distribuição definindo um limite em um valor de percentil alto - por exemplo, você pode usar a função quantil para encontrar o percentil 0,99 abaixo do qual 99% dos dados residem.\n",
    "Com os outliers removidos, o box plot mostra todos os dados dentro dos quatro quartis. Observe que a distribuição não é simétrica como é para os dados de notas - existem alguns alunos com tempos de estudo muito altos, em torno de 16 horas, mas a maior parte dos dados está entre 7 e 13 horas; Os poucos valores extremamente altos puxam a média para o extremo superior da escala.\n",
    "\n",
    "Vejamos a densidade para esta distribuição."
   ]
  },
  {
   "cell_type": "code",
   "execution_count": 8,
   "id": "e6540677",
   "metadata": {},
   "outputs": [
    {
     "data": {
      "image/png": "[encoded data removed]",
      "text/plain": [
       "<Figure size 720x288 with 1 Axes>"
      ]
     },
     "metadata": {
      "needs_background": "light"
     },
     "output_type": "display_data"
    }
   ],
   "source": [
    "def show_density(var_data):\n",
    "    fig = plt.figure(figsize=(10,4))\n",
    "\n",
    "    # Plot density\n",
    "    var_data.plot.density()\n",
    "\n",
    "    # Add titles and labels\n",
    "    plt.title('Data Density')\n",
    "\n",
    "    # Show the mean, median, and mode\n",
    "    plt.axvline(x=var_data.mean(), color = 'cyan', linestyle='dashed', linewidth = 2)\n",
    "    plt.axvline(x=var_data.median(), color = 'red', linestyle='dashed', linewidth = 2)\n",
    "    plt.axvline(x=var_data.mode()[0], color = 'yellow', linestyle='dashed', linewidth = 2)\n",
    "\n",
    "    # Show the figure\n",
    "    plt.show()\n",
    "\n",
    "# Get the density of StudyHours\n",
    "show_density(col)"
   ]
  },
  {
   "cell_type": "markdown",
   "id": "617ba0e9",
   "metadata": {},
   "source": [
    "Esse tipo de distribuição é chamado de assimetria à direita . A massa dos dados está no lado esquerdo da distribuição, criando uma longa cauda à direita devido aos valores no extremo superior; que puxam a média para a direita."
   ]
  },
  {
   "cell_type": "markdown",
   "id": "49bb35fc",
   "metadata": {},
   "source": [
    "## Medidas de variação"
   ]
  },
  {
   "cell_type": "markdown",
   "id": "d8e2304c",
   "metadata": {},
   "source": [
    "Portanto, agora temos uma boa ideia de onde estão as distribuições de dados do meio da série e das horas de estudo. No entanto, há outro aspecto das distribuições que devemos examinar: quanta variabilidade existe nos dados?\n",
    "\n",
    "Estatísticas típicas que medem a variabilidade nos dados incluem:\n",
    "\n",
    " - Alcance : A diferença entre o máximo e o mínimo. Não há função interna para isso, mas é fácil calcular usando as funções min e max .\n",
    " - Variância : A média da diferença quadrada da média. Você pode usar a função var embutida para encontrar isso.\n",
    " - Desvio Padrão : A raiz quadrada da variância. Você pode usar a função std integrada para encontrar isso."
   ]
  },
  {
   "cell_type": "code",
   "execution_count": 9,
   "id": "e57b3d80",
   "metadata": {},
   "outputs": [
    {
     "name": "stdout",
     "output_type": "stream",
     "text": [
      "\n",
      "Grade:\n",
      " - Range: 94.00\n",
      " - Variance: 472.54\n",
      " - Std.Dev: 21.74\n",
      "\n",
      "StudyHours:\n",
      " - Range: 15.00\n",
      " - Variance: 12.16\n",
      " - Std.Dev: 3.49\n"
     ]
    }
   ],
   "source": [
    "for col_name in ['Grade','StudyHours']:\n",
    "    col = df_students[col_name]\n",
    "    rng = col.max() - col.min()\n",
    "    var = col.var()\n",
    "    std = col.std()\n",
    "    print('\\n{}:\\n - Range: {:.2f}\\n - Variance: {:.2f}\\n - Std.Dev: {:.2f}'.format(col_name, rng, var, std))"
   ]
  },
  {
   "cell_type": "markdown",
   "id": "d6db9490",
   "metadata": {},
   "source": [
    "Destas estatísticas, o desvio padrão é geralmente o mais útil. Ele fornece uma medida de variação nos dados na mesma escala que os próprios dados (portanto, pontos de nota para a distribuição Grade e horas para a distribuição StudyHours). Quanto maior o desvio padrão, maior a variância ao comparar os valores da distribuição com a média da distribuição - em outras palavras, os dados são mais dispersos.\n",
    "\n",
    "Ao trabalhar com uma distribuição normal , o desvio padrão trabalha com as características particulares de uma distribuição normal para fornecer uma visão ainda maior. Execute a célula abaixo para ver a relação entre os desvios padrão e os dados na distribuição normal."
   ]
  },
  {
   "cell_type": "code",
   "execution_count": 10,
   "id": "3d50a793",
   "metadata": {},
   "outputs": [
    {
     "data": {
      "image/png": "[encoded data removed]",
      "text/plain": [
       "<Figure size 432x288 with 1 Axes>"
      ]
     },
     "metadata": {
      "needs_background": "light"
     },
     "output_type": "display_data"
    }
   ],
   "source": [
    "import scipy.stats as stats\n",
    "\n",
    "# Get the Grade column\n",
    "col = df_students['Grade']\n",
    "\n",
    "# get the density\n",
    "density = stats.gaussian_kde(col)\n",
    "\n",
    "# Plot the density\n",
    "col.plot.density()\n",
    "\n",
    "# Get the mean and standard deviation\n",
    "s = col.std()\n",
    "m = col.mean()\n",
    "\n",
    "# Annotate 1 stdev\n",
    "x1 = [m-s, m+s]\n",
    "y1 = density(x1)\n",
    "plt.plot(x1,y1, color='magenta')\n",
    "plt.annotate('1 std (68.26%)', (x1[1],y1[1]))\n",
    "\n",
    "# Annotate 2 stdevs\n",
    "x2 = [m-(s*2), m+(s*2)]\n",
    "y2 = density(x2)\n",
    "plt.plot(x2,y2, color='green')\n",
    "plt.annotate('2 std (95.45%)', (x2[1],y2[1]))\n",
    "\n",
    "# Annotate 3 stdevs\n",
    "x3 = [m-(s*3), m+(s*3)]\n",
    "y3 = density(x3)\n",
    "plt.plot(x3,y3, color='orange')\n",
    "plt.annotate('3 std (99.73%)', (x3[1],y3[1]))\n",
    "\n",
    "# Show the location of the mean\n",
    "plt.axvline(col.mean(), color='cyan', linestyle='dashed', linewidth=1)\n",
    "\n",
    "plt.axis('off')\n",
    "\n",
    "plt.show()"
   ]
  },
  {
   "cell_type": "markdown",
   "id": "f24e6131",
   "metadata": {},
   "source": [
    "As linhas horizontais mostram a porcentagem de dados dentro de 1, 2 e 3 desvios padrão da média (mais ou menos).\n",
    "\n",
    "Em qualquer distribuição normal:\n",
    "\n",
    " - Aproximadamente 68,26% dos valores estão dentro de um desvio padrão da média.\n",
    " - Aproximadamente 95,45% dos valores estão dentro de dois desvios padrão da média.\n",
    " - Aproximadamente 99,73% dos valores estão dentro de três desvios padrão da média.\n",
    " \n",
    "Então, como sabemos que a nota média é 49,18, o desvio padrão é 21,74 e a distribuição das notas é aproximadamente normal; podemos calcular que 68,26% dos alunos devem atingir uma nota entre 27,44 e 70,92.\n",
    "\n",
    "As estatísticas descritivas que usamos para entender a distribuição das variáveis ​​dos dados dos alunos são a base da análise estatística; e porque eles são uma parte tão importante da exploração de seus dados, há um método de descrição interno do objeto DataFrame que retorna as principais estatísticas descritivas para todas as colunas numéricas."
   ]
  },
  {
   "cell_type": "code",
   "execution_count": 11,
   "id": "ed1f9dd4",
   "metadata": {},
   "outputs": [
    {
     "data": {
      "text/html": [
       "<div>\n",
       "<style scoped>\n",
       "    .dataframe tbody tr th:only-of-type {\n",
       "        vertical-align: middle;\n",
       "    }\n",
       "\n",
       "    .dataframe tbody tr th {\n",
       "        vertical-align: top;\n",
       "    }\n",
       "\n",
       "    .dataframe thead th {\n",
       "        text-align: right;\n",
       "    }\n",
       "</style>\n",
       "<table border=\"1\" class=\"dataframe\">\n",
       "  <thead>\n",
       "    <tr style=\"text-align: right;\">\n",
       "      <th></th>\n",
       "      <th>StudyHours</th>\n",
       "      <th>Grade</th>\n",
       "    </tr>\n",
       "  </thead>\n",
       "  <tbody>\n",
       "    <tr>\n",
       "      <th>count</th>\n",
       "      <td>22.000000</td>\n",
       "      <td>22.000000</td>\n",
       "    </tr>\n",
       "    <tr>\n",
       "      <th>mean</th>\n",
       "      <td>10.522727</td>\n",
       "      <td>49.181818</td>\n",
       "    </tr>\n",
       "    <tr>\n",
       "      <th>std</th>\n",
       "      <td>3.487144</td>\n",
       "      <td>21.737912</td>\n",
       "    </tr>\n",
       "    <tr>\n",
       "      <th>min</th>\n",
       "      <td>1.000000</td>\n",
       "      <td>3.000000</td>\n",
       "    </tr>\n",
       "    <tr>\n",
       "      <th>25%</th>\n",
       "      <td>9.000000</td>\n",
       "      <td>36.250000</td>\n",
       "    </tr>\n",
       "    <tr>\n",
       "      <th>50%</th>\n",
       "      <td>10.000000</td>\n",
       "      <td>49.500000</td>\n",
       "    </tr>\n",
       "    <tr>\n",
       "      <th>75%</th>\n",
       "      <td>12.375000</td>\n",
       "      <td>62.750000</td>\n",
       "    </tr>\n",
       "    <tr>\n",
       "      <th>max</th>\n",
       "      <td>16.000000</td>\n",
       "      <td>97.000000</td>\n",
       "    </tr>\n",
       "  </tbody>\n",
       "</table>\n",
       "</div>"
      ],
      "text/plain": [
       "       StudyHours      Grade\n",
       "count   22.000000  22.000000\n",
       "mean    10.522727  49.181818\n",
       "std      3.487144  21.737912\n",
       "min      1.000000   3.000000\n",
       "25%      9.000000  36.250000\n",
       "50%     10.000000  49.500000\n",
       "75%     12.375000  62.750000\n",
       "max     16.000000  97.000000"
      ]
     },
     "execution_count": 11,
     "metadata": {},
     "output_type": "execute_result"
    }
   ],
   "source": [
    "df_students.describe()"
   ]
  },
  {
   "cell_type": "markdown",
   "id": "ffac0f87",
   "metadata": {},
   "source": [
    "## Comparando dados"
   ]
  },
  {
   "cell_type": "markdown",
   "id": "cedbb3c7",
   "metadata": {},
   "source": [
    "Agora que você sabe algo sobre a distribuição estatística dos dados em seu conjunto de dados, está pronto para examinar seus dados para identificar quaisquer relações aparentes entre as variáveis.\n",
    "\n",
    "Em primeiro lugar, vamos nos livrar de quaisquer linhas que contenham valores discrepantes para que tenhamos uma amostra representativa de uma classe típica de alunos. Identificamos que a coluna StudyHours contém alguns valores discrepantes com valores extremamente baixos, então removeremos essas linhas."
   ]
  },
  {
   "cell_type": "code",
   "execution_count": 12,
   "id": "d47ae080",
   "metadata": {},
   "outputs": [
    {
     "data": {
      "text/html": [
       "<div>\n",
       "<style scoped>\n",
       "    .dataframe tbody tr th:only-of-type {\n",
       "        vertical-align: middle;\n",
       "    }\n",
       "\n",
       "    .dataframe tbody tr th {\n",
       "        vertical-align: top;\n",
       "    }\n",
       "\n",
       "    .dataframe thead th {\n",
       "        text-align: right;\n",
       "    }\n",
       "</style>\n",
       "<table border=\"1\" class=\"dataframe\">\n",
       "  <thead>\n",
       "    <tr style=\"text-align: right;\">\n",
       "      <th></th>\n",
       "      <th>Name</th>\n",
       "      <th>StudyHours</th>\n",
       "      <th>Grade</th>\n",
       "      <th>Pass</th>\n",
       "    </tr>\n",
       "  </thead>\n",
       "  <tbody>\n",
       "    <tr>\n",
       "      <th>0</th>\n",
       "      <td>Dan</td>\n",
       "      <td>10.00</td>\n",
       "      <td>50.0</td>\n",
       "      <td>False</td>\n",
       "    </tr>\n",
       "    <tr>\n",
       "      <th>1</th>\n",
       "      <td>Joann</td>\n",
       "      <td>11.50</td>\n",
       "      <td>50.0</td>\n",
       "      <td>False</td>\n",
       "    </tr>\n",
       "    <tr>\n",
       "      <th>2</th>\n",
       "      <td>Pedro</td>\n",
       "      <td>9.00</td>\n",
       "      <td>47.0</td>\n",
       "      <td>False</td>\n",
       "    </tr>\n",
       "    <tr>\n",
       "      <th>3</th>\n",
       "      <td>Rosie</td>\n",
       "      <td>16.00</td>\n",
       "      <td>97.0</td>\n",
       "      <td>True</td>\n",
       "    </tr>\n",
       "    <tr>\n",
       "      <th>4</th>\n",
       "      <td>Ethan</td>\n",
       "      <td>9.25</td>\n",
       "      <td>49.0</td>\n",
       "      <td>False</td>\n",
       "    </tr>\n",
       "    <tr>\n",
       "      <th>6</th>\n",
       "      <td>Frederic</td>\n",
       "      <td>11.50</td>\n",
       "      <td>53.0</td>\n",
       "      <td>False</td>\n",
       "    </tr>\n",
       "    <tr>\n",
       "      <th>7</th>\n",
       "      <td>Jimmie</td>\n",
       "      <td>9.00</td>\n",
       "      <td>42.0</td>\n",
       "      <td>False</td>\n",
       "    </tr>\n",
       "    <tr>\n",
       "      <th>8</th>\n",
       "      <td>Rhonda</td>\n",
       "      <td>8.50</td>\n",
       "      <td>26.0</td>\n",
       "      <td>False</td>\n",
       "    </tr>\n",
       "    <tr>\n",
       "      <th>9</th>\n",
       "      <td>Giovanni</td>\n",
       "      <td>14.50</td>\n",
       "      <td>74.0</td>\n",
       "      <td>True</td>\n",
       "    </tr>\n",
       "    <tr>\n",
       "      <th>10</th>\n",
       "      <td>Francesca</td>\n",
       "      <td>15.50</td>\n",
       "      <td>82.0</td>\n",
       "      <td>True</td>\n",
       "    </tr>\n",
       "    <tr>\n",
       "      <th>11</th>\n",
       "      <td>Rajab</td>\n",
       "      <td>13.75</td>\n",
       "      <td>62.0</td>\n",
       "      <td>True</td>\n",
       "    </tr>\n",
       "    <tr>\n",
       "      <th>12</th>\n",
       "      <td>Naiyana</td>\n",
       "      <td>9.00</td>\n",
       "      <td>37.0</td>\n",
       "      <td>False</td>\n",
       "    </tr>\n",
       "    <tr>\n",
       "      <th>13</th>\n",
       "      <td>Kian</td>\n",
       "      <td>8.00</td>\n",
       "      <td>15.0</td>\n",
       "      <td>False</td>\n",
       "    </tr>\n",
       "    <tr>\n",
       "      <th>14</th>\n",
       "      <td>Jenny</td>\n",
       "      <td>15.50</td>\n",
       "      <td>70.0</td>\n",
       "      <td>True</td>\n",
       "    </tr>\n",
       "    <tr>\n",
       "      <th>15</th>\n",
       "      <td>Jakeem</td>\n",
       "      <td>8.00</td>\n",
       "      <td>27.0</td>\n",
       "      <td>False</td>\n",
       "    </tr>\n",
       "    <tr>\n",
       "      <th>16</th>\n",
       "      <td>Helena</td>\n",
       "      <td>9.00</td>\n",
       "      <td>36.0</td>\n",
       "      <td>False</td>\n",
       "    </tr>\n",
       "    <tr>\n",
       "      <th>17</th>\n",
       "      <td>Ismat</td>\n",
       "      <td>6.00</td>\n",
       "      <td>35.0</td>\n",
       "      <td>False</td>\n",
       "    </tr>\n",
       "    <tr>\n",
       "      <th>18</th>\n",
       "      <td>Anila</td>\n",
       "      <td>10.00</td>\n",
       "      <td>48.0</td>\n",
       "      <td>False</td>\n",
       "    </tr>\n",
       "    <tr>\n",
       "      <th>19</th>\n",
       "      <td>Skye</td>\n",
       "      <td>12.00</td>\n",
       "      <td>52.0</td>\n",
       "      <td>False</td>\n",
       "    </tr>\n",
       "    <tr>\n",
       "      <th>20</th>\n",
       "      <td>Daniel</td>\n",
       "      <td>12.50</td>\n",
       "      <td>63.0</td>\n",
       "      <td>True</td>\n",
       "    </tr>\n",
       "    <tr>\n",
       "      <th>21</th>\n",
       "      <td>Aisha</td>\n",
       "      <td>12.00</td>\n",
       "      <td>64.0</td>\n",
       "      <td>True</td>\n",
       "    </tr>\n",
       "  </tbody>\n",
       "</table>\n",
       "</div>"
      ],
      "text/plain": [
       "         Name  StudyHours  Grade   Pass\n",
       "0         Dan       10.00   50.0  False\n",
       "1       Joann       11.50   50.0  False\n",
       "2       Pedro        9.00   47.0  False\n",
       "3       Rosie       16.00   97.0   True\n",
       "4       Ethan        9.25   49.0  False\n",
       "6    Frederic       11.50   53.0  False\n",
       "7      Jimmie        9.00   42.0  False\n",
       "8      Rhonda        8.50   26.0  False\n",
       "9    Giovanni       14.50   74.0   True\n",
       "10  Francesca       15.50   82.0   True\n",
       "11      Rajab       13.75   62.0   True\n",
       "12    Naiyana        9.00   37.0  False\n",
       "13       Kian        8.00   15.0  False\n",
       "14      Jenny       15.50   70.0   True\n",
       "15     Jakeem        8.00   27.0  False\n",
       "16     Helena        9.00   36.0  False\n",
       "17      Ismat        6.00   35.0  False\n",
       "18      Anila       10.00   48.0  False\n",
       "19       Skye       12.00   52.0  False\n",
       "20     Daniel       12.50   63.0   True\n",
       "21      Aisha       12.00   64.0   True"
      ]
     },
     "execution_count": 12,
     "metadata": {},
     "output_type": "execute_result"
    }
   ],
   "source": [
    "df_sample = df_students[df_students['StudyHours']>1]\n",
    "df_sample"
   ]
  },
  {
   "cell_type": "markdown",
   "id": "c0858e4b",
   "metadata": {},
   "source": [
    "## Comparando variáveis numéricas e categóricas"
   ]
  },
  {
   "cell_type": "markdown",
   "id": "110ae068",
   "metadata": {},
   "source": [
    "Os dados incluem duas variáveis ​​numéricas ( StudyHours e Grade ) e duas variáveis ​​categóricas ( Name e Pass ). Vamos começar comparando a coluna numérica StudyHours com a coluna categórica Pass para ver se há uma relação aparente entre o número de horas estudadas e uma nota de aprovação.\n",
    "\n",
    "Para fazer essa comparação, vamos criar gráficos de caixa mostrando a distribuição de StudyHours para cada valor de passagem possível (verdadeiro e falso)."
   ]
  },
  {
   "cell_type": "code",
   "execution_count": 13,
   "id": "8f18118c",
   "metadata": {},
   "outputs": [
    {
     "data": {
      "text/plain": [
       "<AxesSubplot:title={'center':'StudyHours'}, xlabel='Pass'>"
      ]
     },
     "execution_count": 13,
     "metadata": {},
     "output_type": "execute_result"
    },
    {
     "data": {
      "image/png": "[encoded data removed]",
      "text/plain": [
       "<Figure size 576x360 with 1 Axes>"
      ]
     },
     "metadata": {
      "needs_background": "light"
     },
     "output_type": "display_data"
    }
   ],
   "source": [
    "df_sample.boxplot(column='StudyHours', by='Pass', figsize=(8,5))"
   ]
  },
  {
   "cell_type": "markdown",
   "id": "a6b4743f",
   "metadata": {},
   "source": [
    "Comparando as distribuições StudyHours, é imediatamente aparente (se não particularmente surpreendente) que os alunos que passaram no curso tendiam a estudar por mais horas do que os alunos que não o fizeram. Portanto, se você quiser prever se um aluno provavelmente passará ou não no curso, a quantidade de tempo que ele passará estudando pode ser um bom recurso preditivo."
   ]
  },
  {
   "cell_type": "markdown",
   "id": "b86a169b",
   "metadata": {},
   "source": [
    "## Comparando variáveis numéricas"
   ]
  },
  {
   "cell_type": "markdown",
   "id": "5ea87096",
   "metadata": {},
   "source": [
    "Agora vamos comparar duas variáveis ​​numéricas. Começaremos criando um gráfico de barras que mostra as notas e as horas de estudo."
   ]
  },
  {
   "cell_type": "code",
   "execution_count": 14,
   "id": "a7e7149a",
   "metadata": {},
   "outputs": [
    {
     "data": {
      "text/plain": [
       "<AxesSubplot:xlabel='Name'>"
      ]
     },
     "execution_count": 14,
     "metadata": {},
     "output_type": "execute_result"
    },
    {
     "data": {
      "image/png": "[encoded data removed]",
      "text/plain": [
       "<Figure size 576x360 with 1 Axes>"
      ]
     },
     "metadata": {
      "needs_background": "light"
     },
     "output_type": "display_data"
    }
   ],
   "source": [
    "# Create a bar plot of name vs grade and study hours\n",
    "df_sample.plot(x='Name', y=['Grade','StudyHours'], kind='bar', figsize=(8,5))"
   ]
  },
  {
   "cell_type": "markdown",
   "id": "9490a4d6",
   "metadata": {},
   "source": [
    "O gráfico mostra barras para notas e horas de estudo para cada aluno; mas não é fácil comparar porque os valores estão em escalas diferentes. As notas são medidas em notas e variam de 3 a 97; enquanto o tempo de estudo é medido em horas e varia de 1 a 16.\n",
    "\n",
    "Uma técnica comum ao lidar com dados numéricos em diferentes escalas é normalizar os dados para que os valores mantenham sua distribuição proporcional, mas sejam medidos na mesma escala. Para fazer isso, usaremos uma técnica chamada escala MinMax que distribui os valores proporcionalmente em uma escala de 0 a 1. Você pode escrever o código para aplicar essa transformação; mas a biblioteca Scikit-Learn fornece um scaler para fazer isso por você."
   ]
  },
  {
   "cell_type": "code",
   "execution_count": 15,
   "id": "7abb8c8d",
   "metadata": {},
   "outputs": [
    {
     "data": {
      "text/plain": [
       "<AxesSubplot:xlabel='Name'>"
      ]
     },
     "execution_count": 15,
     "metadata": {},
     "output_type": "execute_result"
    },
    {
     "data": {
      "image/png": "[encoded data removed]",
      "text/plain": [
       "<Figure size 576x360 with 1 Axes>"
      ]
     },
     "metadata": {
      "needs_background": "light"
     },
     "output_type": "display_data"
    }
   ],
   "source": [
    "from sklearn.preprocessing import MinMaxScaler\n",
    "\n",
    "# Get a scaler object\n",
    "scaler = MinMaxScaler()\n",
    "\n",
    "# Create a new dataframe for the scaled values\n",
    "df_normalized = df_sample[['Name', 'Grade', 'StudyHours']].copy()\n",
    "\n",
    "# Normalize the numeric columns\n",
    "df_normalized[['Grade','StudyHours']] = scaler.fit_transform(df_normalized[['Grade','StudyHours']])\n",
    "\n",
    "# Plot the normalized values\n",
    "df_normalized.plot(x='Name', y=['Grade','StudyHours'], kind='bar', figsize=(8,5))"
   ]
  },
  {
   "cell_type": "markdown",
   "id": "f31339b3",
   "metadata": {},
   "source": [
    "Com os dados normalizados, é mais fácil ver uma relação aparente entre nota e tempo de estudo. Não é uma correspondência exata, mas definitivamente parece que os alunos com notas mais altas tendem a estudar mais.\n",
    "\n",
    "Portanto, parece haver uma correlação entre o tempo de estudo e a nota; e, de fato, há uma medida de correlação estatística que podemos usar para quantificar a relação entre essas colunas."
   ]
  },
  {
   "cell_type": "code",
   "execution_count": 16,
   "id": "11bbbccd",
   "metadata": {},
   "outputs": [
    {
     "data": {
      "text/plain": [
       "0.9117666413789677"
      ]
     },
     "execution_count": 16,
     "metadata": {},
     "output_type": "execute_result"
    }
   ],
   "source": [
    "df_normalized.Grade.corr(df_normalized.StudyHours)"
   ]
  },
  {
   "cell_type": "markdown",
   "id": "21d1ce75",
   "metadata": {},
   "source": [
    "A estatística de correlação é um valor entre -1 e 1 que indica a força de um relacionamento. Valores acima de 0 indicam correlação positiva (valores altos de uma variável tendem a coincidir com valores altos da outra), enquanto valores abaixo de 0 indicam correlação negativa (valores altos de uma variável tendem a coincidir com valores baixos da outra). Neste caso, o valor de correlação é próximo de 1; mostrando uma correlação fortemente positiva entre o tempo de estudo e a nota.\n",
    "\n",
    "Nota : Os cientistas de dados costumam citar a máxima \" correlação não é causa \". Em outras palavras, por mais tentador que seja, você não deve interpretar a correlação estatística como explicando por que um dos valores é alto. No caso dos dados dos alunos, as estatísticas demonstram que os alunos com notas altas tendem a ter também grandes quantidades de tempo de estudo; mas não é o mesmo que provar que tiraram notas altas porque estudaram muito. A estatística também poderia ser usada como evidência para apoiar a conclusão absurda de que os alunos estudaram muito porque suas notas seriam altas.\n",
    "Outra maneira de visualizar a correlação aparente entre duas colunas numéricas é usar um gráfico de dispersão ."
   ]
  },
  {
   "cell_type": "code",
   "execution_count": 17,
   "id": "c5e9a1d0",
   "metadata": {},
   "outputs": [
    {
     "data": {
      "text/plain": [
       "<AxesSubplot:title={'center':'Study Time vs Grade'}, xlabel='StudyHours', ylabel='Grade'>"
      ]
     },
     "execution_count": 17,
     "metadata": {},
     "output_type": "execute_result"
    },
    {
     "data": {
      "image/png": "[encoded data removed]",
      "text/plain": [
       "<Figure size 432x288 with 1 Axes>"
      ]
     },
     "metadata": {
      "needs_background": "light"
     },
     "output_type": "display_data"
    }
   ],
   "source": [
    "# Create a scatter plot\n",
    "df_sample.plot.scatter(title='Study Time vs Grade', x='StudyHours', y='Grade')"
   ]
  },
  {
   "cell_type": "markdown",
   "id": "8af3761f",
   "metadata": {},
   "source": [
    "Mais uma vez, parece que há um padrão discernível em que os alunos que estudaram mais horas são também os alunos que obtiveram as notas mais altas.\n",
    "\n",
    "Podemos ver isso mais claramente adicionando uma linha de regressão (ou uma linha de melhor ajuste ) ao gráfico que mostra a tendência geral nos dados. Para fazer isso, usaremos uma técnica estatística chamada regressão por mínimos quadrados .\n",
    "\n",
    "Aviso - matemática à frente!Lembre-se de quando você estava aprendendo a resolver equações lineares na escola e lembre-se de que a forma de interceptação de inclinação de uma equação linear se parece com isso: \n",
    "S = mx + b\n",
    " Nesta equação, y e x são as variáveis ​​coordenadas, m é a inclinação da linha e b é a interseção y (onde a linha passa pelo eixo Y).No caso de nosso gráfico de dispersão para os dados de nossos alunos, já temos nossos valores para x ( StudyHours ) e y ( Grade ), então precisamos apenas calcular a interceptação e a inclinação da linha reta que fica mais próxima desses pontos. Em seguida, podemos formar uma equação linear que calcula um novo valor de y nessa linha para cada um de nossos valores de x ( StudyHours ) - para evitar confusão, chamaremos esse novo valor de y de f(x) (porque é a saída de um equação função baseada em x ) . A diferença entre o original y ( Grau) e o valor de f(x) é o erro entre nossa linha de regressão e a nota real alcançada pelo aluno. Nosso objetivo é calcular a inclinação e a interceptação para uma linha com o menor erro geral.Especificamente, definimos o erro geral tomando o erro para cada ponto, elevando-o ao quadrado e somando todos os erros ao quadrado. A linha de melhor ajuste é a linha que nos dá o menor valor para a soma dos erros quadrados – daí o nome regressão dos mínimos quadrados .\n",
    "Felizmente, você não precisa codificar o cálculo de regressão você mesmo - o pacote SciPy inclui uma classe de estatísticas que fornece um método linregress para fazer o trabalho duro para você. Isso retorna (entre outras coisas) os coeficientes necessários para a equação de inclinação - inclinação ( m ) e interceptação ( b ) com base em um determinado par de amostras de variáveis ​​que você deseja comparar."
   ]
  },
  {
   "cell_type": "code",
   "execution_count": 18,
   "id": "85801d86",
   "metadata": {},
   "outputs": [
    {
     "name": "stdout",
     "output_type": "stream",
     "text": [
      "slope: 6.3134\n",
      "y-intercept: -17.9164\n",
      "so...\n",
      " f(x) = 6.3134x + -17.9164\n"
     ]
    },
    {
     "data": {
      "image/png": "[encoded data removed]",
      "text/plain": [
       "<Figure size 432x288 with 1 Axes>"
      ]
     },
     "metadata": {
      "needs_background": "light"
     },
     "output_type": "display_data"
    }
   ],
   "source": [
    "from scipy import stats\n",
    "\n",
    "#\n",
    "df_regression = df_sample[['Grade', 'StudyHours']].copy()\n",
    "\n",
    "# Get the regression slope and intercept\n",
    "m, b, r, p, se = stats.linregress(df_regression['StudyHours'], df_regression['Grade'])\n",
    "print('slope: {:.4f}\\ny-intercept: {:.4f}'.format(m,b))\n",
    "print('so...\\n f(x) = {:.4f}x + {:.4f}'.format(m,b))\n",
    "\n",
    "# Use the function (mx + b) to calculate f(x) for each x (StudyHours) value\n",
    "df_regression['fx'] = (m * df_regression['StudyHours']) + b\n",
    "\n",
    "# Calculate the error between f(x) and the actual y (Grade) value\n",
    "df_regression['error'] = df_regression['fx'] - df_regression['Grade']\n",
    "\n",
    "# Create a scatter plot of Grade vs Salary\n",
    "df_regression.plot.scatter(x='StudyHours', y='Grade')\n",
    "\n",
    "# Plot the regression line\n",
    "plt.plot(df_regression['StudyHours'],df_regression['fx'], color='cyan')\n",
    "\n",
    "# Display the plot\n",
    "plt.show()"
   ]
  },
  {
   "cell_type": "markdown",
   "id": "7459f208",
   "metadata": {},
   "source": [
    "Observe que desta vez, o código plotou duas coisas distintas - o gráfico de dispersão das horas e notas de estudo da amostra é plotado como antes e, em seguida, uma linha de melhor ajuste com base nos coeficientes de regressão dos mínimos quadrados é plotada.\n",
    "\n",
    "Os coeficientes de inclinação e interceptação calculados para a linha de regressão são mostrados acima do gráfico.\n",
    "\n",
    "A linha é baseada nos valores de f (x) calculados para cada valor de StudyHours . Execute a seguinte célula para ver uma tabela que inclui os seguintes valores:\n",
    "\n",
    " - As horas de estudo para cada aluno.\n",
    " - A nota alcançada por cada aluno.\n",
    " - O valor de f(x) calculado usando os coeficientes da linha de regressão.\n",
    " - O erro entre o valor calculado de f(x) e o valor real do Grau .\n",
    " \n",
    "Alguns dos erros, particularmente nos extremos, e bastante grandes (até mais de 17,5 pontos de nota); mas em geral, a linha está bem próxima das notas reais."
   ]
  },
  {
   "cell_type": "code",
   "execution_count": 19,
   "id": "8c956f95",
   "metadata": {},
   "outputs": [
    {
     "data": {
      "text/html": [
       "<div>\n",
       "<style scoped>\n",
       "    .dataframe tbody tr th:only-of-type {\n",
       "        vertical-align: middle;\n",
       "    }\n",
       "\n",
       "    .dataframe tbody tr th {\n",
       "        vertical-align: top;\n",
       "    }\n",
       "\n",
       "    .dataframe thead th {\n",
       "        text-align: right;\n",
       "    }\n",
       "</style>\n",
       "<table border=\"1\" class=\"dataframe\">\n",
       "  <thead>\n",
       "    <tr style=\"text-align: right;\">\n",
       "      <th></th>\n",
       "      <th>StudyHours</th>\n",
       "      <th>Grade</th>\n",
       "      <th>fx</th>\n",
       "      <th>error</th>\n",
       "    </tr>\n",
       "  </thead>\n",
       "  <tbody>\n",
       "    <tr>\n",
       "      <th>0</th>\n",
       "      <td>10.00</td>\n",
       "      <td>50.0</td>\n",
       "      <td>45.217846</td>\n",
       "      <td>-4.782154</td>\n",
       "    </tr>\n",
       "    <tr>\n",
       "      <th>1</th>\n",
       "      <td>11.50</td>\n",
       "      <td>50.0</td>\n",
       "      <td>54.687985</td>\n",
       "      <td>4.687985</td>\n",
       "    </tr>\n",
       "    <tr>\n",
       "      <th>2</th>\n",
       "      <td>9.00</td>\n",
       "      <td>47.0</td>\n",
       "      <td>38.904421</td>\n",
       "      <td>-8.095579</td>\n",
       "    </tr>\n",
       "    <tr>\n",
       "      <th>3</th>\n",
       "      <td>16.00</td>\n",
       "      <td>97.0</td>\n",
       "      <td>83.098400</td>\n",
       "      <td>-13.901600</td>\n",
       "    </tr>\n",
       "    <tr>\n",
       "      <th>4</th>\n",
       "      <td>9.25</td>\n",
       "      <td>49.0</td>\n",
       "      <td>40.482777</td>\n",
       "      <td>-8.517223</td>\n",
       "    </tr>\n",
       "    <tr>\n",
       "      <th>6</th>\n",
       "      <td>11.50</td>\n",
       "      <td>53.0</td>\n",
       "      <td>54.687985</td>\n",
       "      <td>1.687985</td>\n",
       "    </tr>\n",
       "    <tr>\n",
       "      <th>7</th>\n",
       "      <td>9.00</td>\n",
       "      <td>42.0</td>\n",
       "      <td>38.904421</td>\n",
       "      <td>-3.095579</td>\n",
       "    </tr>\n",
       "    <tr>\n",
       "      <th>8</th>\n",
       "      <td>8.50</td>\n",
       "      <td>26.0</td>\n",
       "      <td>35.747708</td>\n",
       "      <td>9.747708</td>\n",
       "    </tr>\n",
       "    <tr>\n",
       "      <th>9</th>\n",
       "      <td>14.50</td>\n",
       "      <td>74.0</td>\n",
       "      <td>73.628262</td>\n",
       "      <td>-0.371738</td>\n",
       "    </tr>\n",
       "    <tr>\n",
       "      <th>10</th>\n",
       "      <td>15.50</td>\n",
       "      <td>82.0</td>\n",
       "      <td>79.941687</td>\n",
       "      <td>-2.058313</td>\n",
       "    </tr>\n",
       "    <tr>\n",
       "      <th>11</th>\n",
       "      <td>13.75</td>\n",
       "      <td>62.0</td>\n",
       "      <td>68.893193</td>\n",
       "      <td>6.893193</td>\n",
       "    </tr>\n",
       "    <tr>\n",
       "      <th>12</th>\n",
       "      <td>9.00</td>\n",
       "      <td>37.0</td>\n",
       "      <td>38.904421</td>\n",
       "      <td>1.904421</td>\n",
       "    </tr>\n",
       "    <tr>\n",
       "      <th>13</th>\n",
       "      <td>8.00</td>\n",
       "      <td>15.0</td>\n",
       "      <td>32.590995</td>\n",
       "      <td>17.590995</td>\n",
       "    </tr>\n",
       "    <tr>\n",
       "      <th>14</th>\n",
       "      <td>15.50</td>\n",
       "      <td>70.0</td>\n",
       "      <td>79.941687</td>\n",
       "      <td>9.941687</td>\n",
       "    </tr>\n",
       "    <tr>\n",
       "      <th>15</th>\n",
       "      <td>8.00</td>\n",
       "      <td>27.0</td>\n",
       "      <td>32.590995</td>\n",
       "      <td>5.590995</td>\n",
       "    </tr>\n",
       "    <tr>\n",
       "      <th>16</th>\n",
       "      <td>9.00</td>\n",
       "      <td>36.0</td>\n",
       "      <td>38.904421</td>\n",
       "      <td>2.904421</td>\n",
       "    </tr>\n",
       "    <tr>\n",
       "      <th>17</th>\n",
       "      <td>6.00</td>\n",
       "      <td>35.0</td>\n",
       "      <td>19.964144</td>\n",
       "      <td>-15.035856</td>\n",
       "    </tr>\n",
       "    <tr>\n",
       "      <th>18</th>\n",
       "      <td>10.00</td>\n",
       "      <td>48.0</td>\n",
       "      <td>45.217846</td>\n",
       "      <td>-2.782154</td>\n",
       "    </tr>\n",
       "    <tr>\n",
       "      <th>19</th>\n",
       "      <td>12.00</td>\n",
       "      <td>52.0</td>\n",
       "      <td>57.844698</td>\n",
       "      <td>5.844698</td>\n",
       "    </tr>\n",
       "    <tr>\n",
       "      <th>20</th>\n",
       "      <td>12.50</td>\n",
       "      <td>63.0</td>\n",
       "      <td>61.001410</td>\n",
       "      <td>-1.998590</td>\n",
       "    </tr>\n",
       "    <tr>\n",
       "      <th>21</th>\n",
       "      <td>12.00</td>\n",
       "      <td>64.0</td>\n",
       "      <td>57.844698</td>\n",
       "      <td>-6.155302</td>\n",
       "    </tr>\n",
       "  </tbody>\n",
       "</table>\n",
       "</div>"
      ],
      "text/plain": [
       "    StudyHours  Grade         fx      error\n",
       "0        10.00   50.0  45.217846  -4.782154\n",
       "1        11.50   50.0  54.687985   4.687985\n",
       "2         9.00   47.0  38.904421  -8.095579\n",
       "3        16.00   97.0  83.098400 -13.901600\n",
       "4         9.25   49.0  40.482777  -8.517223\n",
       "6        11.50   53.0  54.687985   1.687985\n",
       "7         9.00   42.0  38.904421  -3.095579\n",
       "8         8.50   26.0  35.747708   9.747708\n",
       "9        14.50   74.0  73.628262  -0.371738\n",
       "10       15.50   82.0  79.941687  -2.058313\n",
       "11       13.75   62.0  68.893193   6.893193\n",
       "12        9.00   37.0  38.904421   1.904421\n",
       "13        8.00   15.0  32.590995  17.590995\n",
       "14       15.50   70.0  79.941687   9.941687\n",
       "15        8.00   27.0  32.590995   5.590995\n",
       "16        9.00   36.0  38.904421   2.904421\n",
       "17        6.00   35.0  19.964144 -15.035856\n",
       "18       10.00   48.0  45.217846  -2.782154\n",
       "19       12.00   52.0  57.844698   5.844698\n",
       "20       12.50   63.0  61.001410  -1.998590\n",
       "21       12.00   64.0  57.844698  -6.155302"
      ]
     },
     "execution_count": 19,
     "metadata": {},
     "output_type": "execute_result"
    }
   ],
   "source": [
    "# Show the original x,y values, the f(x) value, and the error\n",
    "df_regression[['StudyHours', 'Grade', 'fx', 'error']]"
   ]
  },
  {
   "cell_type": "markdown",
   "id": "9aa2ff12",
   "metadata": {},
   "source": [
    "## Usando os coeficientes de regressão para previsão"
   ]
  },
  {
   "cell_type": "markdown",
   "id": "262841ce",
   "metadata": {},
   "source": [
    "Agora que você tem os coeficientes de regressão para a relação tempo de estudo e nota, você pode usá-los em uma função para estimar a nota esperada para uma determinada quantidade de estudo."
   ]
  },
  {
   "cell_type": "code",
   "execution_count": 20,
   "id": "5daa11da",
   "metadata": {},
   "outputs": [
    {
     "name": "stdout",
     "output_type": "stream",
     "text": [
      "Studying for 14 hours per week may result in a grade of 70\n"
     ]
    }
   ],
   "source": [
    "# Define a function based on our regression coefficients\n",
    "def f(x):\n",
    "    m = 6.3134\n",
    "    b = -17.9164\n",
    "    return m*x + b\n",
    "\n",
    "study_time = 14\n",
    "\n",
    "# Get f(x) for study time\n",
    "prediction = f(study_time)\n",
    "\n",
    "# Grade can't be less than 0 or more than 100\n",
    "expected_grade = max(0,min(100,prediction))\n",
    "\n",
    "#Print the estimated grade\n",
    "print ('Studying for {} hours per week may result in a grade of {:.0f}'.format(study_time, expected_grade))"
   ]
  },
  {
   "cell_type": "markdown",
   "id": "6c600427",
   "metadata": {},
   "source": [
    "Assim, ao aplicar estatísticas a dados de amostra, você determinou uma relação entre o tempo de estudo e a nota; e encapsulado esse relacionamento em uma função geral que pode ser usada para prever uma nota para uma determinada quantidade de tempo de estudo.\n",
    "\n",
    "Essa técnica é de fato a premissa básica do aprendizado de máquina. Você pode pegar um conjunto de dados de amostra que inclui um ou mais recursos (neste caso, o número de horas estudadas) e um valor de rótulo conhecido (neste caso, a nota alcançada) e usar os dados de amostra para derivar uma função que calcula valores de rótulo previstos para qualquer conjunto de recursos."
   ]
  },
  {
   "cell_type": "markdown",
   "id": "0d07627c",
   "metadata": {},
   "source": [
    "# Resumo"
   ]
  },
  {
   "cell_type": "markdown",
   "id": "1271a43c",
   "metadata": {},
   "source": [
    "Aqui nós vimos:\n",
    "\n",
    " 1. O que é um outlier e como removê-lo\n",
    " 2. Como os dados podem ser distorcidos\n",
    " 3. Como olhar para a disseminação de dados\n",
    " 4. Maneiras básicas de comparar variáveis, como notas e tempo de estudo"
   ]
  },
  {
   "cell_type": "markdown",
   "id": "23c50529",
   "metadata": {},
   "source": [
    "# Leitura adicional"
   ]
  },
  {
   "cell_type": "markdown",
   "id": "46e88c41",
   "metadata": {},
   "source": [
    "Para saber mais sobre os pacotes Python explorados neste notebook, consulte a seguinte documentação:\n",
    "\n",
    "NumPyName: https://numpy.org/doc/stable/\n",
    "Pandas : https://pandas.pydata.org/pandas-docs/stable/\n",
    "Matplotlib : https://matplotlib.org/contents.html"
   ]
  }
 ],
 "metadata": {
  "kernelspec": {
   "display_name": "Python 3 (ipykernel)",
   "language": "python",
   "name": "python3"
  },
  "language_info": {
   "codemirror_mode": {
    "name": "ipython",
    "version": 3
   },
   "file_extension": ".py",
   "mimetype": "text/x-python",
   "name": "python",
   "nbconvert_exporter": "python",
   "pygments_lexer": "ipython3",
   "version": "3.9.12"
  }
 },
 "nbformat": 4,
 "nbformat_minor": 5
}
