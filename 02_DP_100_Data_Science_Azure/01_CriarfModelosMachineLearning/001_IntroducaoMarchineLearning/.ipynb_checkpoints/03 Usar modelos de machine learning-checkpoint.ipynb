{
 "cells": [
  {
   "cell_type": "markdown",
   "id": "11c09ea8",
   "metadata": {},
   "source": [
    "Exercício: usando um modelo treinado em novos dados\n",
    "Na Unidade 3, criamos um modelo básico que nos permite encontrar a relação entre o tamanho do arreio de um cão e o tamanho da bota. Mostramos como esse modelo poderia ser usado para fazer uma previsão sobre um novo cão nunca visto.\n",
    "\n",
    "É comum construir, treinar e usar um modelo enquanto estamos aprendendo sobre aprendizado de máquina, mas no mundo real não queremos treinar o modelo toda vez que queremos fazer uma previsão.\n",
    "\n",
    "Considere nosso cenário de loja de equipamentos para cães de avalanche:\n",
    "\n",
    "Queremos treinar o modelo apenas uma vez e, em seguida, carregar esse modelo no servidor que executa nossa loja online.\n",
    "Embora o modelo seja treinado em um conjunto de dados que baixamos da Internet, na verdade queremos usá -lo para estimar o tamanho da inicialização dos cães de nossos clientes que não estão nesse conjunto de dados!\n",
    "Como podemos fazer isso?\n",
    "\n",
    "Aqui iremos:\n",
    "\n",
    "Crie um modelo básico\n",
    "Salve-o em disco\n",
    "Carregue-o do disco\n",
    "Use-o para fazer previsões sobre um cão que não estava no conjunto de dados de treinamento.\n",
    "Carregar o conjunto de dados\n",
    "Vamos começar abrindo o conjunto de dados do arquivo"
   ]
  },
  {
   "cell_type": "code",
   "execution_count": 1,
   "id": "d5a062d0",
   "metadata": {},
   "outputs": [
    {
     "name": "stdout",
     "output_type": "stream",
     "text": [
      "Requirement already satisfied: statsmodels in c:\\users\\lindb\\anaconda3\\lib\\site-packages (0.12.2)\n",
      "Requirement already satisfied: numpy>=1.15 in c:\\users\\lindb\\anaconda3\\lib\\site-packages (from statsmodels) (1.20.1)\n",
      "Requirement already satisfied: scipy>=1.1 in c:\\users\\lindb\\anaconda3\\lib\\site-packages (from statsmodels) (1.6.2)\n",
      "Requirement already satisfied: pandas>=0.21 in c:\\users\\lindb\\anaconda3\\lib\\site-packages (from statsmodels) (1.2.4)\n",
      "Requirement already satisfied: patsy>=0.5 in c:\\users\\lindb\\anaconda3\\lib\\site-packages (from statsmodels) (0.5.1)\n",
      "Requirement already satisfied: python-dateutil>=2.7.3 in c:\\users\\lindb\\anaconda3\\lib\\site-packages (from pandas>=0.21->statsmodels) (2.8.1)\n",
      "Requirement already satisfied: pytz>=2017.3 in c:\\users\\lindb\\anaconda3\\lib\\site-packages (from pandas>=0.21->statsmodels) (2021.1)\n",
      "Requirement already satisfied: six in c:\\users\\lindb\\anaconda3\\lib\\site-packages (from patsy>=0.5->statsmodels) (1.15.0)\n",
      "\n",
      "Saved under graphing (2).py\n",
      "\n",
      "Saved under doggy-boot-harness (2).csv\n"
     ]
    },
    {
     "data": {
      "text/html": [
       "<div>\n",
       "<style scoped>\n",
       "    .dataframe tbody tr th:only-of-type {\n",
       "        vertical-align: middle;\n",
       "    }\n",
       "\n",
       "    .dataframe tbody tr th {\n",
       "        vertical-align: top;\n",
       "    }\n",
       "\n",
       "    .dataframe thead th {\n",
       "        text-align: right;\n",
       "    }\n",
       "</style>\n",
       "<table border=\"1\" class=\"dataframe\">\n",
       "  <thead>\n",
       "    <tr style=\"text-align: right;\">\n",
       "      <th></th>\n",
       "      <th>boot_size</th>\n",
       "      <th>harness_size</th>\n",
       "      <th>sex</th>\n",
       "      <th>age_years</th>\n",
       "    </tr>\n",
       "  </thead>\n",
       "  <tbody>\n",
       "    <tr>\n",
       "      <th>0</th>\n",
       "      <td>39</td>\n",
       "      <td>58</td>\n",
       "      <td>male</td>\n",
       "      <td>12.0</td>\n",
       "    </tr>\n",
       "    <tr>\n",
       "      <th>1</th>\n",
       "      <td>38</td>\n",
       "      <td>58</td>\n",
       "      <td>male</td>\n",
       "      <td>9.6</td>\n",
       "    </tr>\n",
       "    <tr>\n",
       "      <th>2</th>\n",
       "      <td>37</td>\n",
       "      <td>52</td>\n",
       "      <td>female</td>\n",
       "      <td>8.6</td>\n",
       "    </tr>\n",
       "    <tr>\n",
       "      <th>3</th>\n",
       "      <td>39</td>\n",
       "      <td>58</td>\n",
       "      <td>male</td>\n",
       "      <td>10.2</td>\n",
       "    </tr>\n",
       "    <tr>\n",
       "      <th>4</th>\n",
       "      <td>38</td>\n",
       "      <td>57</td>\n",
       "      <td>male</td>\n",
       "      <td>7.8</td>\n",
       "    </tr>\n",
       "  </tbody>\n",
       "</table>\n",
       "</div>"
      ],
      "text/plain": [
       "   boot_size  harness_size     sex  age_years\n",
       "0         39            58    male       12.0\n",
       "1         38            58    male        9.6\n",
       "2         37            52  female        8.6\n",
       "3         39            58    male       10.2\n",
       "4         38            57    male        7.8"
      ]
     },
     "execution_count": 1,
     "metadata": {},
     "output_type": "execute_result"
    }
   ],
   "source": [
    "import pandas\n",
    "!pip install statsmodels\n",
    "!python -m wget https://raw.githubusercontent.com/MicrosoftDocs/mslearn-introduction-to-machine-learning/main/graphing.py\n",
    "!python -m wget https://raw.githubusercontent.com/MicrosoftDocs/mslearn-introduction-to-machine-learning/main/Data/doggy-boot-harness.csv\n",
    "\n",
    "# Load a file containing dog's boot and harness sizes\n",
    "data = pandas.read_csv('doggy-boot-harness.csv')\n",
    "\n",
    "# Print the first few rows\n",
    "data.head()"
   ]
  },
  {
   "cell_type": "markdown",
   "id": "9ec2e995",
   "metadata": {},
   "source": [
    "Criar e treinar um modelo\n",
    "Como fizemos antes, vamos criar um modelo simples de Regressão Linear e treiná-lo em nosso conjunto de dados."
   ]
  },
  {
   "cell_type": "code",
   "execution_count": 2,
   "id": "814038d7",
   "metadata": {},
   "outputs": [
    {
     "name": "stdout",
     "output_type": "stream",
     "text": [
      "Model trained!\n"
     ]
    }
   ],
   "source": [
    "import statsmodels.formula.api as smf\n",
    "\n",
    "# Fit a simple model that finds a linear relationship\n",
    "# between boot size and harness size, which we can use later\n",
    "# to predict a dog's boot size, given their harness size\n",
    "model = smf.ols(formula = \"boot_size ~ harness_size\", data = data).fit()\n",
    "\n",
    "print(\"Model trained!\")"
   ]
  },
  {
   "cell_type": "markdown",
   "id": "9a65045f",
   "metadata": {},
   "source": [
    "Salvando e carregando um modelo\n",
    "Nosso modelo está pronto para uso, mas ainda não precisamos dele. Vamos salvá-lo em disco."
   ]
  },
  {
   "cell_type": "code",
   "execution_count": 3,
   "id": "efb4d484",
   "metadata": {},
   "outputs": [
    {
     "name": "stdout",
     "output_type": "stream",
     "text": [
      "Model saved!\n"
     ]
    }
   ],
   "source": [
    "import joblib\n",
    "\n",
    "model_filename = './avalanche_dog_boot_model.pkl'\n",
    "joblib.dump(model, model_filename)\n",
    "\n",
    "print(\"Model saved!\")"
   ]
  },
  {
   "cell_type": "markdown",
   "id": "0bd03539",
   "metadata": {},
   "source": [
    "Carregar nosso modelo é tão fácil quanto:"
   ]
  },
  {
   "cell_type": "code",
   "execution_count": 4,
   "id": "e6a35ff1",
   "metadata": {},
   "outputs": [
    {
     "name": "stdout",
     "output_type": "stream",
     "text": [
      "We have loaded a model with the following parameters:\n",
      "Intercept       5.719110\n",
      "harness_size    0.585925\n",
      "dtype: float64\n"
     ]
    }
   ],
   "source": [
    "model_loaded = joblib.load(model_filename)\n",
    "\n",
    "print(\"We have loaded a model with the following parameters:\")\n",
    "print(model_loaded.params)"
   ]
  },
  {
   "cell_type": "markdown",
   "id": "5e8c68a5",
   "metadata": {},
   "source": [
    "Juntar as peças\n",
    "Em nosso site, queremos pegar o arnês do cachorro do nosso cliente e calcular o tamanho da bota do cachorro usando o modelo que já treinamos.\n",
    "\n",
    "Vamos juntar tudo aqui para fazer uma função que carrega o modelo do disco, e então o usa para prever a altura do tamanho da inicialização do cachorro do nosso cliente."
   ]
  },
  {
   "cell_type": "code",
   "execution_count": 5,
   "id": "b7061889",
   "metadata": {},
   "outputs": [
    {
     "name": "stdout",
     "output_type": "stream",
     "text": [
      "We have loaded a model with the following parameters:\n",
      "Intercept       5.719110\n",
      "harness_size    0.585925\n",
      "dtype: float64\n",
      "Predicted dog boot size: 32.08575356590473\n"
     ]
    }
   ],
   "source": [
    "# Let's write a function that loads and uses our model\n",
    "def load_model_and_predict(harness_size):\n",
    "    '''\n",
    "    This function loads a pretrained model. It uses the model\n",
    "    with the customer's dog's harness size to predict the size of\n",
    "    boots that will fit that dog.\n",
    "\n",
    "    harness_size: The dog harness size, in cm \n",
    "    '''\n",
    "\n",
    "    # Load the model from file and print basic information about it\n",
    "    loaded_model = joblib.load(model_filename)\n",
    "\n",
    "    print(\"We have loaded a model with the following parameters:\")\n",
    "    print(loaded_model.params)\n",
    "\n",
    "    # Prepare data for the model\n",
    "    inputs = {\"harness_size\":[harness_size]} \n",
    "\n",
    "    # Use the model to make a prediction\n",
    "    predicted_boot_size = loaded_model.predict(inputs)[0]\n",
    "\n",
    "    return predicted_boot_size\n",
    "\n",
    "# Practice using our model\n",
    "predicted_boot_size = load_model_and_predict(45)\n",
    "\n",
    "print(\"Predicted dog boot size:\", predicted_boot_size)"
   ]
  },
  {
   "cell_type": "markdown",
   "id": "b6993474",
   "metadata": {},
   "source": [
    "Uso no mundo real\n",
    "Conseguimos - podemos prever o tamanho da bota de um cão de avalanche, com base no tamanho de seu arnês. Nosso último passo é usar isso para alertar as pessoas se elas podem estar comprando as botas caninas do tamanho errado.\n",
    "\n",
    "Como exemplo, faremos uma função que aceita o tamanho do arnês, o tamanho das botas selecionadas e retorna uma mensagem para o cliente. Iríamos integrar esta função em nossa loja online."
   ]
  },
  {
   "cell_type": "code",
   "execution_count": 6,
   "id": "4e59d4f1",
   "metadata": {},
   "outputs": [
    {
     "name": "stdout",
     "output_type": "stream",
     "text": [
      "We have loaded a model with the following parameters:\n",
      "Intercept       5.719110\n",
      "harness_size    0.585925\n",
      "dtype: float64\n"
     ]
    },
    {
     "data": {
      "text/plain": [
       "'The boots you have selected might be TOO BIG for a dog as small as yours. We recommend a doggy boots size of 38.'"
      ]
     },
     "execution_count": 6,
     "metadata": {},
     "output_type": "execute_result"
    }
   ],
   "source": [
    "def check_size_of_boots(selected_harness_size, selected_boot_size):\n",
    "    '''\n",
    "    Calculates whether the customer has chosen a pair of doggy boots that \n",
    "    are a sensible size. This works by estimating the dog's actual boot \n",
    "    size from their harness size.\n",
    "\n",
    "    This returns a message for the customer that should be shown before\n",
    "    they complete their payment \n",
    "\n",
    "    selected_harness_size: The size of the harness the customer wants to buy\n",
    "    selected_boot_size: The size of the doggy boots the customer wants to buy\n",
    "    '''\n",
    "\n",
    "    # Estimate the customer's dog's boot size\n",
    "    estimated_boot_size = load_model_and_predict(selected_harness_size)\n",
    "\n",
    "    # Round to the nearest whole number because we don't sell partial sizes\n",
    "    estimated_boot_size = int(round(estimated_boot_size))\n",
    "\n",
    "    # Check if the boot size selected is appropriate\n",
    "    if selected_boot_size == estimated_boot_size:\n",
    "        # The selected boots are probably OK\n",
    "        return f\"Great choice! We think these boots will fit your avalanche dog well.\"\n",
    "\n",
    "    if selected_boot_size < estimated_boot_size:\n",
    "        # Selected boots might be too small \n",
    "        return \"The boots you have selected might be TOO SMALL for a dog as \"\\\n",
    "               f\"big as yours. We recommend a doggy boots size of {estimated_boot_size}.\"\n",
    "\n",
    "    if selected_boot_size > estimated_boot_size:\n",
    "        # Selected boots might be too big \n",
    "        return \"The boots you have selected might be TOO BIG for a dog as \"\\\n",
    "               f\"small as yours. We recommend a doggy boots size of {estimated_boot_size}.\"\n",
    "    \n",
    "\n",
    "# Practice using our new warning system\n",
    "check_size_of_boots(selected_harness_size=55, selected_boot_size=39)"
   ]
  },
  {
   "cell_type": "markdown",
   "id": "fa73ab57",
   "metadata": {},
   "source": [
    "Altere selected_harness_sizee selected_boot_sizeno exemplo acima e execute novamente para ver isso em ação.\n",
    "\n",
    "Resumo\n",
    "Bem feito! Criamos um sistema que pode prever se os clientes estão comprando botas caninas que podem não servir para o seu cão de avalanche, com base apenas no tamanho do arnês que estão comprando.\n",
    "\n",
    "Neste exercício, praticamos:\n",
    "\n",
    "Criando modelos básicos\n",
    "Treinar e depois salvá-los em disco\n",
    "Carregando-os do disco\n",
    "Fazendo previsões com eles usando novos conjuntos de dados"
   ]
  }
 ],
 "metadata": {
  "kernelspec": {
   "display_name": "Python 3",
   "language": "python",
   "name": "python3"
  },
  "language_info": {
   "codemirror_mode": {
    "name": "ipython",
    "version": 3
   },
   "file_extension": ".py",
   "mimetype": "text/x-python",
   "name": "python",
   "nbconvert_exporter": "python",
   "pygments_lexer": "ipython3",
   "version": "3.8.8"
  }
 },
 "nbformat": 4,
 "nbformat_minor": 5
}
