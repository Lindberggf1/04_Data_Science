{
 "cells": [
  {
   "cell_type": "markdown",
   "id": "c18d41cf",
   "metadata": {},
   "source": [
    "# Otimizar e salvar modelos"
   ]
  },
  {
   "cell_type": "markdown",
   "id": "c5698f56",
   "metadata": {},
   "source": [
    "No notebook anterior, usamos modelos de regressão complexos para observar a relação entre os recursos de um conjunto de dados de aluguel de bicicletas. Neste portátil, veremos se podemos melhorar ainda mais o desempenho desses modelos.\n",
    "\n",
    "Vamos começar carregando os dados de compartilhamento de bicicletas como um Pandas DataFrame e visualizando as primeiras linhas. Como de costume, também dividiremos nossos dados em conjuntos de dados de treinamento e teste."
   ]
  },
  {
   "cell_type": "code",
   "execution_count": 2,
   "id": "81619c39",
   "metadata": {},
   "outputs": [
    {
     "name": "stdout",
     "output_type": "stream",
     "text": [
      "\n",
      "Saved under daily-bike-share (1).csv\n",
      "   instant    dteday  season  yr  mnth  holiday  weekday  workingday  \\\n",
      "0        1  1/1/2011       1   0     1        0        6           0   \n",
      "1        2  1/2/2011       1   0     1        0        0           0   \n",
      "2        3  1/3/2011       1   0     1        0        1           1   \n",
      "3        4  1/4/2011       1   0     1        0        2           1   \n",
      "4        5  1/5/2011       1   0     1        0        3           1   \n",
      "\n",
      "   weathersit      temp     atemp       hum  windspeed  rentals  day  \n",
      "0           2  0.344167  0.363625  0.805833   0.160446      331    1  \n",
      "1           2  0.363478  0.353739  0.696087   0.248539      131    2  \n",
      "2           1  0.196364  0.189405  0.437273   0.248309      120    3  \n",
      "3           1  0.200000  0.212122  0.590435   0.160296      108    4  \n",
      "4           1  0.226957  0.229270  0.436957   0.186900       82    5  \n",
      "Training Set: 511 rows\n",
      "Test Set: 220 rows\n"
     ]
    }
   ],
   "source": [
    "# Import modules we'll need for this notebook\n",
    "import pandas as pd\n",
    "from sklearn.linear_model import LinearRegression\n",
    "from sklearn.metrics import mean_squared_error, r2_score\n",
    "from sklearn.model_selection import train_test_split\n",
    "import numpy as np\n",
    "import matplotlib.pyplot as plt\n",
    "%matplotlib inline\n",
    "\n",
    "# load the training dataset\n",
    "!python -m wget https://raw.githubusercontent.com/MicrosoftDocs/mslearn-introduction-to-machine-learning/main/Data/ml-basics/daily-bike-share.csv\n",
    "bike_data = pd.read_csv('daily-bike-share.csv')\n",
    "bike_data['day'] = pd.DatetimeIndex(bike_data['dteday']).day\n",
    "numeric_features = ['temp', 'atemp', 'hum', 'windspeed']\n",
    "categorical_features = ['season','mnth','holiday','weekday','workingday','weathersit', 'day']\n",
    "bike_data[numeric_features + ['rentals']].describe()\n",
    "print(bike_data.head())\n",
    "\n",
    "\n",
    "# Separate features and labels\n",
    "# After separating the dataset, we now have numpy arrays named **X** containing the features, and **y** containing the labels.\n",
    "X, y = bike_data[['season','mnth', 'holiday','weekday','workingday','weathersit','temp', 'atemp', 'hum', 'windspeed']].values, bike_data['rentals'].values\n",
    "\n",
    "# Split data 70%-30% into training set and test set\n",
    "X_train, X_test, y_train, y_test = train_test_split(X, y, test_size=0.30, random_state=0)\n",
    "\n",
    "print ('Training Set: %d rows\\nTest Set: %d rows' % (X_train.shape[0], X_test.shape[0]))"
   ]
  },
  {
   "cell_type": "markdown",
   "id": "7dea36a4",
   "metadata": {},
   "source": [
    "Agora temos os quatro conjuntos de dados a seguir:\n",
    "\n",
    "<ul>\n",
    "<li>X_train : Os valores de recursos que usaremos para treinar o modelo\n",
    "<li>y_train : Os rótulos correspondentes que usaremos para treinar o modelo\n",
    "<li>X_test : Os valores de recursos que usaremos para validar o modelo\n",
    "<li>y_test : Os rótulos correspondentes que usaremos para validar o modelo\n",
    "</ul>\n",
    "\n",
    "Agora estamos prontos para treinar um modelo ajustando um algoritmo de conjunto de reforço , como em nosso último notebook. Lembre-se de que um estimador de Gradient Boosting é como um algoritmo Random Forest, mas em vez de construir todas as árvores de forma independente e obter o resultado médio, cada árvore é construída nas saídas da anterior na tentativa de reduzir incrementalmente a perda (erro) no modelo."
   ]
  },
  {
   "cell_type": "code",
   "execution_count": 3,
   "id": "e7d452d1",
   "metadata": {},
   "outputs": [
    {
     "name": "stdout",
     "output_type": "stream",
     "text": [
      "GradientBoostingRegressor() \n",
      "\n",
      "MSE: 104204.17720524623\n",
      "RMSE: 322.80671802991685\n",
      "R2: 0.7957142508228576\n"
     ]
    },
    {
     "data": {
      "image/png": "[encoded data removed]",
      "text/plain": [
       "<Figure size 432x288 with 1 Axes>"
      ]
     },
     "metadata": {
      "needs_background": "light"
     },
     "output_type": "display_data"
    }
   ],
   "source": [
    "# Train the model\n",
    "from sklearn.ensemble import GradientBoostingRegressor, RandomForestRegressor\n",
    "\n",
    "\n",
    "# Fit a lasso model on the training set\n",
    "model = GradientBoostingRegressor().fit(X_train, y_train)\n",
    "print (model, \"\\n\")\n",
    "\n",
    "# Evaluate the model using the test data\n",
    "predictions = model.predict(X_test)\n",
    "mse = mean_squared_error(y_test, predictions)\n",
    "print(\"MSE:\", mse)\n",
    "rmse = np.sqrt(mse)\n",
    "print(\"RMSE:\", rmse)\n",
    "r2 = r2_score(y_test, predictions)\n",
    "print(\"R2:\", r2)\n",
    "\n",
    "# Plot predicted vs actual\n",
    "plt.scatter(y_test, predictions)\n",
    "plt.xlabel('Actual Labels')\n",
    "plt.ylabel('Predicted Labels')\n",
    "plt.title('Daily Bike Share Predictions')\n",
    "# overlay the regression line\n",
    "z = np.polyfit(y_test, predictions, 1)\n",
    "p = np.poly1d(z)\n",
    "plt.plot(y_test,p(y_test), color='magenta')\n",
    "plt.show()"
   ]
  },
  {
   "cell_type": "markdown",
   "id": "cfd18097",
   "metadata": {},
   "source": [
    "## Otimizar hiperparâmetros\n",
    "\n",
    "Dê uma olhada na definição do estimador GradientBoostingRegressor na saída acima e observe que ela, como os outros estimadores que tentamos anteriormente, inclui um grande número de parâmetros que controlam a maneira como o modelo é treinado. No aprendizado de máquina, o termo parâmetros se refere a valores que podem ser determinados a partir de dados; os valores que você especifica para afetar o comportamento de um algoritmo de treinamento são mais corretamente chamados de hiperparâmetros .\n",
    "\n",
    "Os hiperparâmetros específicos para um estimador variam com base no algoritmo que o estimador encapsula. No caso do estimador GradientBoostingRegressor , o algoritmo é um conjunto que combina várias árvores de decisão para criar um modelo preditivo geral. Você pode aprender sobre os hiperparâmetros desse estimador na <b><a src=\"https://scikit-learn.org/stable/modules/generated/sklearn.ensemble.GradientBoostingRegressor.html\">documentação do Scikit-Learn</a></b> .\n",
    "\n",
    "Não entraremos em detalhes de cada hiperparâmetro aqui, mas eles trabalham juntos para afetar a maneira como o algoritmo treina um modelo. Em muitos casos, os valores padrão fornecidos pelo Scikit-Learn funcionarão bem; mas pode haver alguma vantagem em modificar os hiperparâmetros para obter um melhor desempenho preditivo ou reduzir o tempo de treinamento.\n",
    "\n",
    "Então, como você sabe quais valores de hiperparâmetros você deve usar? Bem, na ausência de uma compreensão profunda de como o algoritmo subjacente funciona, você precisará experimentar. Felizmente, o SciKit-Learn fornece uma maneira de ajustar hiperparâmetros tentando várias combinações e encontrando o melhor resultado para uma determinada métrica de desempenho.\n",
    "\n",
    "Vamos tentar usar uma abordagem de pesquisa de grade para tentar combinações de uma grade de valores possíveis para os hiperparâmetros learning_rate e n_estimators do estimador GradientBoostingRegressor ."
   ]
  },
  {
   "cell_type": "code",
   "execution_count": 4,
   "id": "bfcc42eb",
   "metadata": {},
   "outputs": [
    {
     "name": "stdout",
     "output_type": "stream",
     "text": [
      "Best parameter combination: {'learning_rate': 0.1, 'n_estimators': 100} \n",
      "\n",
      "GradientBoostingRegressor() \n",
      "\n",
      "MSE: 103735.88353021991\n",
      "RMSE: 322.0805544118116\n",
      "R2: 0.7966323111809298\n"
     ]
    },
    {
     "data": {
      "image/png": "[encoded data removed]",
      "text/plain": [
       "<Figure size 432x288 with 1 Axes>"
      ]
     },
     "metadata": {
      "needs_background": "light"
     },
     "output_type": "display_data"
    }
   ],
   "source": [
    "from sklearn.model_selection import GridSearchCV\n",
    "from sklearn.metrics import make_scorer, r2_score\n",
    "\n",
    "# Use a Gradient Boosting algorithm\n",
    "alg = GradientBoostingRegressor()\n",
    "\n",
    "# Try these hyperparameter values\n",
    "params = {\n",
    " 'learning_rate': [0.1, 0.5, 1.0],\n",
    " 'n_estimators' : [50, 100, 150]\n",
    " }\n",
    "\n",
    "# Find the best hyperparameter combination to optimize the R2 metric\n",
    "score = make_scorer(r2_score)\n",
    "gridsearch = GridSearchCV(alg, params, scoring=score, cv=3, return_train_score=True)\n",
    "gridsearch.fit(X_train, y_train)\n",
    "print(\"Best parameter combination:\", gridsearch.best_params_, \"\\n\")\n",
    "\n",
    "# Get the best model\n",
    "model=gridsearch.best_estimator_\n",
    "print(model, \"\\n\")\n",
    "\n",
    "# Evaluate the model using the test data\n",
    "predictions = model.predict(X_test)\n",
    "mse = mean_squared_error(y_test, predictions)\n",
    "print(\"MSE:\", mse)\n",
    "rmse = np.sqrt(mse)\n",
    "print(\"RMSE:\", rmse)\n",
    "r2 = r2_score(y_test, predictions)\n",
    "print(\"R2:\", r2)\n",
    "\n",
    "# Plot predicted vs actual\n",
    "plt.scatter(y_test, predictions)\n",
    "plt.xlabel('Actual Labels')\n",
    "plt.ylabel('Predicted Labels')\n",
    "plt.title('Daily Bike Share Predictions')\n",
    "# overlay the regression line\n",
    "z = np.polyfit(y_test, predictions, 1)\n",
    "p = np.poly1d(z)\n",
    "plt.plot(y_test,p(y_test), color='magenta')\n",
    "plt.show()"
   ]
  },
  {
   "cell_type": "markdown",
   "id": "f16ef5e2",
   "metadata": {},
   "source": [
    "<b><i>Observação : o uso de valores aleatórios no algoritmo de aumento de gradiente resulta em métricas ligeiramente diferentes a cada vez. Nesse caso, é improvável que o melhor modelo produzido pelo ajuste de hiperparâmetro seja significativamente melhor do que um treinado com os valores de hiperparâmetro padrão; mas ainda é útil conhecer a técnica de ajuste de hiperparâmetros!</i></b>\n",
    "\n",
    "## Pré-processar os dados\n",
    "\n",
    "Treinamos um modelo com dados carregados diretamente de um arquivo de origem, com resultados apenas moderadamente bem-sucedidos.\n",
    "\n",
    "Na prática, é comum realizar algum pré-processamento dos dados para tornar mais fácil para o algoritmo ajustar um modelo a ele. Há uma grande variedade de transformações de pré-processamento que você pode realizar para preparar seus dados para modelagem, mas vamos nos limitar a algumas técnicas comuns:\n",
    "\n",
    "### Dimensionamento de recursos numéricos\n",
    "\n",
    "A normalização de recursos numéricos para que fiquem na mesma escala evita que recursos com valores grandes produzam coeficientes que afetem desproporcionalmente as previsões. Por exemplo, suponha que seus dados incluam os seguintes recursos numéricos:\n",
    "\n",
    "| A |  B  |  C  |\n",
    "| - | --- | --- |\n",
    "| 3 | 480 | 65  |\n",
    "\n",
    "A normalização desses recursos para a mesma escala pode resultar nos seguintes valores (assumindo que A contém valores de 0 a 10, B contém valores de 0 a 1000 e C contém valores de 0 a 100):\n",
    "\n",
    "|  A  |  B  |  C  |\n",
    "| --  | --- | --- |\n",
    "| 0.3 | 0.48| 0.65|\n",
    "\n",
    "Existem várias maneiras de dimensionar dados numéricos, como calcular os valores mínimo e máximo para cada coluna e atribuir um valor proporcional entre 0 e 1 ou usar a média e o desvio padrão de uma variável normalmente distribuída para manter a mesma dispersão de valores em outra escala.\n",
    "\n",
    "### Codificando variáveis categóricas\n",
    "\n",
    "Os modelos de aprendizado de máquina funcionam melhor com recursos numéricos em vez de valores de texto, portanto, geralmente é necessário converter recursos categóricos em representações numéricas. Por exemplo, suponha que seus dados incluam o seguinte recurso categórico.\n",
    "\n",
    "| Size |\n",
    "| ---- |\n",
    "|  S   |\n",
    "|  M   |\n",
    "|  L   |\n",
    "\n",
    "Você pode aplicar a codificação ordinal para substituir um valor inteiro exclusivo para cada categoria, assim:\n",
    "\n",
    "| Size |\n",
    "| ---- |\n",
    "|  0   |\n",
    "|  1   |\n",
    "|  2   |\n",
    "\n",
    "Outra técnica comum é usar uma codificação a quente para criar recursos binários individuais (0 ou 1) para cada valor de categoria possível. Por exemplo, você pode usar a codificação one-hot para traduzir as categorias possíveis em colunas binárias como esta:\n",
    "\n",
    "|  Size_S  |  Size_M  |  Size_L  |\n",
    "| -------  | -------- | -------- |\n",
    "|    1     |     0    |    0     |\n",
    "|    0     |     1    |    0     |\n",
    "|    0     |     0    |    1     |\n",
    "\n",
    "Para aplicar essas transformações de pré-processamento ao aluguel de bicicletas, usaremos um recurso do Scikit-Learn chamado pipelines . Isso nos permite definir um conjunto de etapas de pré-processamento que terminam com um algoritmo. Você pode então ajustar todo o pipeline aos dados, para que o modelo encapsule todas as etapas de pré-processamento, bem como o algoritmo de regressão. Isso é útil, porque quando queremos usar o modelo para prever valores de novos dados, precisamos aplicar as mesmas transformações (com base nas mesmas distribuições estatísticas e codificações de categoria usadas com os dados de treinamento).\n",
    "\n",
    "<b><i>Observação : o termo pipeline é usado extensivamente em aprendizado de máquina, geralmente para significar coisas muito diferentes! Nesse contexto, estamos usando-o para fazer referência a objetos de pipeline no Scikit-Learn, mas você pode vê-lo usado em outro lugar para significar outra coisa.</i></b>"
   ]
  },
  {
   "cell_type": "code",
   "execution_count": 5,
   "id": "9aeb8b2f",
   "metadata": {},
   "outputs": [
    {
     "name": "stdout",
     "output_type": "stream",
     "text": [
      "Pipeline(steps=[('preprocessor',\n",
      "                 ColumnTransformer(transformers=[('num',\n",
      "                                                  Pipeline(steps=[('scaler',\n",
      "                                                                   StandardScaler())]),\n",
      "                                                  [6, 7, 8, 9]),\n",
      "                                                 ('cat',\n",
      "                                                  Pipeline(steps=[('onehot',\n",
      "                                                                   OneHotEncoder(handle_unknown='ignore'))]),\n",
      "                                                  [0, 1, 2, 3, 4, 5])])),\n",
      "                ('regressor', GradientBoostingRegressor())])\n"
     ]
    }
   ],
   "source": [
    "# Train the model\n",
    "from sklearn.compose import ColumnTransformer\n",
    "from sklearn.pipeline import Pipeline\n",
    "from sklearn.impute import SimpleImputer\n",
    "from sklearn.preprocessing import StandardScaler, OneHotEncoder\n",
    "from sklearn.linear_model import LinearRegression\n",
    "import numpy as np\n",
    "\n",
    "# Define preprocessing for numeric columns (scale them)\n",
    "numeric_features = [6,7,8,9]\n",
    "numeric_transformer = Pipeline(steps=[\n",
    "    ('scaler', StandardScaler())])\n",
    "\n",
    "# Define preprocessing for categorical features (encode them)\n",
    "categorical_features = [0,1,2,3,4,5]\n",
    "categorical_transformer = Pipeline(steps=[\n",
    "    ('onehot', OneHotEncoder(handle_unknown='ignore'))])\n",
    "\n",
    "# Combine preprocessing steps\n",
    "preprocessor = ColumnTransformer(\n",
    "    transformers=[\n",
    "        ('num', numeric_transformer, numeric_features),\n",
    "        ('cat', categorical_transformer, categorical_features)])\n",
    "\n",
    "# Create preprocessing and training pipeline\n",
    "pipeline = Pipeline(steps=[('preprocessor', preprocessor),\n",
    "                           ('regressor', GradientBoostingRegressor())])\n",
    "\n",
    "\n",
    "# fit the pipeline to train a linear regression model on the training set\n",
    "model = pipeline.fit(X_train, (y_train))\n",
    "print (model)"
   ]
  },
  {
   "cell_type": "markdown",
   "id": "cc83b8ed",
   "metadata": {},
   "source": [
    "OK, o modelo está treinado, incluindo as etapas de pré-processamento. Vamos ver como ele se comporta com os dados de validação."
   ]
  },
  {
   "cell_type": "code",
   "execution_count": 6,
   "id": "9928ef98",
   "metadata": {},
   "outputs": [
    {
     "name": "stdout",
     "output_type": "stream",
     "text": [
      "MSE: 105731.58776684396\n",
      "RMSE: 325.1639398316547\n",
      "R2: 0.792719858282696\n"
     ]
    },
    {
     "data": {
      "image/png": "[encoded data removed]",
      "text/plain": [
       "<Figure size 432x288 with 1 Axes>"
      ]
     },
     "metadata": {
      "needs_background": "light"
     },
     "output_type": "display_data"
    }
   ],
   "source": [
    "# Get predictions\n",
    "predictions = model.predict(X_test)\n",
    "\n",
    "# Display metrics\n",
    "mse = mean_squared_error(y_test, predictions)\n",
    "print(\"MSE:\", mse)\n",
    "rmse = np.sqrt(mse)\n",
    "print(\"RMSE:\", rmse)\n",
    "r2 = r2_score(y_test, predictions)\n",
    "print(\"R2:\", r2)\n",
    "\n",
    "# Plot predicted vs actual\n",
    "plt.scatter(y_test, predictions)\n",
    "plt.xlabel('Actual Labels')\n",
    "plt.ylabel('Predicted Labels')\n",
    "plt.title('Daily Bike Share Predictions')\n",
    "z = np.polyfit(y_test, predictions, 1)\n",
    "p = np.poly1d(z)\n",
    "plt.plot(y_test,p(y_test), color='magenta')\n",
    "plt.show()"
   ]
  },
  {
   "cell_type": "markdown",
   "id": "40b55582",
   "metadata": {},
   "source": [
    "O pipeline é composto pelas transformações e pelo algoritmo usado para treinar o modelo. Para tentar um algoritmo alternativo, basta alterar essa etapa para um tipo diferente de estimador."
   ]
  },
  {
   "cell_type": "code",
   "execution_count": 7,
   "id": "b4a3fab0",
   "metadata": {},
   "outputs": [
    {
     "name": "stdout",
     "output_type": "stream",
     "text": [
      "Pipeline(steps=[('preprocessor',\n",
      "                 ColumnTransformer(transformers=[('num',\n",
      "                                                  Pipeline(steps=[('scaler',\n",
      "                                                                   StandardScaler())]),\n",
      "                                                  [6, 7, 8, 9]),\n",
      "                                                 ('cat',\n",
      "                                                  Pipeline(steps=[('onehot',\n",
      "                                                                   OneHotEncoder(handle_unknown='ignore'))]),\n",
      "                                                  [0, 1, 2, 3, 4, 5])])),\n",
      "                ('regressor', RandomForestRegressor())]) \n",
      "\n",
      "MSE: 102661.9085909091\n",
      "RMSE: 320.40897083400944\n",
      "R2: 0.7987377716428694\n"
     ]
    },
    {
     "data": {
      "image/png": "[encoded data removed]",
      "text/plain": [
       "<Figure size 432x288 with 1 Axes>"
      ]
     },
     "metadata": {
      "needs_background": "light"
     },
     "output_type": "display_data"
    }
   ],
   "source": [
    "# Use a different estimator in the pipeline\n",
    "pipeline = Pipeline(steps=[('preprocessor', preprocessor),\n",
    "                           ('regressor', RandomForestRegressor())])\n",
    "\n",
    "\n",
    "# fit the pipeline to train a linear regression model on the training set\n",
    "model = pipeline.fit(X_train, (y_train))\n",
    "print (model, \"\\n\")\n",
    "\n",
    "# Get predictions\n",
    "predictions = model.predict(X_test)\n",
    "\n",
    "# Display metrics\n",
    "mse = mean_squared_error(y_test, predictions)\n",
    "print(\"MSE:\", mse)\n",
    "rmse = np.sqrt(mse)\n",
    "print(\"RMSE:\", rmse)\n",
    "r2 = r2_score(y_test, predictions)\n",
    "print(\"R2:\", r2)\n",
    "\n",
    "# Plot predicted vs actual\n",
    "plt.scatter(y_test, predictions)\n",
    "plt.xlabel('Actual Labels')\n",
    "plt.ylabel('Predicted Labels')\n",
    "plt.title('Daily Bike Share Predictions - Preprocessed')\n",
    "z = np.polyfit(y_test, predictions, 1)\n",
    "p = np.poly1d(z)\n",
    "plt.plot(y_test,p(y_test), color='magenta')\n",
    "plt.show()"
   ]
  },
  {
   "cell_type": "markdown",
   "id": "c3f3d41a",
   "metadata": {},
   "source": [
    "Já vimos várias técnicas comuns usadas para treinar modelos preditivos para regressão. Em um projeto real, você provavelmente tentaria mais alguns algoritmos, hiperparâmetros e transformações de pré-processamento; mas agora você já deve ter entendido a ideia geral. Vamos explorar como você pode usar o modelo treinado com novos dados.\n",
    "\n",
    "### Use o modelo treinado\n",
    "\n",
    "Primeiro, vamos salvar o modelo."
   ]
  },
  {
   "cell_type": "code",
   "execution_count": 8,
   "id": "3a28d70f",
   "metadata": {},
   "outputs": [
    {
     "data": {
      "text/plain": [
       "['./bike-share.pkl']"
      ]
     },
     "execution_count": 8,
     "metadata": {},
     "output_type": "execute_result"
    }
   ],
   "source": [
    "import joblib\n",
    "\n",
    "# Save the model as a pickle file\n",
    "filename = './bike-share.pkl'\n",
    "joblib.dump(model, filename)"
   ]
  },
  {
   "cell_type": "markdown",
   "id": "fbecc954",
   "metadata": {},
   "source": [
    "Agora, podemos carregá-lo sempre que precisarmos e usá-lo para prever rótulos para novos dados. Isso geralmente é chamado de pontuação ou inferência ."
   ]
  },
  {
   "cell_type": "code",
   "execution_count": 9,
   "id": "dd7ca5f6",
   "metadata": {},
   "outputs": [
    {
     "name": "stdout",
     "output_type": "stream",
     "text": [
      "New sample: [1.0, 1.0, 0.0, 3.0, 1.0, 1.0, 0.226957, 0.22927, 0.436957, 0.1869]\n",
      "Prediction: 104 rentals\n"
     ]
    }
   ],
   "source": [
    "# Load the model from the file\n",
    "loaded_model = joblib.load(filename)\n",
    "\n",
    "# Create a numpy array containing a new observation (for example tomorrow's seasonal and weather forecast information)\n",
    "X_new = np.array([[1,1,0,3,1,1,0.226957,0.22927,0.436957,0.1869]]).astype('float64')\n",
    "print ('New sample: {}'.format(list(X_new[0])))\n",
    "\n",
    "# Use the model to predict tomorrow's rentals\n",
    "result = loaded_model.predict(X_new)\n",
    "print('Prediction: {:.0f} rentals'.format(np.round(result[0])))"
   ]
  },
  {
   "cell_type": "markdown",
   "id": "3e37f5a6",
   "metadata": {},
   "source": [
    "O método de previsão do modelo aceita uma matriz de observações, para que você possa usá-lo para gerar várias previsões como um lote. Por exemplo, suponha que você tenha uma previsão do tempo para os próximos cinco dias; você pode usar o modelo para prever o aluguel de bicicletas para cada dia com base nas condições climáticas esperadas.\n",
    "\n"
   ]
  },
  {
   "cell_type": "code",
   "execution_count": 10,
   "id": "9e533028",
   "metadata": {},
   "outputs": [
    {
     "name": "stdout",
     "output_type": "stream",
     "text": [
      "5-day rental predictions:\n",
      "576.0\n",
      "699.0\n",
      "242.0\n",
      "204.0\n",
      "263.0\n"
     ]
    }
   ],
   "source": [
    "# An array of features based on five-day weather forecast\n",
    "X_new = np.array([[0,1,1,0,0,1,0.344167,0.363625,0.805833,0.160446],\n",
    "                  [0,1,0,1,0,1,0.363478,0.353739,0.696087,0.248539],\n",
    "                  [0,1,0,2,0,1,0.196364,0.189405,0.437273,0.248309],\n",
    "                  [0,1,0,3,0,1,0.2,0.212122,0.590435,0.160296],\n",
    "                  [0,1,0,4,0,1,0.226957,0.22927,0.436957,0.1869]])\n",
    "\n",
    "# Use the model to predict rentals\n",
    "results = loaded_model.predict(X_new)\n",
    "print('5-day rental predictions:')\n",
    "for prediction in results:\n",
    "    print(np.round(prediction))"
   ]
  },
  {
   "cell_type": "markdown",
   "id": "c7bd5bff",
   "metadata": {},
   "source": [
    "# Resumo\n",
    "\n",
    "Isso conclui os notebooks para este módulo sobre regressão. Neste notebook, executamos uma regressão complexa, ajustamos, salvamos o modelo e o usamos para prever resultados para o futuro.\n",
    "\n",
    "# Leitura adicional\n",
    "\n",
    "Para saber mais sobre o Scikit-Learn, consulte a documentação do <b><a src=\"https://scikit-learn.org/stable/user_guide.html\">Scikit-Learn</a></b> ."
   ]
  },
  {
   "cell_type": "code",
   "execution_count": null,
   "id": "4dca0ee1",
   "metadata": {},
   "outputs": [],
   "source": []
  }
 ],
 "metadata": {
  "kernelspec": {
   "display_name": "Python 3 (ipykernel)",
   "language": "python",
   "name": "python3"
  },
  "language_info": {
   "codemirror_mode": {
    "name": "ipython",
    "version": 3
   },
   "file_extension": ".py",
   "mimetype": "text/x-python",
   "name": "python",
   "nbconvert_exporter": "python",
   "pygments_lexer": "ipython3",
   "version": "3.9.12"
  }
 },
 "nbformat": 4,
 "nbformat_minor": 5
}
