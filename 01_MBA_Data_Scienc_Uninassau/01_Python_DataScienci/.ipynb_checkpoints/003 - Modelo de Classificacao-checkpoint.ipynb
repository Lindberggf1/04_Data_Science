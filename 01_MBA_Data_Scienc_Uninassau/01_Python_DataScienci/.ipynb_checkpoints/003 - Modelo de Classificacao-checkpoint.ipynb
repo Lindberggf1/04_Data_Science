{
 "cells": [
  {
   "cell_type": "markdown",
   "id": "db941a02",
   "metadata": {},
   "source": [
    "# 1.0 - Importação das Bibliotecas"
   ]
  },
  {
   "cell_type": "code",
   "execution_count": 60,
   "id": "14b41bf1",
   "metadata": {},
   "outputs": [
    {
     "name": "stdout",
     "output_type": "stream",
     "text": [
      "Requirement already satisfied: imblearn in c:\\users\\lindb\\anaconda3\\lib\\site-packages (0.0)\n",
      "Requirement already satisfied: imbalanced-learn in c:\\users\\lindb\\anaconda3\\lib\\site-packages (from imblearn) (0.9.0)\n",
      "Requirement already satisfied: numpy>=1.14.6 in c:\\users\\lindb\\anaconda3\\lib\\site-packages (from imbalanced-learn->imblearn) (1.20.1)\n",
      "Requirement already satisfied: scipy>=1.1.0 in c:\\users\\lindb\\anaconda3\\lib\\site-packages (from imbalanced-learn->imblearn) (1.6.2)\n",
      "Requirement already satisfied: scikit-learn>=1.0.1 in c:\\users\\lindb\\anaconda3\\lib\\site-packages (from imbalanced-learn->imblearn) (1.0.2)\n",
      "Requirement already satisfied: threadpoolctl>=2.0.0 in c:\\users\\lindb\\anaconda3\\lib\\site-packages (from imbalanced-learn->imblearn) (2.1.0)\n",
      "Requirement already satisfied: joblib>=0.11 in c:\\users\\lindb\\anaconda3\\lib\\site-packages (from imbalanced-learn->imblearn) (1.0.1)\n"
     ]
    }
   ],
   "source": [
    "# intalação do imblearn\n",
    "!pip3 install imblearn --user"
   ]
  },
  {
   "cell_type": "code",
   "execution_count": 61,
   "id": "29db440f",
   "metadata": {},
   "outputs": [],
   "source": [
    "# importar pandas\n",
    "import pandas as pd\n",
    "\n",
    "#importar rede neural MLPClassifier\n",
    "from sklearn.neural_network import MLPClassifier\n",
    "\n",
    "# importar lib para treino \n",
    "from sklearn.model_selection import train_test_split"
   ]
  },
  {
   "cell_type": "code",
   "execution_count": 62,
   "id": "02c6b918",
   "metadata": {},
   "outputs": [],
   "source": [
    "# classe balance\n",
    "from imblearn.over_sampling import SMOTE"
   ]
  },
  {
   "cell_type": "code",
   "execution_count": 63,
   "id": "b0a420af",
   "metadata": {},
   "outputs": [],
   "source": [
    "# importa graficos\n",
    "import matplotlib.pyplot as plt\n",
    "\n",
    "#fazer os plots no proprio jupyter sem ter que ir para arquivo externo\n",
    "%matplotlib inline"
   ]
  },
  {
   "cell_type": "code",
   "execution_count": 64,
   "id": "d2a3ded8",
   "metadata": {},
   "outputs": [],
   "source": [
    "# verificar metrics para verificar acuracia, eficacia do algoritimo\n",
    "from sklearn.metrics import accuracy_score"
   ]
  },
  {
   "cell_type": "code",
   "execution_count": 93,
   "id": "5f0e2f45",
   "metadata": {},
   "outputs": [],
   "source": [
    "#matriz de confusao\n",
    "from sklearn.metrics import confusion_matrix, ConfusionMatrixDisplay "
   ]
  },
  {
   "cell_type": "code",
   "execution_count": 100,
   "id": "e85533c0",
   "metadata": {},
   "outputs": [],
   "source": [
    "# metrica f1 score\n",
    "from sklearn.metrics import f1_score"
   ]
  },
  {
   "cell_type": "code",
   "execution_count": 102,
   "id": "decfb835",
   "metadata": {},
   "outputs": [],
   "source": [
    "# importar ramdom \n",
    "from sklearn.ensemble import RandomForestClassifier"
   ]
  },
  {
   "cell_type": "markdown",
   "id": "75057b6e",
   "metadata": {},
   "source": [
    "## 2.0 - Aquisição dos dados"
   ]
  },
  {
   "cell_type": "code",
   "execution_count": 65,
   "id": "02b59f91",
   "metadata": {},
   "outputs": [],
   "source": [
    "df = pd.read_csv('df_processado.csv')"
   ]
  },
  {
   "cell_type": "code",
   "execution_count": 66,
   "id": "7e48d832",
   "metadata": {},
   "outputs": [
    {
     "data": {
      "text/html": [
       "<div>\n",
       "<style scoped>\n",
       "    .dataframe tbody tr th:only-of-type {\n",
       "        vertical-align: middle;\n",
       "    }\n",
       "\n",
       "    .dataframe tbody tr th {\n",
       "        vertical-align: top;\n",
       "    }\n",
       "\n",
       "    .dataframe thead th {\n",
       "        text-align: right;\n",
       "    }\n",
       "</style>\n",
       "<table border=\"1\" class=\"dataframe\">\n",
       "  <thead>\n",
       "    <tr style=\"text-align: right;\">\n",
       "      <th></th>\n",
       "      <th>Unnamed: 0</th>\n",
       "      <th>age</th>\n",
       "      <th>salary</th>\n",
       "      <th>balance</th>\n",
       "      <th>day</th>\n",
       "      <th>campaign</th>\n",
       "      <th>pdays</th>\n",
       "      <th>previous</th>\n",
       "      <th>marital</th>\n",
       "      <th>targeted</th>\n",
       "      <th>default</th>\n",
       "      <th>housing</th>\n",
       "      <th>loan</th>\n",
       "      <th>contact</th>\n",
       "      <th>month</th>\n",
       "      <th>poutcome</th>\n",
       "      <th>job</th>\n",
       "      <th>education</th>\n",
       "      <th>response_rate</th>\n",
       "    </tr>\n",
       "  </thead>\n",
       "  <tbody>\n",
       "    <tr>\n",
       "      <th>0</th>\n",
       "      <td>0</td>\n",
       "      <td>0.519481</td>\n",
       "      <td>0.833333</td>\n",
       "      <td>0.092259</td>\n",
       "      <td>0.133333</td>\n",
       "      <td>0.0</td>\n",
       "      <td>0.0</td>\n",
       "      <td>0.0</td>\n",
       "      <td>1.0</td>\n",
       "      <td>1.0</td>\n",
       "      <td>0.0</td>\n",
       "      <td>1.0</td>\n",
       "      <td>0.0</td>\n",
       "      <td>2.0</td>\n",
       "      <td>8.0</td>\n",
       "      <td>3.0</td>\n",
       "      <td>4.0</td>\n",
       "      <td>2.0</td>\n",
       "      <td>0.0</td>\n",
       "    </tr>\n",
       "    <tr>\n",
       "      <th>1</th>\n",
       "      <td>1</td>\n",
       "      <td>0.337662</td>\n",
       "      <td>0.500000</td>\n",
       "      <td>0.073067</td>\n",
       "      <td>0.133333</td>\n",
       "      <td>0.0</td>\n",
       "      <td>0.0</td>\n",
       "      <td>0.0</td>\n",
       "      <td>2.0</td>\n",
       "      <td>1.0</td>\n",
       "      <td>0.0</td>\n",
       "      <td>1.0</td>\n",
       "      <td>0.0</td>\n",
       "      <td>2.0</td>\n",
       "      <td>8.0</td>\n",
       "      <td>3.0</td>\n",
       "      <td>9.0</td>\n",
       "      <td>1.0</td>\n",
       "      <td>0.0</td>\n",
       "    </tr>\n",
       "    <tr>\n",
       "      <th>2</th>\n",
       "      <td>2</td>\n",
       "      <td>0.194805</td>\n",
       "      <td>1.000000</td>\n",
       "      <td>0.072822</td>\n",
       "      <td>0.133333</td>\n",
       "      <td>0.0</td>\n",
       "      <td>0.0</td>\n",
       "      <td>0.0</td>\n",
       "      <td>1.0</td>\n",
       "      <td>1.0</td>\n",
       "      <td>0.0</td>\n",
       "      <td>1.0</td>\n",
       "      <td>1.0</td>\n",
       "      <td>2.0</td>\n",
       "      <td>8.0</td>\n",
       "      <td>3.0</td>\n",
       "      <td>2.0</td>\n",
       "      <td>1.0</td>\n",
       "      <td>0.0</td>\n",
       "    </tr>\n",
       "    <tr>\n",
       "      <th>3</th>\n",
       "      <td>3</td>\n",
       "      <td>0.376623</td>\n",
       "      <td>0.166667</td>\n",
       "      <td>0.086476</td>\n",
       "      <td>0.133333</td>\n",
       "      <td>0.0</td>\n",
       "      <td>0.0</td>\n",
       "      <td>0.0</td>\n",
       "      <td>1.0</td>\n",
       "      <td>0.0</td>\n",
       "      <td>0.0</td>\n",
       "      <td>1.0</td>\n",
       "      <td>0.0</td>\n",
       "      <td>2.0</td>\n",
       "      <td>8.0</td>\n",
       "      <td>3.0</td>\n",
       "      <td>1.0</td>\n",
       "      <td>3.0</td>\n",
       "      <td>0.0</td>\n",
       "    </tr>\n",
       "    <tr>\n",
       "      <th>4</th>\n",
       "      <td>4</td>\n",
       "      <td>0.194805</td>\n",
       "      <td>0.000000</td>\n",
       "      <td>0.072812</td>\n",
       "      <td>0.133333</td>\n",
       "      <td>0.0</td>\n",
       "      <td>0.0</td>\n",
       "      <td>0.0</td>\n",
       "      <td>2.0</td>\n",
       "      <td>0.0</td>\n",
       "      <td>0.0</td>\n",
       "      <td>0.0</td>\n",
       "      <td>0.0</td>\n",
       "      <td>2.0</td>\n",
       "      <td>8.0</td>\n",
       "      <td>3.0</td>\n",
       "      <td>11.0</td>\n",
       "      <td>3.0</td>\n",
       "      <td>0.0</td>\n",
       "    </tr>\n",
       "  </tbody>\n",
       "</table>\n",
       "</div>"
      ],
      "text/plain": [
       "   Unnamed: 0       age    salary   balance       day  campaign  pdays  \\\n",
       "0           0  0.519481  0.833333  0.092259  0.133333       0.0    0.0   \n",
       "1           1  0.337662  0.500000  0.073067  0.133333       0.0    0.0   \n",
       "2           2  0.194805  1.000000  0.072822  0.133333       0.0    0.0   \n",
       "3           3  0.376623  0.166667  0.086476  0.133333       0.0    0.0   \n",
       "4           4  0.194805  0.000000  0.072812  0.133333       0.0    0.0   \n",
       "\n",
       "   previous  marital  targeted  default  housing  loan  contact  month  \\\n",
       "0       0.0      1.0       1.0      0.0      1.0   0.0      2.0    8.0   \n",
       "1       0.0      2.0       1.0      0.0      1.0   0.0      2.0    8.0   \n",
       "2       0.0      1.0       1.0      0.0      1.0   1.0      2.0    8.0   \n",
       "3       0.0      1.0       0.0      0.0      1.0   0.0      2.0    8.0   \n",
       "4       0.0      2.0       0.0      0.0      0.0   0.0      2.0    8.0   \n",
       "\n",
       "   poutcome   job  education  response_rate  \n",
       "0       3.0   4.0        2.0            0.0  \n",
       "1       3.0   9.0        1.0            0.0  \n",
       "2       3.0   2.0        1.0            0.0  \n",
       "3       3.0   1.0        3.0            0.0  \n",
       "4       3.0  11.0        3.0            0.0  "
      ]
     },
     "execution_count": 66,
     "metadata": {},
     "output_type": "execute_result"
    }
   ],
   "source": [
    "df.head()"
   ]
  },
  {
   "cell_type": "code",
   "execution_count": 67,
   "id": "80bb1c92",
   "metadata": {},
   "outputs": [],
   "source": [
    "#apagar campo\n",
    "df.drop('Unnamed: 0', axis=1, inplace=True)"
   ]
  },
  {
   "cell_type": "code",
   "execution_count": 68,
   "id": "1647b8a7",
   "metadata": {},
   "outputs": [
    {
     "data": {
      "text/html": [
       "<div>\n",
       "<style scoped>\n",
       "    .dataframe tbody tr th:only-of-type {\n",
       "        vertical-align: middle;\n",
       "    }\n",
       "\n",
       "    .dataframe tbody tr th {\n",
       "        vertical-align: top;\n",
       "    }\n",
       "\n",
       "    .dataframe thead th {\n",
       "        text-align: right;\n",
       "    }\n",
       "</style>\n",
       "<table border=\"1\" class=\"dataframe\">\n",
       "  <thead>\n",
       "    <tr style=\"text-align: right;\">\n",
       "      <th></th>\n",
       "      <th>age</th>\n",
       "      <th>salary</th>\n",
       "      <th>balance</th>\n",
       "      <th>day</th>\n",
       "      <th>campaign</th>\n",
       "      <th>pdays</th>\n",
       "      <th>previous</th>\n",
       "      <th>marital</th>\n",
       "      <th>targeted</th>\n",
       "      <th>default</th>\n",
       "      <th>housing</th>\n",
       "      <th>loan</th>\n",
       "      <th>contact</th>\n",
       "      <th>month</th>\n",
       "      <th>poutcome</th>\n",
       "      <th>job</th>\n",
       "      <th>education</th>\n",
       "      <th>response_rate</th>\n",
       "    </tr>\n",
       "  </thead>\n",
       "  <tbody>\n",
       "    <tr>\n",
       "      <th>0</th>\n",
       "      <td>0.519481</td>\n",
       "      <td>0.833333</td>\n",
       "      <td>0.092259</td>\n",
       "      <td>0.133333</td>\n",
       "      <td>0.0</td>\n",
       "      <td>0.0</td>\n",
       "      <td>0.0</td>\n",
       "      <td>1.0</td>\n",
       "      <td>1.0</td>\n",
       "      <td>0.0</td>\n",
       "      <td>1.0</td>\n",
       "      <td>0.0</td>\n",
       "      <td>2.0</td>\n",
       "      <td>8.0</td>\n",
       "      <td>3.0</td>\n",
       "      <td>4.0</td>\n",
       "      <td>2.0</td>\n",
       "      <td>0.0</td>\n",
       "    </tr>\n",
       "    <tr>\n",
       "      <th>1</th>\n",
       "      <td>0.337662</td>\n",
       "      <td>0.500000</td>\n",
       "      <td>0.073067</td>\n",
       "      <td>0.133333</td>\n",
       "      <td>0.0</td>\n",
       "      <td>0.0</td>\n",
       "      <td>0.0</td>\n",
       "      <td>2.0</td>\n",
       "      <td>1.0</td>\n",
       "      <td>0.0</td>\n",
       "      <td>1.0</td>\n",
       "      <td>0.0</td>\n",
       "      <td>2.0</td>\n",
       "      <td>8.0</td>\n",
       "      <td>3.0</td>\n",
       "      <td>9.0</td>\n",
       "      <td>1.0</td>\n",
       "      <td>0.0</td>\n",
       "    </tr>\n",
       "    <tr>\n",
       "      <th>2</th>\n",
       "      <td>0.194805</td>\n",
       "      <td>1.000000</td>\n",
       "      <td>0.072822</td>\n",
       "      <td>0.133333</td>\n",
       "      <td>0.0</td>\n",
       "      <td>0.0</td>\n",
       "      <td>0.0</td>\n",
       "      <td>1.0</td>\n",
       "      <td>1.0</td>\n",
       "      <td>0.0</td>\n",
       "      <td>1.0</td>\n",
       "      <td>1.0</td>\n",
       "      <td>2.0</td>\n",
       "      <td>8.0</td>\n",
       "      <td>3.0</td>\n",
       "      <td>2.0</td>\n",
       "      <td>1.0</td>\n",
       "      <td>0.0</td>\n",
       "    </tr>\n",
       "    <tr>\n",
       "      <th>3</th>\n",
       "      <td>0.376623</td>\n",
       "      <td>0.166667</td>\n",
       "      <td>0.086476</td>\n",
       "      <td>0.133333</td>\n",
       "      <td>0.0</td>\n",
       "      <td>0.0</td>\n",
       "      <td>0.0</td>\n",
       "      <td>1.0</td>\n",
       "      <td>0.0</td>\n",
       "      <td>0.0</td>\n",
       "      <td>1.0</td>\n",
       "      <td>0.0</td>\n",
       "      <td>2.0</td>\n",
       "      <td>8.0</td>\n",
       "      <td>3.0</td>\n",
       "      <td>1.0</td>\n",
       "      <td>3.0</td>\n",
       "      <td>0.0</td>\n",
       "    </tr>\n",
       "    <tr>\n",
       "      <th>4</th>\n",
       "      <td>0.194805</td>\n",
       "      <td>0.000000</td>\n",
       "      <td>0.072812</td>\n",
       "      <td>0.133333</td>\n",
       "      <td>0.0</td>\n",
       "      <td>0.0</td>\n",
       "      <td>0.0</td>\n",
       "      <td>2.0</td>\n",
       "      <td>0.0</td>\n",
       "      <td>0.0</td>\n",
       "      <td>0.0</td>\n",
       "      <td>0.0</td>\n",
       "      <td>2.0</td>\n",
       "      <td>8.0</td>\n",
       "      <td>3.0</td>\n",
       "      <td>11.0</td>\n",
       "      <td>3.0</td>\n",
       "      <td>0.0</td>\n",
       "    </tr>\n",
       "  </tbody>\n",
       "</table>\n",
       "</div>"
      ],
      "text/plain": [
       "        age    salary   balance       day  campaign  pdays  previous  marital  \\\n",
       "0  0.519481  0.833333  0.092259  0.133333       0.0    0.0       0.0      1.0   \n",
       "1  0.337662  0.500000  0.073067  0.133333       0.0    0.0       0.0      2.0   \n",
       "2  0.194805  1.000000  0.072822  0.133333       0.0    0.0       0.0      1.0   \n",
       "3  0.376623  0.166667  0.086476  0.133333       0.0    0.0       0.0      1.0   \n",
       "4  0.194805  0.000000  0.072812  0.133333       0.0    0.0       0.0      2.0   \n",
       "\n",
       "   targeted  default  housing  loan  contact  month  poutcome   job  \\\n",
       "0       1.0      0.0      1.0   0.0      2.0    8.0       3.0   4.0   \n",
       "1       1.0      0.0      1.0   0.0      2.0    8.0       3.0   9.0   \n",
       "2       1.0      0.0      1.0   1.0      2.0    8.0       3.0   2.0   \n",
       "3       0.0      0.0      1.0   0.0      2.0    8.0       3.0   1.0   \n",
       "4       0.0      0.0      0.0   0.0      2.0    8.0       3.0  11.0   \n",
       "\n",
       "   education  response_rate  \n",
       "0        2.0            0.0  \n",
       "1        1.0            0.0  \n",
       "2        1.0            0.0  \n",
       "3        3.0            0.0  \n",
       "4        3.0            0.0  "
      ]
     },
     "execution_count": 68,
     "metadata": {},
     "output_type": "execute_result"
    }
   ],
   "source": [
    "df.head()"
   ]
  },
  {
   "cell_type": "code",
   "execution_count": 69,
   "id": "d7b8a34e",
   "metadata": {},
   "outputs": [],
   "source": [
    "y = df.response_rate\n",
    "x = df.drop('response_rate', axis=1)"
   ]
  },
  {
   "cell_type": "code",
   "execution_count": 70,
   "id": "388c6a29",
   "metadata": {},
   "outputs": [
    {
     "data": {
      "text/plain": [
       "0    0.0\n",
       "1    0.0\n",
       "2    0.0\n",
       "3    0.0\n",
       "4    0.0\n",
       "Name: response_rate, dtype: float64"
      ]
     },
     "execution_count": 70,
     "metadata": {},
     "output_type": "execute_result"
    }
   ],
   "source": [
    "y.head()"
   ]
  },
  {
   "cell_type": "code",
   "execution_count": 71,
   "id": "4c9eb7c9",
   "metadata": {},
   "outputs": [
    {
     "data": {
      "text/html": [
       "<div>\n",
       "<style scoped>\n",
       "    .dataframe tbody tr th:only-of-type {\n",
       "        vertical-align: middle;\n",
       "    }\n",
       "\n",
       "    .dataframe tbody tr th {\n",
       "        vertical-align: top;\n",
       "    }\n",
       "\n",
       "    .dataframe thead th {\n",
       "        text-align: right;\n",
       "    }\n",
       "</style>\n",
       "<table border=\"1\" class=\"dataframe\">\n",
       "  <thead>\n",
       "    <tr style=\"text-align: right;\">\n",
       "      <th></th>\n",
       "      <th>age</th>\n",
       "      <th>salary</th>\n",
       "      <th>balance</th>\n",
       "      <th>day</th>\n",
       "      <th>campaign</th>\n",
       "      <th>pdays</th>\n",
       "      <th>previous</th>\n",
       "      <th>marital</th>\n",
       "      <th>targeted</th>\n",
       "      <th>default</th>\n",
       "      <th>housing</th>\n",
       "      <th>loan</th>\n",
       "      <th>contact</th>\n",
       "      <th>month</th>\n",
       "      <th>poutcome</th>\n",
       "      <th>job</th>\n",
       "      <th>education</th>\n",
       "    </tr>\n",
       "  </thead>\n",
       "  <tbody>\n",
       "    <tr>\n",
       "      <th>0</th>\n",
       "      <td>0.519481</td>\n",
       "      <td>0.833333</td>\n",
       "      <td>0.092259</td>\n",
       "      <td>0.133333</td>\n",
       "      <td>0.0</td>\n",
       "      <td>0.0</td>\n",
       "      <td>0.0</td>\n",
       "      <td>1.0</td>\n",
       "      <td>1.0</td>\n",
       "      <td>0.0</td>\n",
       "      <td>1.0</td>\n",
       "      <td>0.0</td>\n",
       "      <td>2.0</td>\n",
       "      <td>8.0</td>\n",
       "      <td>3.0</td>\n",
       "      <td>4.0</td>\n",
       "      <td>2.0</td>\n",
       "    </tr>\n",
       "    <tr>\n",
       "      <th>1</th>\n",
       "      <td>0.337662</td>\n",
       "      <td>0.500000</td>\n",
       "      <td>0.073067</td>\n",
       "      <td>0.133333</td>\n",
       "      <td>0.0</td>\n",
       "      <td>0.0</td>\n",
       "      <td>0.0</td>\n",
       "      <td>2.0</td>\n",
       "      <td>1.0</td>\n",
       "      <td>0.0</td>\n",
       "      <td>1.0</td>\n",
       "      <td>0.0</td>\n",
       "      <td>2.0</td>\n",
       "      <td>8.0</td>\n",
       "      <td>3.0</td>\n",
       "      <td>9.0</td>\n",
       "      <td>1.0</td>\n",
       "    </tr>\n",
       "    <tr>\n",
       "      <th>2</th>\n",
       "      <td>0.194805</td>\n",
       "      <td>1.000000</td>\n",
       "      <td>0.072822</td>\n",
       "      <td>0.133333</td>\n",
       "      <td>0.0</td>\n",
       "      <td>0.0</td>\n",
       "      <td>0.0</td>\n",
       "      <td>1.0</td>\n",
       "      <td>1.0</td>\n",
       "      <td>0.0</td>\n",
       "      <td>1.0</td>\n",
       "      <td>1.0</td>\n",
       "      <td>2.0</td>\n",
       "      <td>8.0</td>\n",
       "      <td>3.0</td>\n",
       "      <td>2.0</td>\n",
       "      <td>1.0</td>\n",
       "    </tr>\n",
       "    <tr>\n",
       "      <th>3</th>\n",
       "      <td>0.376623</td>\n",
       "      <td>0.166667</td>\n",
       "      <td>0.086476</td>\n",
       "      <td>0.133333</td>\n",
       "      <td>0.0</td>\n",
       "      <td>0.0</td>\n",
       "      <td>0.0</td>\n",
       "      <td>1.0</td>\n",
       "      <td>0.0</td>\n",
       "      <td>0.0</td>\n",
       "      <td>1.0</td>\n",
       "      <td>0.0</td>\n",
       "      <td>2.0</td>\n",
       "      <td>8.0</td>\n",
       "      <td>3.0</td>\n",
       "      <td>1.0</td>\n",
       "      <td>3.0</td>\n",
       "    </tr>\n",
       "    <tr>\n",
       "      <th>4</th>\n",
       "      <td>0.194805</td>\n",
       "      <td>0.000000</td>\n",
       "      <td>0.072812</td>\n",
       "      <td>0.133333</td>\n",
       "      <td>0.0</td>\n",
       "      <td>0.0</td>\n",
       "      <td>0.0</td>\n",
       "      <td>2.0</td>\n",
       "      <td>0.0</td>\n",
       "      <td>0.0</td>\n",
       "      <td>0.0</td>\n",
       "      <td>0.0</td>\n",
       "      <td>2.0</td>\n",
       "      <td>8.0</td>\n",
       "      <td>3.0</td>\n",
       "      <td>11.0</td>\n",
       "      <td>3.0</td>\n",
       "    </tr>\n",
       "  </tbody>\n",
       "</table>\n",
       "</div>"
      ],
      "text/plain": [
       "        age    salary   balance       day  campaign  pdays  previous  marital  \\\n",
       "0  0.519481  0.833333  0.092259  0.133333       0.0    0.0       0.0      1.0   \n",
       "1  0.337662  0.500000  0.073067  0.133333       0.0    0.0       0.0      2.0   \n",
       "2  0.194805  1.000000  0.072822  0.133333       0.0    0.0       0.0      1.0   \n",
       "3  0.376623  0.166667  0.086476  0.133333       0.0    0.0       0.0      1.0   \n",
       "4  0.194805  0.000000  0.072812  0.133333       0.0    0.0       0.0      2.0   \n",
       "\n",
       "   targeted  default  housing  loan  contact  month  poutcome   job  education  \n",
       "0       1.0      0.0      1.0   0.0      2.0    8.0       3.0   4.0        2.0  \n",
       "1       1.0      0.0      1.0   0.0      2.0    8.0       3.0   9.0        1.0  \n",
       "2       1.0      0.0      1.0   1.0      2.0    8.0       3.0   2.0        1.0  \n",
       "3       0.0      0.0      1.0   0.0      2.0    8.0       3.0   1.0        3.0  \n",
       "4       0.0      0.0      0.0   0.0      2.0    8.0       3.0  11.0        3.0  "
      ]
     },
     "execution_count": 71,
     "metadata": {},
     "output_type": "execute_result"
    }
   ],
   "source": [
    "x.head()"
   ]
  },
  {
   "cell_type": "code",
   "execution_count": 72,
   "id": "69d7102f",
   "metadata": {},
   "outputs": [],
   "source": [
    "# separndo o dataset para treino e teste, sendo 30% sera teste. \n",
    "# O random state é para garantir que sempre que rodar mesma amostra.\n",
    "X_train, X_test, y_train, y_test = train_test_split(x, y, test_size=0.3) #, random_state=42)"
   ]
  },
  {
   "cell_type": "code",
   "execution_count": 73,
   "id": "6af783a0",
   "metadata": {},
   "outputs": [
    {
     "data": {
      "text/plain": [
       "(31577, 17)"
      ]
     },
     "execution_count": 73,
     "metadata": {},
     "output_type": "execute_result"
    }
   ],
   "source": [
    "X_train.shape"
   ]
  },
  {
   "cell_type": "code",
   "execution_count": 74,
   "id": "55e45758",
   "metadata": {},
   "outputs": [
    {
     "data": {
      "text/plain": [
       "(13534, 17)"
      ]
     },
     "execution_count": 74,
     "metadata": {},
     "output_type": "execute_result"
    }
   ],
   "source": [
    "X_test.shape"
   ]
  },
  {
   "cell_type": "code",
   "execution_count": 75,
   "id": "53f67160",
   "metadata": {},
   "outputs": [
    {
     "data": {
      "text/plain": [
       "0.0    27887\n",
       "1.0     3690\n",
       "Name: response_rate, dtype: int64"
      ]
     },
     "execution_count": 75,
     "metadata": {},
     "output_type": "execute_result"
    }
   ],
   "source": [
    "y_train.value_counts()"
   ]
  },
  {
   "cell_type": "code",
   "execution_count": 76,
   "id": "a1cf9a07",
   "metadata": {},
   "outputs": [
    {
     "data": {
      "text/plain": [
       "0.0    11967\n",
       "1.0     1567\n",
       "Name: response_rate, dtype: int64"
      ]
     },
     "execution_count": 76,
     "metadata": {},
     "output_type": "execute_result"
    }
   ],
   "source": [
    "y_test.value_counts()"
   ]
  },
  {
   "cell_type": "markdown",
   "id": "2f9edb10",
   "metadata": {},
   "source": [
    "## 3.0- Balancear dados da treino"
   ]
  },
  {
   "cell_type": "code",
   "execution_count": 77,
   "id": "6a30dc7e",
   "metadata": {},
   "outputs": [
    {
     "data": {
      "text/plain": [
       "age          0\n",
       "salary       0\n",
       "balance      0\n",
       "day          0\n",
       "campaign     0\n",
       "pdays        0\n",
       "previous     0\n",
       "marital      0\n",
       "targeted     0\n",
       "default      0\n",
       "housing      0\n",
       "loan         0\n",
       "contact      0\n",
       "month        0\n",
       "poutcome     0\n",
       "job          0\n",
       "education    0\n",
       "dtype: int64"
      ]
     },
     "execution_count": 77,
     "metadata": {},
     "output_type": "execute_result"
    }
   ],
   "source": [
    "# isnulls \n",
    "X_train.isnull().sum()"
   ]
  },
  {
   "cell_type": "code",
   "execution_count": 78,
   "id": "7631f4fb",
   "metadata": {},
   "outputs": [
    {
     "data": {
      "text/plain": [
       "0"
      ]
     },
     "execution_count": 78,
     "metadata": {},
     "output_type": "execute_result"
    }
   ],
   "source": [
    "# isnulls \n",
    "y_train.isnull().sum()"
   ]
  },
  {
   "cell_type": "code",
   "execution_count": 79,
   "id": "c14c7c04",
   "metadata": {},
   "outputs": [
    {
     "data": {
      "image/png": "[encoded data removed]",
      "text/plain": [
       "<Figure size 432x288 with 1 Axes>"
      ]
     },
     "metadata": {
      "needs_background": "light"
     },
     "output_type": "display_data"
    }
   ],
   "source": [
    "# verificar o grafico\n",
    "y_train.value_counts(normalize=True).plot.barh()\n",
    "plt.show()"
   ]
  },
  {
   "cell_type": "code",
   "execution_count": 80,
   "id": "b09769f6",
   "metadata": {},
   "outputs": [],
   "source": [
    "# minimizar o desbalanceamento, assim, vamos balancear para que equalize a base para evitar excesso tendioso para o TREINO.\n",
    "# aSSIM O ALGOritmo não seria tendioso ao treinar. Ja a base para rodar não precisaria.\n",
    "\n",
    "sm = SMOTE()\n",
    "X_res_train, y_res_train = sm.fit_resample(X_train, y_train)\n",
    "\n",
    "# caso tiver ValueError: Input contains NaN, infinity or a value too large for dtype('float64')\n",
    "# sao valores null possiveis dentro do dataset, assim, tem que tratar."
   ]
  },
  {
   "cell_type": "markdown",
   "id": "4042e0e6",
   "metadata": {},
   "source": [
    "### graficos"
   ]
  },
  {
   "cell_type": "code",
   "execution_count": 81,
   "id": "ebfc662f",
   "metadata": {},
   "outputs": [
    {
     "data": {
      "image/png": "[encoded data removed]",
      "text/plain": [
       "<Figure size 432x288 with 1 Axes>"
      ]
     },
     "metadata": {
      "needs_background": "light"
     },
     "output_type": "display_data"
    }
   ],
   "source": [
    "y_res.value_counts(normalize=True).plot.barh()\n",
    "plt.show()"
   ]
  },
  {
   "cell_type": "code",
   "execution_count": 82,
   "id": "7d9910f5",
   "metadata": {},
   "outputs": [
    {
     "data": {
      "image/png": "[encoded data removed]",
      "text/plain": [
       "<Figure size 432x288 with 1 Axes>"
      ]
     },
     "metadata": {
      "needs_background": "light"
     },
     "output_type": "display_data"
    }
   ],
   "source": [
    "y_res.value_counts(normalize=True).plot.bar()\n",
    "plt.show()"
   ]
  },
  {
   "cell_type": "markdown",
   "id": "1dd4e446",
   "metadata": {},
   "source": [
    "## 4.0 - Treinamento de algoritmo de classificação"
   ]
  },
  {
   "cell_type": "code",
   "execution_count": 116,
   "id": "867376ed",
   "metadata": {},
   "outputs": [
    {
     "name": "stdout",
     "output_type": "stream",
     "text": [
      "Iteration 1, loss = 0.63467032\n",
      "Iteration 2, loss = 0.60666800\n",
      "Iteration 3, loss = 0.59870796\n",
      "Iteration 4, loss = 0.59159381\n",
      "Iteration 5, loss = 0.58586969\n",
      "Iteration 6, loss = 0.58064310\n",
      "Iteration 7, loss = 0.57586059\n",
      "Iteration 8, loss = 0.57074789\n",
      "Iteration 9, loss = 0.56796191\n",
      "Iteration 10, loss = 0.56308374\n",
      "Iteration 11, loss = 0.55996358\n",
      "Iteration 12, loss = 0.55605300\n",
      "Iteration 13, loss = 0.55217135\n",
      "Iteration 14, loss = 0.54947423\n",
      "Iteration 15, loss = 0.54752740\n",
      "Iteration 16, loss = 0.54585143\n",
      "Iteration 17, loss = 0.54248633\n",
      "Iteration 18, loss = 0.53988787\n",
      "Iteration 19, loss = 0.53711264\n",
      "Iteration 20, loss = 0.53526054\n",
      "Iteration 21, loss = 0.53332463\n",
      "Iteration 22, loss = 0.53210992\n",
      "Iteration 23, loss = 0.52987244\n",
      "Iteration 24, loss = 0.52721670\n",
      "Iteration 25, loss = 0.52538874\n",
      "Iteration 26, loss = 0.52478117\n",
      "Iteration 27, loss = 0.52249495\n",
      "Iteration 28, loss = 0.52042375\n",
      "Iteration 29, loss = 0.51849434\n",
      "Iteration 30, loss = 0.51829175\n",
      "Iteration 31, loss = 0.51518500\n",
      "Iteration 32, loss = 0.51623370\n",
      "Iteration 33, loss = 0.51277727\n",
      "Iteration 34, loss = 0.51105871\n",
      "Iteration 35, loss = 0.50879784\n",
      "Iteration 36, loss = 0.50829810\n",
      "Iteration 37, loss = 0.50550360\n",
      "Iteration 38, loss = 0.50565799\n",
      "Iteration 39, loss = 0.50414271\n",
      "Iteration 40, loss = 0.50278907\n",
      "Iteration 41, loss = 0.50143474\n",
      "Iteration 42, loss = 0.49956234\n",
      "Iteration 43, loss = 0.49827803\n",
      "Iteration 44, loss = 0.49729096\n",
      "Iteration 45, loss = 0.49518749\n",
      "Iteration 46, loss = 0.49614095\n",
      "Iteration 47, loss = 0.49430480\n",
      "Iteration 48, loss = 0.49336983\n",
      "Iteration 49, loss = 0.49140450\n",
      "Iteration 50, loss = 0.49093795\n",
      "Iteration 51, loss = 0.48953662\n",
      "Iteration 52, loss = 0.48803424\n",
      "Iteration 53, loss = 0.48628587\n",
      "Iteration 54, loss = 0.48640784\n",
      "Iteration 55, loss = 0.48615194\n",
      "Iteration 56, loss = 0.48549227\n",
      "Iteration 57, loss = 0.48411433\n",
      "Iteration 58, loss = 0.48402918\n",
      "Iteration 59, loss = 0.48190207\n",
      "Iteration 60, loss = 0.48145717\n",
      "Iteration 61, loss = 0.48076283\n",
      "Iteration 62, loss = 0.47910693\n",
      "Iteration 63, loss = 0.47941670\n",
      "Iteration 64, loss = 0.47891340\n",
      "Iteration 65, loss = 0.47764523\n",
      "Iteration 66, loss = 0.47710359\n",
      "Iteration 67, loss = 0.47753608\n",
      "Iteration 68, loss = 0.47586880\n",
      "Iteration 69, loss = 0.47475386\n",
      "Iteration 70, loss = 0.47502897\n",
      "Iteration 71, loss = 0.47329495\n",
      "Iteration 72, loss = 0.47280737\n",
      "Iteration 73, loss = 0.47277398\n",
      "Iteration 74, loss = 0.47302697\n",
      "Iteration 75, loss = 0.47156137\n",
      "Iteration 76, loss = 0.47090242\n",
      "Iteration 77, loss = 0.47053559\n",
      "Iteration 78, loss = 0.46904508\n",
      "Iteration 79, loss = 0.47122425\n",
      "Iteration 80, loss = 0.46815036\n",
      "Iteration 81, loss = 0.46898699\n",
      "Iteration 82, loss = 0.46870857\n",
      "Iteration 83, loss = 0.46621300\n",
      "Iteration 84, loss = 0.46870219\n",
      "Iteration 85, loss = 0.46692059\n",
      "Iteration 86, loss = 0.46462550\n",
      "Iteration 87, loss = 0.46438292\n",
      "Iteration 88, loss = 0.46486294\n",
      "Iteration 89, loss = 0.46531135\n",
      "Iteration 90, loss = 0.46300440\n",
      "Iteration 91, loss = 0.46257588\n",
      "Iteration 92, loss = 0.46268257\n",
      "Iteration 93, loss = 0.46188908\n",
      "Iteration 94, loss = 0.46232635\n",
      "Iteration 95, loss = 0.46137157\n",
      "Iteration 96, loss = 0.46128140\n",
      "Iteration 97, loss = 0.46052146\n",
      "Iteration 98, loss = 0.46018531\n",
      "Iteration 99, loss = 0.46000538\n",
      "Iteration 100, loss = 0.45950435\n",
      "Iteration 101, loss = 0.45978135\n",
      "Iteration 102, loss = 0.45850692\n",
      "Iteration 103, loss = 0.45841519\n",
      "Iteration 104, loss = 0.45899040\n",
      "Iteration 105, loss = 0.45638954\n",
      "Iteration 106, loss = 0.45675597\n",
      "Iteration 107, loss = 0.45629924\n",
      "Iteration 108, loss = 0.45681349\n",
      "Iteration 109, loss = 0.45476466\n",
      "Iteration 110, loss = 0.45620763\n",
      "Iteration 111, loss = 0.45481860\n",
      "Iteration 112, loss = 0.45596148\n",
      "Iteration 113, loss = 0.45347694\n",
      "Iteration 114, loss = 0.45435754\n",
      "Iteration 115, loss = 0.45281617\n",
      "Iteration 116, loss = 0.45431219\n",
      "Iteration 117, loss = 0.45382508\n",
      "Iteration 118, loss = 0.45317048\n",
      "Iteration 119, loss = 0.45250945\n",
      "Iteration 120, loss = 0.45226133\n",
      "Iteration 121, loss = 0.45202463\n",
      "Iteration 122, loss = 0.45199884\n",
      "Iteration 123, loss = 0.45268861\n",
      "Iteration 124, loss = 0.45050647\n",
      "Iteration 125, loss = 0.45039069\n",
      "Iteration 126, loss = 0.44919278\n",
      "Iteration 127, loss = 0.44922149\n",
      "Iteration 128, loss = 0.45069547\n",
      "Iteration 129, loss = 0.44944320\n",
      "Iteration 130, loss = 0.44963546\n",
      "Iteration 131, loss = 0.44805785\n",
      "Iteration 132, loss = 0.44904295\n",
      "Iteration 133, loss = 0.44777519\n",
      "Iteration 134, loss = 0.44814008\n",
      "Iteration 135, loss = 0.44678890\n",
      "Iteration 136, loss = 0.44682336\n",
      "Iteration 137, loss = 0.44886067\n",
      "Iteration 138, loss = 0.44562092\n",
      "Iteration 139, loss = 0.44634721\n",
      "Iteration 140, loss = 0.44619523\n",
      "Iteration 141, loss = 0.44604626\n",
      "Iteration 142, loss = 0.44459729\n",
      "Iteration 143, loss = 0.44536085\n",
      "Iteration 144, loss = 0.44730239\n",
      "Iteration 145, loss = 0.44490957\n",
      "Iteration 146, loss = 0.44297130\n",
      "Iteration 147, loss = 0.44333419\n",
      "Iteration 148, loss = 0.44416657\n",
      "Iteration 149, loss = 0.44221637\n",
      "Iteration 150, loss = 0.44337198\n",
      "Iteration 151, loss = 0.44159774\n",
      "Iteration 152, loss = 0.44282046\n",
      "Iteration 153, loss = 0.44091412\n",
      "Iteration 154, loss = 0.44156324\n",
      "Iteration 155, loss = 0.44370584\n",
      "Iteration 156, loss = 0.44117262\n",
      "Iteration 157, loss = 0.44174996\n",
      "Iteration 158, loss = 0.44063493\n",
      "Iteration 159, loss = 0.44030206\n",
      "Iteration 160, loss = 0.43941886\n",
      "Iteration 161, loss = 0.43856423\n",
      "Iteration 162, loss = 0.43813213\n",
      "Iteration 163, loss = 0.43781206\n",
      "Iteration 164, loss = 0.43859731\n",
      "Iteration 165, loss = 0.43716137\n",
      "Iteration 166, loss = 0.43603034\n",
      "Iteration 167, loss = 0.43856408\n",
      "Iteration 168, loss = 0.43538332\n",
      "Iteration 169, loss = 0.43662789\n",
      "Iteration 170, loss = 0.43536465\n",
      "Iteration 171, loss = 0.43471351\n",
      "Iteration 172, loss = 0.43291278\n",
      "Iteration 173, loss = 0.43411980\n",
      "Iteration 174, loss = 0.43605353\n",
      "Iteration 175, loss = 0.43369489\n",
      "Iteration 176, loss = 0.43322168\n",
      "Iteration 177, loss = 0.43282574\n",
      "Iteration 178, loss = 0.43123636\n",
      "Iteration 179, loss = 0.43165559\n",
      "Iteration 180, loss = 0.43102824\n",
      "Iteration 181, loss = 0.43098071\n",
      "Iteration 182, loss = 0.42971322\n",
      "Iteration 183, loss = 0.43133631\n",
      "Iteration 184, loss = 0.43124379\n",
      "Iteration 185, loss = 0.43102133\n",
      "Iteration 186, loss = 0.43000775\n",
      "Iteration 187, loss = 0.43012744\n",
      "Iteration 188, loss = 0.42951344\n",
      "Iteration 189, loss = 0.43097343\n",
      "Iteration 190, loss = 0.42897492\n",
      "Iteration 191, loss = 0.42765213\n",
      "Iteration 192, loss = 0.42860786\n",
      "Iteration 193, loss = 0.42908547\n",
      "Iteration 194, loss = 0.42659274\n",
      "Iteration 195, loss = 0.42721015\n",
      "Iteration 196, loss = 0.42852567\n",
      "Iteration 197, loss = 0.42655034\n",
      "Iteration 198, loss = 0.42678854\n",
      "Iteration 199, loss = 0.42786838\n",
      "Iteration 200, loss = 0.42731190\n",
      "Iteration 201, loss = 0.42567696\n",
      "Iteration 202, loss = 0.42548373\n",
      "Iteration 203, loss = 0.42659711\n",
      "Iteration 204, loss = 0.42566866\n",
      "Iteration 205, loss = 0.42430784\n",
      "Iteration 206, loss = 0.42436866\n",
      "Iteration 207, loss = 0.42482381\n",
      "Iteration 208, loss = 0.42480981\n",
      "Iteration 209, loss = 0.42502382\n",
      "Iteration 210, loss = 0.42336379\n",
      "Iteration 211, loss = 0.42321393\n",
      "Iteration 212, loss = 0.42313816\n",
      "Iteration 213, loss = 0.42245243\n",
      "Iteration 214, loss = 0.42299675\n",
      "Iteration 215, loss = 0.42238543\n",
      "Iteration 216, loss = 0.42430030\n",
      "Iteration 217, loss = 0.42281404\n",
      "Iteration 218, loss = 0.42201052\n",
      "Iteration 219, loss = 0.42202740\n",
      "Iteration 220, loss = 0.42445871\n",
      "Iteration 221, loss = 0.42201081\n",
      "Iteration 222, loss = 0.42226337\n",
      "Iteration 223, loss = 0.42262438\n",
      "Iteration 224, loss = 0.42105179\n",
      "Iteration 225, loss = 0.42052676\n",
      "Iteration 226, loss = 0.42023029\n",
      "Iteration 227, loss = 0.42198526\n",
      "Iteration 228, loss = 0.42126775\n",
      "Iteration 229, loss = 0.41892058\n",
      "Iteration 230, loss = 0.42084289\n",
      "Iteration 231, loss = 0.41951609\n",
      "Iteration 232, loss = 0.41941560\n",
      "Iteration 233, loss = 0.42003101\n",
      "Iteration 234, loss = 0.42063291\n",
      "Iteration 235, loss = 0.41882866\n",
      "Iteration 236, loss = 0.41905781\n",
      "Iteration 237, loss = 0.42135092\n",
      "Iteration 238, loss = 0.41784669\n",
      "Iteration 239, loss = 0.41865872\n",
      "Iteration 240, loss = 0.41811867\n",
      "Iteration 241, loss = 0.41895471\n",
      "Iteration 242, loss = 0.41755754\n",
      "Iteration 243, loss = 0.41809406\n",
      "Iteration 244, loss = 0.41784181\n",
      "Iteration 245, loss = 0.41784824\n",
      "Iteration 246, loss = 0.41797709\n",
      "Iteration 247, loss = 0.41735696\n",
      "Iteration 248, loss = 0.41589154\n",
      "Iteration 249, loss = 0.41951661\n",
      "Iteration 250, loss = 0.41637477\n",
      "Iteration 251, loss = 0.41718721\n",
      "Iteration 252, loss = 0.41649928\n"
     ]
    },
    {
     "name": "stdout",
     "output_type": "stream",
     "text": [
      "Iteration 253, loss = 0.41622813\n",
      "Iteration 254, loss = 0.41374903\n",
      "Iteration 255, loss = 0.41630314\n",
      "Iteration 256, loss = 0.41689558\n",
      "Iteration 257, loss = 0.41694913\n",
      "Iteration 258, loss = 0.41403103\n",
      "Iteration 259, loss = 0.41671143\n",
      "Iteration 260, loss = 0.41455488\n",
      "Iteration 261, loss = 0.41449116\n",
      "Iteration 262, loss = 0.41509509\n",
      "Iteration 263, loss = 0.41431146\n",
      "Iteration 264, loss = 0.41460622\n",
      "Iteration 265, loss = 0.41442627\n",
      "Training loss did not improve more than tol=0.000100 for 10 consecutive epochs. Stopping.\n"
     ]
    }
   ],
   "source": [
    "# nosso defaul de interação é 200 interações, caso nao melhorar nas ultimas 10 ele para.\n",
    "model = MLPClassifier(verbose=True, max_iter = 10) # bom usar max_iter 300\n",
    "model = model.fit(X_res_train, y_res_train)"
   ]
  },
  {
   "cell_type": "code",
   "execution_count": 84,
   "id": "dc56879b",
   "metadata": {},
   "outputs": [],
   "source": [
    "# vamos fazer o Predict para ver se teve bons resultados\n",
    "y_pred = model.predict(X_test)"
   ]
  },
  {
   "cell_type": "code",
   "execution_count": 117,
   "id": "c798ded7",
   "metadata": {},
   "outputs": [
    {
     "data": {
      "text/plain": [
       "array([0., 0., 0., ..., 0., 0., 0.])"
      ]
     },
     "execution_count": 117,
     "metadata": {},
     "output_type": "execute_result"
    }
   ],
   "source": [
    "y_pred"
   ]
  },
  {
   "cell_type": "code",
   "execution_count": 118,
   "id": "e0838168",
   "metadata": {},
   "outputs": [],
   "source": [
    "score = accuracy_score(y_test, y_pred)"
   ]
  },
  {
   "cell_type": "code",
   "execution_count": 119,
   "id": "cb206f2a",
   "metadata": {},
   "outputs": [
    {
     "name": "stdout",
     "output_type": "stream",
     "text": [
      "Accuracy Score: 0.880005911038865\n"
     ]
    }
   ],
   "source": [
    "# varia de 0 a 1, sendo quanto maior melhor.\n",
    "print('Accuracy Score:', score)"
   ]
  },
  {
   "cell_type": "code",
   "execution_count": 120,
   "id": "bc0f64aa",
   "metadata": {},
   "outputs": [],
   "source": [
    "#TEstar F1 Score\n",
    "f1s = f1_score(y_test, y_pred)"
   ]
  },
  {
   "cell_type": "code",
   "execution_count": 121,
   "id": "91c2a69d",
   "metadata": {},
   "outputs": [
    {
     "name": "stdout",
     "output_type": "stream",
     "text": [
      "F1 Score: 0.33278553820870993\n"
     ]
    }
   ],
   "source": [
    "# varia de 0 a 1, sendo quanto maior melhor.\n",
    "print('F1 Score:', f1s)"
   ]
  },
  {
   "cell_type": "markdown",
   "id": "99766ee4",
   "metadata": {},
   "source": [
    "## Verificar resultados "
   ]
  },
  {
   "cell_type": "code",
   "execution_count": 122,
   "id": "26910792",
   "metadata": {},
   "outputs": [
    {
     "data": {
      "text/plain": [
       "<sklearn.metrics._plot.confusion_matrix.ConfusionMatrixDisplay at 0x2315f5d7ca0>"
      ]
     },
     "execution_count": 122,
     "metadata": {},
     "output_type": "execute_result"
    },
    {
     "data": {
      "image/png": "[encoded data removed]",
      "text/plain": [
       "<Figure size 432x288 with 2 Axes>"
      ]
     },
     "metadata": {
      "needs_background": "light"
     },
     "output_type": "display_data"
    }
   ],
   "source": [
    "#Confusion Matrix\n",
    "# o valor y é o real, e no x é o PRevisao. Quando comparar o perto do y é real, e o \"par\" com x é o erro.\n",
    "cm = confusion_matrix(y_test, y_pred )\n",
    "cmd = ConfusionMatrixDisplay(cm, display_labels=['0', '1'])\n",
    "cmd.plot()"
   ]
  },
  {
   "cell_type": "markdown",
   "id": "f99554d6",
   "metadata": {},
   "source": [
    "## 4.2 RandomForest"
   ]
  },
  {
   "cell_type": "code",
   "execution_count": 123,
   "id": "5cbbe8fd",
   "metadata": {},
   "outputs": [],
   "source": [
    "model = RandomForestClassifier()"
   ]
  },
  {
   "cell_type": "code",
   "execution_count": 124,
   "id": "06a21c89",
   "metadata": {},
   "outputs": [],
   "source": [
    "model = model.fit(X_res_train, y_res_train)"
   ]
  },
  {
   "cell_type": "code",
   "execution_count": 125,
   "id": "e2369a54",
   "metadata": {},
   "outputs": [],
   "source": [
    "# vamos fazer o Predict para ver se teve bons resultados\n",
    "y_pred = model.predict(X_test)"
   ]
  },
  {
   "cell_type": "code",
   "execution_count": 126,
   "id": "ec9912d4",
   "metadata": {},
   "outputs": [],
   "source": [
    "score = accuracy_score(y_test, y_pred)"
   ]
  },
  {
   "cell_type": "code",
   "execution_count": 127,
   "id": "77b5d61a",
   "metadata": {},
   "outputs": [],
   "source": [
    "#TEstar F1 Score\n",
    "f1s = f1_score(y_test, y_pred)"
   ]
  },
  {
   "cell_type": "code",
   "execution_count": 128,
   "id": "21de043b",
   "metadata": {},
   "outputs": [
    {
     "name": "stdout",
     "output_type": "stream",
     "text": [
      "Accuracy Score: 0.8809664548544407\n",
      "F1 Score: 0.3437881873727088\n"
     ]
    }
   ],
   "source": [
    "# varia de 0 a 1, sendo quanto maior melhor. \n",
    "print('Accuracy Score:', score)\n",
    "print('F1 Score:', f1s)"
   ]
  },
  {
   "cell_type": "code",
   "execution_count": 129,
   "id": "6038e1af",
   "metadata": {},
   "outputs": [
    {
     "data": {
      "text/plain": [
       "<sklearn.metrics._plot.confusion_matrix.ConfusionMatrixDisplay at 0x2315cf5bfa0>"
      ]
     },
     "execution_count": 129,
     "metadata": {},
     "output_type": "execute_result"
    },
    {
     "data": {
      "image/png": "[encoded data removed]",
      "text/plain": [
       "<Figure size 432x288 with 2 Axes>"
      ]
     },
     "metadata": {
      "needs_background": "light"
     },
     "output_type": "display_data"
    }
   ],
   "source": [
    "#Confusion Matrix\n",
    "cm = confusion_matrix(y_test, y_pred )\n",
    "cmd = ConfusionMatrixDisplay(cm, display_labels=['0', '1'])\n",
    "cmd.plot()"
   ]
  },
  {
   "cell_type": "markdown",
   "id": "861cc33b",
   "metadata": {},
   "source": [
    "## Conclusão\n",
    "\n",
    "BAse de dados complexa, e estes algoritmos não sao robustos para estes dados, pois muitos erros ainda."
   ]
  },
  {
   "cell_type": "code",
   "execution_count": null,
   "id": "087e4fa2",
   "metadata": {},
   "outputs": [],
   "source": []
  }
 ],
 "metadata": {
  "kernelspec": {
   "display_name": "Python 3",
   "language": "python",
   "name": "python3"
  },
  "language_info": {
   "codemirror_mode": {
    "name": "ipython",
    "version": 3
   },
   "file_extension": ".py",
   "mimetype": "text/x-python",
   "name": "python",
   "nbconvert_exporter": "python",
   "pygments_lexer": "ipython3",
   "version": "3.8.8"
  }
 },
 "nbformat": 4,
 "nbformat_minor": 5
}
