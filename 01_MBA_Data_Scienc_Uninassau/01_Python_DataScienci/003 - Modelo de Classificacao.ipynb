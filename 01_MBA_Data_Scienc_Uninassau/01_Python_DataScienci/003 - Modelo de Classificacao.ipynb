{
 "cells": [
  {
   "cell_type": "markdown",
   "id": "f9c3b0ab",
   "metadata": {},
   "source": [
    "# 1.0 - Importação das Bibliotecas"
   ]
  },
  {
   "cell_type": "code",
   "execution_count": 130,
   "id": "83e61a04",
   "metadata": {},
   "outputs": [
    {
     "name": "stdout",
     "output_type": "stream",
     "text": [
      "Requirement already satisfied: imblearn in c:\\users\\lindb\\anaconda3\\lib\\site-packages (0.0)\n",
      "Requirement already satisfied: imbalanced-learn in c:\\users\\lindb\\anaconda3\\lib\\site-packages (from imblearn) (0.9.0)\n",
      "Requirement already satisfied: threadpoolctl>=2.0.0 in c:\\users\\lindb\\anaconda3\\lib\\site-packages (from imbalanced-learn->imblearn) (2.1.0)\n",
      "Requirement already satisfied: numpy>=1.14.6 in c:\\users\\lindb\\anaconda3\\lib\\site-packages (from imbalanced-learn->imblearn) (1.20.1)\n",
      "Requirement already satisfied: joblib>=0.11 in c:\\users\\lindb\\anaconda3\\lib\\site-packages (from imbalanced-learn->imblearn) (1.0.1)\n",
      "Requirement already satisfied: scipy>=1.1.0 in c:\\users\\lindb\\anaconda3\\lib\\site-packages (from imbalanced-learn->imblearn) (1.6.2)\n",
      "Requirement already satisfied: scikit-learn>=1.0.1 in c:\\users\\lindb\\anaconda3\\lib\\site-packages (from imbalanced-learn->imblearn) (1.0.2)\n"
     ]
    }
   ],
   "source": [
    "# intalação do imblearn\n",
    "!pip3 install imblearn --user"
   ]
  },
  {
   "cell_type": "code",
   "execution_count": 131,
   "id": "44e330c9",
   "metadata": {},
   "outputs": [],
   "source": [
    "# importar pandas\n",
    "import pandas as pd\n",
    "\n",
    "#importar rede neural MLPClassifier\n",
    "from sklearn.neural_network import MLPClassifier\n",
    "\n",
    "# importar lib para treino \n",
    "from sklearn.model_selection import train_test_split"
   ]
  },
  {
   "cell_type": "code",
   "execution_count": 132,
   "id": "82782f3e",
   "metadata": {},
   "outputs": [],
   "source": [
    "# classe balance\n",
    "from imblearn.over_sampling import SMOTE"
   ]
  },
  {
   "cell_type": "code",
   "execution_count": 133,
   "id": "44d92ccb",
   "metadata": {},
   "outputs": [],
   "source": [
    "# importa graficos\n",
    "import matplotlib.pyplot as plt\n",
    "\n",
    "#fazer os plots no proprio jupyter sem ter que ir para arquivo externo\n",
    "%matplotlib inline"
   ]
  },
  {
   "cell_type": "code",
   "execution_count": 134,
   "id": "190b3bbe",
   "metadata": {},
   "outputs": [],
   "source": [
    "# verificar metrics para verificar acuracia, eficacia do algoritimo\n",
    "from sklearn.metrics import accuracy_score"
   ]
  },
  {
   "cell_type": "code",
   "execution_count": 135,
   "id": "e8fef84f",
   "metadata": {},
   "outputs": [],
   "source": [
    "#matriz de confusao\n",
    "from sklearn.metrics import confusion_matrix, ConfusionMatrixDisplay "
   ]
  },
  {
   "cell_type": "code",
   "execution_count": 171,
   "id": "d4d9d903",
   "metadata": {},
   "outputs": [],
   "source": [
    "#Metrica Precisão \n",
    "from sklearn.metrics import precision_score"
   ]
  },
  {
   "cell_type": "code",
   "execution_count": 174,
   "id": "794ec33d",
   "metadata": {},
   "outputs": [],
   "source": [
    "#Metrica Recall - revogação \n",
    "from sklearn.metrics import recall_score"
   ]
  },
  {
   "cell_type": "code",
   "execution_count": 136,
   "id": "b5415e4b",
   "metadata": {},
   "outputs": [],
   "source": [
    "# metrica f1 score\n",
    "from sklearn.metrics import f1_score"
   ]
  },
  {
   "cell_type": "code",
   "execution_count": 137,
   "id": "28893593",
   "metadata": {},
   "outputs": [],
   "source": [
    "# importar ramdom \n",
    "from sklearn.ensemble import RandomForestClassifier"
   ]
  },
  {
   "cell_type": "markdown",
   "id": "ef86adea",
   "metadata": {},
   "source": [
    "## 2.0 - Aquisição dos dados"
   ]
  },
  {
   "cell_type": "code",
   "execution_count": 138,
   "id": "289df7a1",
   "metadata": {},
   "outputs": [],
   "source": [
    "df = pd.read_csv('df_processado.csv')"
   ]
  },
  {
   "cell_type": "code",
   "execution_count": 139,
   "id": "4369db80",
   "metadata": {},
   "outputs": [
    {
     "data": {
      "text/html": [
       "<div>\n",
       "<style scoped>\n",
       "    .dataframe tbody tr th:only-of-type {\n",
       "        vertical-align: middle;\n",
       "    }\n",
       "\n",
       "    .dataframe tbody tr th {\n",
       "        vertical-align: top;\n",
       "    }\n",
       "\n",
       "    .dataframe thead th {\n",
       "        text-align: right;\n",
       "    }\n",
       "</style>\n",
       "<table border=\"1\" class=\"dataframe\">\n",
       "  <thead>\n",
       "    <tr style=\"text-align: right;\">\n",
       "      <th></th>\n",
       "      <th>Unnamed: 0</th>\n",
       "      <th>age</th>\n",
       "      <th>salary</th>\n",
       "      <th>balance</th>\n",
       "      <th>day</th>\n",
       "      <th>campaign</th>\n",
       "      <th>pdays</th>\n",
       "      <th>previous</th>\n",
       "      <th>marital</th>\n",
       "      <th>targeted</th>\n",
       "      <th>default</th>\n",
       "      <th>housing</th>\n",
       "      <th>loan</th>\n",
       "      <th>contact</th>\n",
       "      <th>month</th>\n",
       "      <th>poutcome</th>\n",
       "      <th>job</th>\n",
       "      <th>education</th>\n",
       "      <th>response_rate</th>\n",
       "    </tr>\n",
       "  </thead>\n",
       "  <tbody>\n",
       "    <tr>\n",
       "      <th>0</th>\n",
       "      <td>0</td>\n",
       "      <td>0.519481</td>\n",
       "      <td>0.833333</td>\n",
       "      <td>0.092259</td>\n",
       "      <td>0.133333</td>\n",
       "      <td>0.0</td>\n",
       "      <td>0.0</td>\n",
       "      <td>0.0</td>\n",
       "      <td>1.0</td>\n",
       "      <td>1.0</td>\n",
       "      <td>0.0</td>\n",
       "      <td>1.0</td>\n",
       "      <td>0.0</td>\n",
       "      <td>2.0</td>\n",
       "      <td>8.0</td>\n",
       "      <td>3.0</td>\n",
       "      <td>4.0</td>\n",
       "      <td>2.0</td>\n",
       "      <td>0.0</td>\n",
       "    </tr>\n",
       "    <tr>\n",
       "      <th>1</th>\n",
       "      <td>1</td>\n",
       "      <td>0.337662</td>\n",
       "      <td>0.500000</td>\n",
       "      <td>0.073067</td>\n",
       "      <td>0.133333</td>\n",
       "      <td>0.0</td>\n",
       "      <td>0.0</td>\n",
       "      <td>0.0</td>\n",
       "      <td>2.0</td>\n",
       "      <td>1.0</td>\n",
       "      <td>0.0</td>\n",
       "      <td>1.0</td>\n",
       "      <td>0.0</td>\n",
       "      <td>2.0</td>\n",
       "      <td>8.0</td>\n",
       "      <td>3.0</td>\n",
       "      <td>9.0</td>\n",
       "      <td>1.0</td>\n",
       "      <td>0.0</td>\n",
       "    </tr>\n",
       "    <tr>\n",
       "      <th>2</th>\n",
       "      <td>2</td>\n",
       "      <td>0.194805</td>\n",
       "      <td>1.000000</td>\n",
       "      <td>0.072822</td>\n",
       "      <td>0.133333</td>\n",
       "      <td>0.0</td>\n",
       "      <td>0.0</td>\n",
       "      <td>0.0</td>\n",
       "      <td>1.0</td>\n",
       "      <td>1.0</td>\n",
       "      <td>0.0</td>\n",
       "      <td>1.0</td>\n",
       "      <td>1.0</td>\n",
       "      <td>2.0</td>\n",
       "      <td>8.0</td>\n",
       "      <td>3.0</td>\n",
       "      <td>2.0</td>\n",
       "      <td>1.0</td>\n",
       "      <td>0.0</td>\n",
       "    </tr>\n",
       "    <tr>\n",
       "      <th>3</th>\n",
       "      <td>3</td>\n",
       "      <td>0.376623</td>\n",
       "      <td>0.166667</td>\n",
       "      <td>0.086476</td>\n",
       "      <td>0.133333</td>\n",
       "      <td>0.0</td>\n",
       "      <td>0.0</td>\n",
       "      <td>0.0</td>\n",
       "      <td>1.0</td>\n",
       "      <td>0.0</td>\n",
       "      <td>0.0</td>\n",
       "      <td>1.0</td>\n",
       "      <td>0.0</td>\n",
       "      <td>2.0</td>\n",
       "      <td>8.0</td>\n",
       "      <td>3.0</td>\n",
       "      <td>1.0</td>\n",
       "      <td>3.0</td>\n",
       "      <td>0.0</td>\n",
       "    </tr>\n",
       "    <tr>\n",
       "      <th>4</th>\n",
       "      <td>4</td>\n",
       "      <td>0.194805</td>\n",
       "      <td>0.000000</td>\n",
       "      <td>0.072812</td>\n",
       "      <td>0.133333</td>\n",
       "      <td>0.0</td>\n",
       "      <td>0.0</td>\n",
       "      <td>0.0</td>\n",
       "      <td>2.0</td>\n",
       "      <td>0.0</td>\n",
       "      <td>0.0</td>\n",
       "      <td>0.0</td>\n",
       "      <td>0.0</td>\n",
       "      <td>2.0</td>\n",
       "      <td>8.0</td>\n",
       "      <td>3.0</td>\n",
       "      <td>11.0</td>\n",
       "      <td>3.0</td>\n",
       "      <td>0.0</td>\n",
       "    </tr>\n",
       "  </tbody>\n",
       "</table>\n",
       "</div>"
      ],
      "text/plain": [
       "   Unnamed: 0       age    salary   balance       day  campaign  pdays  \\\n",
       "0           0  0.519481  0.833333  0.092259  0.133333       0.0    0.0   \n",
       "1           1  0.337662  0.500000  0.073067  0.133333       0.0    0.0   \n",
       "2           2  0.194805  1.000000  0.072822  0.133333       0.0    0.0   \n",
       "3           3  0.376623  0.166667  0.086476  0.133333       0.0    0.0   \n",
       "4           4  0.194805  0.000000  0.072812  0.133333       0.0    0.0   \n",
       "\n",
       "   previous  marital  targeted  default  housing  loan  contact  month  \\\n",
       "0       0.0      1.0       1.0      0.0      1.0   0.0      2.0    8.0   \n",
       "1       0.0      2.0       1.0      0.0      1.0   0.0      2.0    8.0   \n",
       "2       0.0      1.0       1.0      0.0      1.0   1.0      2.0    8.0   \n",
       "3       0.0      1.0       0.0      0.0      1.0   0.0      2.0    8.0   \n",
       "4       0.0      2.0       0.0      0.0      0.0   0.0      2.0    8.0   \n",
       "\n",
       "   poutcome   job  education  response_rate  \n",
       "0       3.0   4.0        2.0            0.0  \n",
       "1       3.0   9.0        1.0            0.0  \n",
       "2       3.0   2.0        1.0            0.0  \n",
       "3       3.0   1.0        3.0            0.0  \n",
       "4       3.0  11.0        3.0            0.0  "
      ]
     },
     "execution_count": 139,
     "metadata": {},
     "output_type": "execute_result"
    }
   ],
   "source": [
    "df.head()"
   ]
  },
  {
   "cell_type": "code",
   "execution_count": 140,
   "id": "b739373b",
   "metadata": {},
   "outputs": [],
   "source": [
    "#apagar campo\n",
    "df.drop('Unnamed: 0', axis=1, inplace=True)"
   ]
  },
  {
   "cell_type": "code",
   "execution_count": 141,
   "id": "2198b417",
   "metadata": {
    "scrolled": true
   },
   "outputs": [
    {
     "data": {
      "text/html": [
       "<div>\n",
       "<style scoped>\n",
       "    .dataframe tbody tr th:only-of-type {\n",
       "        vertical-align: middle;\n",
       "    }\n",
       "\n",
       "    .dataframe tbody tr th {\n",
       "        vertical-align: top;\n",
       "    }\n",
       "\n",
       "    .dataframe thead th {\n",
       "        text-align: right;\n",
       "    }\n",
       "</style>\n",
       "<table border=\"1\" class=\"dataframe\">\n",
       "  <thead>\n",
       "    <tr style=\"text-align: right;\">\n",
       "      <th></th>\n",
       "      <th>age</th>\n",
       "      <th>salary</th>\n",
       "      <th>balance</th>\n",
       "      <th>day</th>\n",
       "      <th>campaign</th>\n",
       "      <th>pdays</th>\n",
       "      <th>previous</th>\n",
       "      <th>marital</th>\n",
       "      <th>targeted</th>\n",
       "      <th>default</th>\n",
       "      <th>housing</th>\n",
       "      <th>loan</th>\n",
       "      <th>contact</th>\n",
       "      <th>month</th>\n",
       "      <th>poutcome</th>\n",
       "      <th>job</th>\n",
       "      <th>education</th>\n",
       "      <th>response_rate</th>\n",
       "    </tr>\n",
       "  </thead>\n",
       "  <tbody>\n",
       "    <tr>\n",
       "      <th>0</th>\n",
       "      <td>0.519481</td>\n",
       "      <td>0.833333</td>\n",
       "      <td>0.092259</td>\n",
       "      <td>0.133333</td>\n",
       "      <td>0.0</td>\n",
       "      <td>0.0</td>\n",
       "      <td>0.0</td>\n",
       "      <td>1.0</td>\n",
       "      <td>1.0</td>\n",
       "      <td>0.0</td>\n",
       "      <td>1.0</td>\n",
       "      <td>0.0</td>\n",
       "      <td>2.0</td>\n",
       "      <td>8.0</td>\n",
       "      <td>3.0</td>\n",
       "      <td>4.0</td>\n",
       "      <td>2.0</td>\n",
       "      <td>0.0</td>\n",
       "    </tr>\n",
       "    <tr>\n",
       "      <th>1</th>\n",
       "      <td>0.337662</td>\n",
       "      <td>0.500000</td>\n",
       "      <td>0.073067</td>\n",
       "      <td>0.133333</td>\n",
       "      <td>0.0</td>\n",
       "      <td>0.0</td>\n",
       "      <td>0.0</td>\n",
       "      <td>2.0</td>\n",
       "      <td>1.0</td>\n",
       "      <td>0.0</td>\n",
       "      <td>1.0</td>\n",
       "      <td>0.0</td>\n",
       "      <td>2.0</td>\n",
       "      <td>8.0</td>\n",
       "      <td>3.0</td>\n",
       "      <td>9.0</td>\n",
       "      <td>1.0</td>\n",
       "      <td>0.0</td>\n",
       "    </tr>\n",
       "    <tr>\n",
       "      <th>2</th>\n",
       "      <td>0.194805</td>\n",
       "      <td>1.000000</td>\n",
       "      <td>0.072822</td>\n",
       "      <td>0.133333</td>\n",
       "      <td>0.0</td>\n",
       "      <td>0.0</td>\n",
       "      <td>0.0</td>\n",
       "      <td>1.0</td>\n",
       "      <td>1.0</td>\n",
       "      <td>0.0</td>\n",
       "      <td>1.0</td>\n",
       "      <td>1.0</td>\n",
       "      <td>2.0</td>\n",
       "      <td>8.0</td>\n",
       "      <td>3.0</td>\n",
       "      <td>2.0</td>\n",
       "      <td>1.0</td>\n",
       "      <td>0.0</td>\n",
       "    </tr>\n",
       "    <tr>\n",
       "      <th>3</th>\n",
       "      <td>0.376623</td>\n",
       "      <td>0.166667</td>\n",
       "      <td>0.086476</td>\n",
       "      <td>0.133333</td>\n",
       "      <td>0.0</td>\n",
       "      <td>0.0</td>\n",
       "      <td>0.0</td>\n",
       "      <td>1.0</td>\n",
       "      <td>0.0</td>\n",
       "      <td>0.0</td>\n",
       "      <td>1.0</td>\n",
       "      <td>0.0</td>\n",
       "      <td>2.0</td>\n",
       "      <td>8.0</td>\n",
       "      <td>3.0</td>\n",
       "      <td>1.0</td>\n",
       "      <td>3.0</td>\n",
       "      <td>0.0</td>\n",
       "    </tr>\n",
       "    <tr>\n",
       "      <th>4</th>\n",
       "      <td>0.194805</td>\n",
       "      <td>0.000000</td>\n",
       "      <td>0.072812</td>\n",
       "      <td>0.133333</td>\n",
       "      <td>0.0</td>\n",
       "      <td>0.0</td>\n",
       "      <td>0.0</td>\n",
       "      <td>2.0</td>\n",
       "      <td>0.0</td>\n",
       "      <td>0.0</td>\n",
       "      <td>0.0</td>\n",
       "      <td>0.0</td>\n",
       "      <td>2.0</td>\n",
       "      <td>8.0</td>\n",
       "      <td>3.0</td>\n",
       "      <td>11.0</td>\n",
       "      <td>3.0</td>\n",
       "      <td>0.0</td>\n",
       "    </tr>\n",
       "  </tbody>\n",
       "</table>\n",
       "</div>"
      ],
      "text/plain": [
       "        age    salary   balance       day  campaign  pdays  previous  marital  \\\n",
       "0  0.519481  0.833333  0.092259  0.133333       0.0    0.0       0.0      1.0   \n",
       "1  0.337662  0.500000  0.073067  0.133333       0.0    0.0       0.0      2.0   \n",
       "2  0.194805  1.000000  0.072822  0.133333       0.0    0.0       0.0      1.0   \n",
       "3  0.376623  0.166667  0.086476  0.133333       0.0    0.0       0.0      1.0   \n",
       "4  0.194805  0.000000  0.072812  0.133333       0.0    0.0       0.0      2.0   \n",
       "\n",
       "   targeted  default  housing  loan  contact  month  poutcome   job  \\\n",
       "0       1.0      0.0      1.0   0.0      2.0    8.0       3.0   4.0   \n",
       "1       1.0      0.0      1.0   0.0      2.0    8.0       3.0   9.0   \n",
       "2       1.0      0.0      1.0   1.0      2.0    8.0       3.0   2.0   \n",
       "3       0.0      0.0      1.0   0.0      2.0    8.0       3.0   1.0   \n",
       "4       0.0      0.0      0.0   0.0      2.0    8.0       3.0  11.0   \n",
       "\n",
       "   education  response_rate  \n",
       "0        2.0            0.0  \n",
       "1        1.0            0.0  \n",
       "2        1.0            0.0  \n",
       "3        3.0            0.0  \n",
       "4        3.0            0.0  "
      ]
     },
     "execution_count": 141,
     "metadata": {},
     "output_type": "execute_result"
    }
   ],
   "source": [
    "df.head()"
   ]
  },
  {
   "cell_type": "code",
   "execution_count": 142,
   "id": "c73437c7",
   "metadata": {},
   "outputs": [],
   "source": [
    "y = df.response_rate\n",
    "x = df.drop('response_rate', axis=1)"
   ]
  },
  {
   "cell_type": "code",
   "execution_count": 143,
   "id": "07144d93",
   "metadata": {},
   "outputs": [
    {
     "data": {
      "text/plain": [
       "0    0.0\n",
       "1    0.0\n",
       "2    0.0\n",
       "3    0.0\n",
       "4    0.0\n",
       "Name: response_rate, dtype: float64"
      ]
     },
     "execution_count": 143,
     "metadata": {},
     "output_type": "execute_result"
    }
   ],
   "source": [
    "y.head()"
   ]
  },
  {
   "cell_type": "code",
   "execution_count": 144,
   "id": "6ffcd9c8",
   "metadata": {},
   "outputs": [
    {
     "data": {
      "text/html": [
       "<div>\n",
       "<style scoped>\n",
       "    .dataframe tbody tr th:only-of-type {\n",
       "        vertical-align: middle;\n",
       "    }\n",
       "\n",
       "    .dataframe tbody tr th {\n",
       "        vertical-align: top;\n",
       "    }\n",
       "\n",
       "    .dataframe thead th {\n",
       "        text-align: right;\n",
       "    }\n",
       "</style>\n",
       "<table border=\"1\" class=\"dataframe\">\n",
       "  <thead>\n",
       "    <tr style=\"text-align: right;\">\n",
       "      <th></th>\n",
       "      <th>age</th>\n",
       "      <th>salary</th>\n",
       "      <th>balance</th>\n",
       "      <th>day</th>\n",
       "      <th>campaign</th>\n",
       "      <th>pdays</th>\n",
       "      <th>previous</th>\n",
       "      <th>marital</th>\n",
       "      <th>targeted</th>\n",
       "      <th>default</th>\n",
       "      <th>housing</th>\n",
       "      <th>loan</th>\n",
       "      <th>contact</th>\n",
       "      <th>month</th>\n",
       "      <th>poutcome</th>\n",
       "      <th>job</th>\n",
       "      <th>education</th>\n",
       "    </tr>\n",
       "  </thead>\n",
       "  <tbody>\n",
       "    <tr>\n",
       "      <th>0</th>\n",
       "      <td>0.519481</td>\n",
       "      <td>0.833333</td>\n",
       "      <td>0.092259</td>\n",
       "      <td>0.133333</td>\n",
       "      <td>0.0</td>\n",
       "      <td>0.0</td>\n",
       "      <td>0.0</td>\n",
       "      <td>1.0</td>\n",
       "      <td>1.0</td>\n",
       "      <td>0.0</td>\n",
       "      <td>1.0</td>\n",
       "      <td>0.0</td>\n",
       "      <td>2.0</td>\n",
       "      <td>8.0</td>\n",
       "      <td>3.0</td>\n",
       "      <td>4.0</td>\n",
       "      <td>2.0</td>\n",
       "    </tr>\n",
       "    <tr>\n",
       "      <th>1</th>\n",
       "      <td>0.337662</td>\n",
       "      <td>0.500000</td>\n",
       "      <td>0.073067</td>\n",
       "      <td>0.133333</td>\n",
       "      <td>0.0</td>\n",
       "      <td>0.0</td>\n",
       "      <td>0.0</td>\n",
       "      <td>2.0</td>\n",
       "      <td>1.0</td>\n",
       "      <td>0.0</td>\n",
       "      <td>1.0</td>\n",
       "      <td>0.0</td>\n",
       "      <td>2.0</td>\n",
       "      <td>8.0</td>\n",
       "      <td>3.0</td>\n",
       "      <td>9.0</td>\n",
       "      <td>1.0</td>\n",
       "    </tr>\n",
       "    <tr>\n",
       "      <th>2</th>\n",
       "      <td>0.194805</td>\n",
       "      <td>1.000000</td>\n",
       "      <td>0.072822</td>\n",
       "      <td>0.133333</td>\n",
       "      <td>0.0</td>\n",
       "      <td>0.0</td>\n",
       "      <td>0.0</td>\n",
       "      <td>1.0</td>\n",
       "      <td>1.0</td>\n",
       "      <td>0.0</td>\n",
       "      <td>1.0</td>\n",
       "      <td>1.0</td>\n",
       "      <td>2.0</td>\n",
       "      <td>8.0</td>\n",
       "      <td>3.0</td>\n",
       "      <td>2.0</td>\n",
       "      <td>1.0</td>\n",
       "    </tr>\n",
       "    <tr>\n",
       "      <th>3</th>\n",
       "      <td>0.376623</td>\n",
       "      <td>0.166667</td>\n",
       "      <td>0.086476</td>\n",
       "      <td>0.133333</td>\n",
       "      <td>0.0</td>\n",
       "      <td>0.0</td>\n",
       "      <td>0.0</td>\n",
       "      <td>1.0</td>\n",
       "      <td>0.0</td>\n",
       "      <td>0.0</td>\n",
       "      <td>1.0</td>\n",
       "      <td>0.0</td>\n",
       "      <td>2.0</td>\n",
       "      <td>8.0</td>\n",
       "      <td>3.0</td>\n",
       "      <td>1.0</td>\n",
       "      <td>3.0</td>\n",
       "    </tr>\n",
       "    <tr>\n",
       "      <th>4</th>\n",
       "      <td>0.194805</td>\n",
       "      <td>0.000000</td>\n",
       "      <td>0.072812</td>\n",
       "      <td>0.133333</td>\n",
       "      <td>0.0</td>\n",
       "      <td>0.0</td>\n",
       "      <td>0.0</td>\n",
       "      <td>2.0</td>\n",
       "      <td>0.0</td>\n",
       "      <td>0.0</td>\n",
       "      <td>0.0</td>\n",
       "      <td>0.0</td>\n",
       "      <td>2.0</td>\n",
       "      <td>8.0</td>\n",
       "      <td>3.0</td>\n",
       "      <td>11.0</td>\n",
       "      <td>3.0</td>\n",
       "    </tr>\n",
       "  </tbody>\n",
       "</table>\n",
       "</div>"
      ],
      "text/plain": [
       "        age    salary   balance       day  campaign  pdays  previous  marital  \\\n",
       "0  0.519481  0.833333  0.092259  0.133333       0.0    0.0       0.0      1.0   \n",
       "1  0.337662  0.500000  0.073067  0.133333       0.0    0.0       0.0      2.0   \n",
       "2  0.194805  1.000000  0.072822  0.133333       0.0    0.0       0.0      1.0   \n",
       "3  0.376623  0.166667  0.086476  0.133333       0.0    0.0       0.0      1.0   \n",
       "4  0.194805  0.000000  0.072812  0.133333       0.0    0.0       0.0      2.0   \n",
       "\n",
       "   targeted  default  housing  loan  contact  month  poutcome   job  education  \n",
       "0       1.0      0.0      1.0   0.0      2.0    8.0       3.0   4.0        2.0  \n",
       "1       1.0      0.0      1.0   0.0      2.0    8.0       3.0   9.0        1.0  \n",
       "2       1.0      0.0      1.0   1.0      2.0    8.0       3.0   2.0        1.0  \n",
       "3       0.0      0.0      1.0   0.0      2.0    8.0       3.0   1.0        3.0  \n",
       "4       0.0      0.0      0.0   0.0      2.0    8.0       3.0  11.0        3.0  "
      ]
     },
     "execution_count": 144,
     "metadata": {},
     "output_type": "execute_result"
    }
   ],
   "source": [
    "x.head()"
   ]
  },
  {
   "cell_type": "code",
   "execution_count": 145,
   "id": "b4e51fc5",
   "metadata": {},
   "outputs": [],
   "source": [
    "# separndo o dataset para treino e teste, sendo 30% sera teste. \n",
    "# O random state é para garantir que sempre que rodar mesma amostra.\n",
    "X_train, X_test, y_train, y_test = train_test_split(x, y, test_size=0.3) #, random_state=42)"
   ]
  },
  {
   "cell_type": "code",
   "execution_count": 146,
   "id": "99569f7d",
   "metadata": {},
   "outputs": [
    {
     "data": {
      "text/plain": [
       "(31577, 17)"
      ]
     },
     "execution_count": 146,
     "metadata": {},
     "output_type": "execute_result"
    }
   ],
   "source": [
    "X_train.shape"
   ]
  },
  {
   "cell_type": "code",
   "execution_count": 147,
   "id": "0187088d",
   "metadata": {},
   "outputs": [
    {
     "data": {
      "text/plain": [
       "(13534, 17)"
      ]
     },
     "execution_count": 147,
     "metadata": {},
     "output_type": "execute_result"
    }
   ],
   "source": [
    "X_test.shape"
   ]
  },
  {
   "cell_type": "code",
   "execution_count": 148,
   "id": "43f20b00",
   "metadata": {},
   "outputs": [
    {
     "data": {
      "text/plain": [
       "0.0    27908\n",
       "1.0     3669\n",
       "Name: response_rate, dtype: int64"
      ]
     },
     "execution_count": 148,
     "metadata": {},
     "output_type": "execute_result"
    }
   ],
   "source": [
    "y_train.value_counts()"
   ]
  },
  {
   "cell_type": "code",
   "execution_count": 149,
   "id": "80906b77",
   "metadata": {},
   "outputs": [
    {
     "data": {
      "text/plain": [
       "0.0    11946\n",
       "1.0     1588\n",
       "Name: response_rate, dtype: int64"
      ]
     },
     "execution_count": 149,
     "metadata": {},
     "output_type": "execute_result"
    }
   ],
   "source": [
    "y_test.value_counts()"
   ]
  },
  {
   "cell_type": "markdown",
   "id": "6829a612",
   "metadata": {},
   "source": [
    "## 3.0- Balancear dados da treino"
   ]
  },
  {
   "cell_type": "code",
   "execution_count": 150,
   "id": "b863f73f",
   "metadata": {},
   "outputs": [
    {
     "data": {
      "text/plain": [
       "age          0\n",
       "salary       0\n",
       "balance      0\n",
       "day          0\n",
       "campaign     0\n",
       "pdays        0\n",
       "previous     0\n",
       "marital      0\n",
       "targeted     0\n",
       "default      0\n",
       "housing      0\n",
       "loan         0\n",
       "contact      0\n",
       "month        0\n",
       "poutcome     0\n",
       "job          0\n",
       "education    0\n",
       "dtype: int64"
      ]
     },
     "execution_count": 150,
     "metadata": {},
     "output_type": "execute_result"
    }
   ],
   "source": [
    "# isnulls \n",
    "X_train.isnull().sum()"
   ]
  },
  {
   "cell_type": "code",
   "execution_count": 151,
   "id": "2d5cf537",
   "metadata": {},
   "outputs": [
    {
     "data": {
      "text/plain": [
       "0"
      ]
     },
     "execution_count": 151,
     "metadata": {},
     "output_type": "execute_result"
    }
   ],
   "source": [
    "# isnulls \n",
    "y_train.isnull().sum()"
   ]
  },
  {
   "cell_type": "code",
   "execution_count": 152,
   "id": "40083862",
   "metadata": {},
   "outputs": [
    {
     "data": {
      "image/png": "[encoded data removed]",
      "text/plain": [
       "<Figure size 432x288 with 1 Axes>"
      ]
     },
     "metadata": {
      "needs_background": "light"
     },
     "output_type": "display_data"
    }
   ],
   "source": [
    "# verificar o grafico\n",
    "y_train.value_counts(normalize=True).plot.barh()\n",
    "plt.show()"
   ]
  },
  {
   "cell_type": "code",
   "execution_count": 153,
   "id": "008c8daa",
   "metadata": {},
   "outputs": [],
   "source": [
    "# minimizar o desbalanceamento, assim, vamos balancear para que equalize a base para evitar excesso tendioso para o TREINO.\n",
    "# aSSIM O ALGOritmo não seria tendioso ao treinar. Ja a base para rodar não precisaria.\n",
    "\n",
    "sm = SMOTE()\n",
    "X_res_train, y_res_train = sm.fit_resample(X_train, y_train)\n",
    "\n",
    "# caso tiver ValueError: Input contains NaN, infinity or a value too large for dtype('float64')\n",
    "# sao valores null possiveis dentro do dataset, assim, tem que tratar."
   ]
  },
  {
   "cell_type": "markdown",
   "id": "38d2bc88",
   "metadata": {},
   "source": [
    "### graficos"
   ]
  },
  {
   "cell_type": "code",
   "execution_count": 154,
   "id": "5eda9048",
   "metadata": {},
   "outputs": [
    {
     "data": {
      "image/png": "[encoded data removed]",
      "text/plain": [
       "<Figure size 432x288 with 1 Axes>"
      ]
     },
     "metadata": {
      "needs_background": "light"
     },
     "output_type": "display_data"
    }
   ],
   "source": [
    "y_res.value_counts(normalize=True).plot.barh()\n",
    "plt.show()"
   ]
  },
  {
   "cell_type": "code",
   "execution_count": 155,
   "id": "6e8c8f9e",
   "metadata": {},
   "outputs": [
    {
     "data": {
      "image/png": "[encoded data removed]",
      "text/plain": [
       "<Figure size 432x288 with 1 Axes>"
      ]
     },
     "metadata": {
      "needs_background": "light"
     },
     "output_type": "display_data"
    }
   ],
   "source": [
    "y_res.value_counts(normalize=True).plot.bar()\n",
    "plt.show()"
   ]
  },
  {
   "cell_type": "markdown",
   "id": "b2b1ee9f",
   "metadata": {},
   "source": [
    "## 4.0 - Treinamento de algoritmo de classificação"
   ]
  },
  {
   "cell_type": "code",
   "execution_count": 156,
   "id": "6428a454",
   "metadata": {},
   "outputs": [
    {
     "name": "stdout",
     "output_type": "stream",
     "text": [
      "Iteration 1, loss = 0.62726586\n",
      "Iteration 2, loss = 0.60874113\n",
      "Iteration 3, loss = 0.60024040\n",
      "Iteration 4, loss = 0.59321430\n",
      "Iteration 5, loss = 0.58816982\n",
      "Iteration 6, loss = 0.58333323\n",
      "Iteration 7, loss = 0.57930115\n",
      "Iteration 8, loss = 0.57592918\n",
      "Iteration 9, loss = 0.57199140\n",
      "Iteration 10, loss = 0.56900813\n"
     ]
    },
    {
     "name": "stderr",
     "output_type": "stream",
     "text": [
      "C:\\Users\\lindb\\anaconda3\\lib\\site-packages\\sklearn\\neural_network\\_multilayer_perceptron.py:692: ConvergenceWarning: Stochastic Optimizer: Maximum iterations (10) reached and the optimization hasn't converged yet.\n",
      "  warnings.warn(\n"
     ]
    }
   ],
   "source": [
    "# nosso defaul de interação é 200 interações, caso nao melhorar nas ultimas 10 ele para.\n",
    "model = MLPClassifier(verbose=True, max_iter = 10) # bom usar max_iter 300\n",
    "model = model.fit(X_res_train, y_res_train)"
   ]
  },
  {
   "cell_type": "code",
   "execution_count": 157,
   "id": "52b37a5d",
   "metadata": {},
   "outputs": [],
   "source": [
    "# vamos fazer o Predict para ver se teve bons resultados\n",
    "y_pred = model.predict(X_test)"
   ]
  },
  {
   "cell_type": "code",
   "execution_count": 158,
   "id": "41d543b9",
   "metadata": {},
   "outputs": [
    {
     "data": {
      "text/plain": [
       "array([1., 0., 0., ..., 0., 0., 0.])"
      ]
     },
     "execution_count": 158,
     "metadata": {},
     "output_type": "execute_result"
    }
   ],
   "source": [
    "y_pred"
   ]
  },
  {
   "cell_type": "code",
   "execution_count": 159,
   "id": "0455a3d2",
   "metadata": {},
   "outputs": [],
   "source": [
    "score = accuracy_score(y_test, y_pred)"
   ]
  },
  {
   "cell_type": "code",
   "execution_count": 160,
   "id": "7d8729f0",
   "metadata": {},
   "outputs": [
    {
     "name": "stdout",
     "output_type": "stream",
     "text": [
      "Accuracy Score: 0.7028964090438895\n"
     ]
    }
   ],
   "source": [
    "# varia de 0 a 1, sendo quanto maior melhor.\n",
    "print('Accuracy Score:', score)"
   ]
  },
  {
   "cell_type": "code",
   "execution_count": 172,
   "id": "4567a379",
   "metadata": {},
   "outputs": [],
   "source": [
    "#TEstar PRecisao\n",
    "prec = precision_score(y_test, y_pred)"
   ]
  },
  {
   "cell_type": "code",
   "execution_count": 173,
   "id": "d234be31",
   "metadata": {},
   "outputs": [
    {
     "name": "stdout",
     "output_type": "stream",
     "text": [
      "Precision Score: 0.4943946188340807\n"
     ]
    }
   ],
   "source": [
    "# varia de 0 a 1, sendo quanto maior melhor.\n",
    "print('Precision Score:', prec)"
   ]
  },
  {
   "cell_type": "code",
   "execution_count": 175,
   "id": "3b4288d3",
   "metadata": {},
   "outputs": [],
   "source": [
    "#TEstar Recall - Revogação\n",
    "rec = precision_score(y_test, y_pred)"
   ]
  },
  {
   "cell_type": "code",
   "execution_count": 176,
   "id": "ca0cdf64",
   "metadata": {},
   "outputs": [
    {
     "name": "stdout",
     "output_type": "stream",
     "text": [
      "Precision Score: 0.4943946188340807\n"
     ]
    }
   ],
   "source": [
    "# varia de 0 a 1, sendo quanto maior melhor.\n",
    "print('Precision Score:', rec)"
   ]
  },
  {
   "cell_type": "code",
   "execution_count": 177,
   "id": "ae7d166c",
   "metadata": {},
   "outputs": [],
   "source": [
    "#TEstar F1 Score\n",
    "f1s = f1_score(y_test, y_pred)"
   ]
  },
  {
   "cell_type": "code",
   "execution_count": 178,
   "id": "33bae7dd",
   "metadata": {},
   "outputs": [
    {
     "name": "stdout",
     "output_type": "stream",
     "text": [
      "F1 Score: 0.3556451612903226\n"
     ]
    }
   ],
   "source": [
    "# varia de 0 a 1, sendo quanto maior melhor.\n",
    "print('F1 Score:', f1s)"
   ]
  },
  {
   "cell_type": "markdown",
   "id": "52a3a57e",
   "metadata": {},
   "source": [
    "## Verificar resultados "
   ]
  },
  {
   "cell_type": "code",
   "execution_count": 163,
   "id": "de28d6ee",
   "metadata": {},
   "outputs": [
    {
     "data": {
      "text/plain": [
       "<sklearn.metrics._plot.confusion_matrix.ConfusionMatrixDisplay at 0x2315cd9f430>"
      ]
     },
     "execution_count": 163,
     "metadata": {},
     "output_type": "execute_result"
    },
    {
     "data": {
      "image/png": "[encoded data removed]",
      "text/plain": [
       "<Figure size 432x288 with 2 Axes>"
      ]
     },
     "metadata": {
      "needs_background": "light"
     },
     "output_type": "display_data"
    }
   ],
   "source": [
    "#Confusion Matrix\n",
    "# o valor y é o real, e no x é o PRevisao. Quando comparar o perto do y é real, e o \"par\" com x é o erro.\n",
    "cm = confusion_matrix(y_test, y_pred )\n",
    "cmd = ConfusionMatrixDisplay(cm, display_labels=['0', '1'])\n",
    "cmd.plot()"
   ]
  },
  {
   "cell_type": "markdown",
   "id": "b28c8dd3",
   "metadata": {},
   "source": [
    "## 4.2 RandomForest"
   ]
  },
  {
   "cell_type": "code",
   "execution_count": 164,
   "id": "5a54ead5",
   "metadata": {},
   "outputs": [],
   "source": [
    "model = RandomForestClassifier()"
   ]
  },
  {
   "cell_type": "code",
   "execution_count": 165,
   "id": "407e8412",
   "metadata": {},
   "outputs": [],
   "source": [
    "model = model.fit(X_res_train, y_res_train)"
   ]
  },
  {
   "cell_type": "code",
   "execution_count": 166,
   "id": "1d3f7f85",
   "metadata": {},
   "outputs": [],
   "source": [
    "# vamos fazer o Predict para ver se teve bons resultados\n",
    "y_pred = model.predict(X_test)"
   ]
  },
  {
   "cell_type": "code",
   "execution_count": 167,
   "id": "f3c05d42",
   "metadata": {},
   "outputs": [],
   "source": [
    "score = accuracy_score(y_test, y_pred)"
   ]
  },
  {
   "cell_type": "code",
   "execution_count": 168,
   "id": "8f15da6f",
   "metadata": {},
   "outputs": [],
   "source": [
    "#TEstar F1 Score\n",
    "f1s = f1_score(y_test, y_pred)"
   ]
  },
  {
   "cell_type": "code",
   "execution_count": 169,
   "id": "2edf8608",
   "metadata": {},
   "outputs": [
    {
     "name": "stdout",
     "output_type": "stream",
     "text": [
      "Accuracy Score: 0.8819269986700162\n",
      "F1 Score: 0.3556451612903226\n"
     ]
    }
   ],
   "source": [
    "# varia de 0 a 1, sendo quanto maior melhor. \n",
    "print('Accuracy Score:', score)\n",
    "print('F1 Score:', f1s)"
   ]
  },
  {
   "cell_type": "code",
   "execution_count": 170,
   "id": "801b187d",
   "metadata": {},
   "outputs": [
    {
     "data": {
      "text/plain": [
       "<sklearn.metrics._plot.confusion_matrix.ConfusionMatrixDisplay at 0x2315fdf8100>"
      ]
     },
     "execution_count": 170,
     "metadata": {},
     "output_type": "execute_result"
    },
    {
     "data": {
      "image/png": "[encoded data removed]",
      "text/plain": [
       "<Figure size 432x288 with 2 Axes>"
      ]
     },
     "metadata": {
      "needs_background": "light"
     },
     "output_type": "display_data"
    }
   ],
   "source": [
    "#Confusion Matrix\n",
    "cm = confusion_matrix(y_test, y_pred )\n",
    "cmd = ConfusionMatrixDisplay(cm, display_labels=['0', '1'])\n",
    "cmd.plot()"
   ]
  },
  {
   "cell_type": "markdown",
   "id": "70675b3e",
   "metadata": {},
   "source": [
    "## Conclusão\n",
    "\n",
    "BAse de dados complexa, e estes algoritmos não sao robustos para estes dados, pois muitos erros ainda."
   ]
  },
  {
   "cell_type": "code",
   "execution_count": null,
   "id": "9362d6b1",
   "metadata": {},
   "outputs": [],
   "source": []
  }
 ],
 "metadata": {
  "kernelspec": {
   "display_name": "Python 3",
   "language": "python",
   "name": "python3"
  },
  "language_info": {
   "codemirror_mode": {
    "name": "ipython",
    "version": 3
   },
   "file_extension": ".py",
   "mimetype": "text/x-python",
   "name": "python",
   "nbconvert_exporter": "python",
   "pygments_lexer": "ipython3",
   "version": "3.8.8"
  }
 },
 "nbformat": 4,
 "nbformat_minor": 5
}
