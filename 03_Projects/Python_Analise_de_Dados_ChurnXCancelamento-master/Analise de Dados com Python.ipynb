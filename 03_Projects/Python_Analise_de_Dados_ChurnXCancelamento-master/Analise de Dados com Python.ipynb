{
 "cells": [
  {
   "cell_type": "markdown",
   "id": "32bb9b32",
   "metadata": {},
   "source": [
    "# Análise de Dados com Python\n",
    "\n",
    "Você trabalha em uma empresa de telecom e tem clientes de vários serviçços diferentes, \n",
    "entre os principais : internet e telefone\n",
    "\n",
    "O problema é que, analisando o histórico dos clientes dos últimos anos, você percebeu que a empresa está com Chum de mais de 26% do clientes (chum = quantidade de clientes cancelando contrato de serviço depois de um tempo).\n",
    "\n",
    "Isso representa uma perda de milhões para empresa.\n",
    "\n",
    "O que a empresa precisa fazr para resolver isso?\n",
    "\n",
    "Base de Dados: https://drive.google.com/drive/folders/1w3TmCcQPoc7ew1CXmwwEUpWeHJzJQqGZ?usp=sharing <br>\n",
    "Link Original do Kaggle: https://www.kaggle.com/radmirzosimov/telecom-users-dataset"
   ]
  },
  {
   "cell_type": "markdown",
   "id": "aa062045",
   "metadata": {},
   "source": [
    "### Passo 1: Importar a base de dados"
   ]
  },
  {
   "cell_type": "code",
   "execution_count": 1,
   "id": "c121ca62",
   "metadata": {},
   "outputs": [],
   "source": [
    "import pandas as pd\n",
    "\n",
    "##tabela_clientes = pd.read_csv(r\"C:\\Users\\lindb\\Python-Estudos\\Arquivos\\Analise_Dados_Python\\telecom_users.csv\")\n",
    "\n",
    "tabela_clientes = pd.read_csv(r\"Arquivos\\telecom_users.csv\")"
   ]
  },
  {
   "cell_type": "markdown",
   "id": "d5f5a78b",
   "metadata": {},
   "source": [
    "### Passo 2: Visualizar a base de dados para entender o que temos disponível"
   ]
  },
  {
   "cell_type": "code",
   "execution_count": 2,
   "id": "332d15f0",
   "metadata": {},
   "outputs": [
    {
     "data": {
      "text/html": [
       "<div>\n",
       "<style scoped>\n",
       "    .dataframe tbody tr th:only-of-type {\n",
       "        vertical-align: middle;\n",
       "    }\n",
       "\n",
       "    .dataframe tbody tr th {\n",
       "        vertical-align: top;\n",
       "    }\n",
       "\n",
       "    .dataframe thead th {\n",
       "        text-align: right;\n",
       "    }\n",
       "</style>\n",
       "<table border=\"1\" class=\"dataframe\">\n",
       "  <thead>\n",
       "    <tr style=\"text-align: right;\">\n",
       "      <th></th>\n",
       "      <th>Unnamed: 0</th>\n",
       "      <th>IDCliente</th>\n",
       "      <th>Genero</th>\n",
       "      <th>Aposentado</th>\n",
       "      <th>Casado</th>\n",
       "      <th>Dependentes</th>\n",
       "      <th>MesesComoCliente</th>\n",
       "      <th>ServicoTelefone</th>\n",
       "      <th>MultiplasLinhas</th>\n",
       "      <th>ServicoInternet</th>\n",
       "      <th>...</th>\n",
       "      <th>ServicoSuporteTecnico</th>\n",
       "      <th>ServicoStreamingTV</th>\n",
       "      <th>ServicoFilmes</th>\n",
       "      <th>TipoContrato</th>\n",
       "      <th>FaturaDigital</th>\n",
       "      <th>FormaPagamento</th>\n",
       "      <th>ValorMensal</th>\n",
       "      <th>TotalGasto</th>\n",
       "      <th>Churn</th>\n",
       "      <th>Codigo</th>\n",
       "    </tr>\n",
       "  </thead>\n",
       "  <tbody>\n",
       "    <tr>\n",
       "      <th>0</th>\n",
       "      <td>1869</td>\n",
       "      <td>7010-BRBUU</td>\n",
       "      <td>Masculino</td>\n",
       "      <td>0</td>\n",
       "      <td>Sim</td>\n",
       "      <td>Sim</td>\n",
       "      <td>72</td>\n",
       "      <td>Sim</td>\n",
       "      <td>Sim</td>\n",
       "      <td>Nao</td>\n",
       "      <td>...</td>\n",
       "      <td>SemInternet</td>\n",
       "      <td>SemInternet</td>\n",
       "      <td>SemInternet</td>\n",
       "      <td>2 anos</td>\n",
       "      <td>Nao</td>\n",
       "      <td>CartaoCredito</td>\n",
       "      <td>24.10</td>\n",
       "      <td>1734.65</td>\n",
       "      <td>Nao</td>\n",
       "      <td>NaN</td>\n",
       "    </tr>\n",
       "    <tr>\n",
       "      <th>1</th>\n",
       "      <td>4528</td>\n",
       "      <td>9688-YGXVR</td>\n",
       "      <td>Feminino</td>\n",
       "      <td>0</td>\n",
       "      <td>Nao</td>\n",
       "      <td>Nao</td>\n",
       "      <td>44</td>\n",
       "      <td>Sim</td>\n",
       "      <td>Nao</td>\n",
       "      <td>Fibra</td>\n",
       "      <td>...</td>\n",
       "      <td>Nao</td>\n",
       "      <td>Sim</td>\n",
       "      <td>Nao</td>\n",
       "      <td>Mensal</td>\n",
       "      <td>Sim</td>\n",
       "      <td>CartaoCredito</td>\n",
       "      <td>88.15</td>\n",
       "      <td>3973.2</td>\n",
       "      <td>Nao</td>\n",
       "      <td>NaN</td>\n",
       "    </tr>\n",
       "    <tr>\n",
       "      <th>2</th>\n",
       "      <td>6344</td>\n",
       "      <td>9286-DOJGF</td>\n",
       "      <td>Feminino</td>\n",
       "      <td>1</td>\n",
       "      <td>Sim</td>\n",
       "      <td>Nao</td>\n",
       "      <td>38</td>\n",
       "      <td>Sim</td>\n",
       "      <td>Sim</td>\n",
       "      <td>Fibra</td>\n",
       "      <td>...</td>\n",
       "      <td>Nao</td>\n",
       "      <td>Nao</td>\n",
       "      <td>Nao</td>\n",
       "      <td>Mensal</td>\n",
       "      <td>Sim</td>\n",
       "      <td>DebitoAutomatico</td>\n",
       "      <td>74.95</td>\n",
       "      <td>2869.85</td>\n",
       "      <td>Sim</td>\n",
       "      <td>NaN</td>\n",
       "    </tr>\n",
       "    <tr>\n",
       "      <th>3</th>\n",
       "      <td>6739</td>\n",
       "      <td>6994-KERXL</td>\n",
       "      <td>Masculino</td>\n",
       "      <td>0</td>\n",
       "      <td>Nao</td>\n",
       "      <td>Nao</td>\n",
       "      <td>4</td>\n",
       "      <td>Sim</td>\n",
       "      <td>Nao</td>\n",
       "      <td>DSL</td>\n",
       "      <td>...</td>\n",
       "      <td>Nao</td>\n",
       "      <td>Nao</td>\n",
       "      <td>Sim</td>\n",
       "      <td>Mensal</td>\n",
       "      <td>Sim</td>\n",
       "      <td>BoletoEletronico</td>\n",
       "      <td>55.90</td>\n",
       "      <td>238.5</td>\n",
       "      <td>Nao</td>\n",
       "      <td>NaN</td>\n",
       "    </tr>\n",
       "    <tr>\n",
       "      <th>4</th>\n",
       "      <td>432</td>\n",
       "      <td>2181-UAESM</td>\n",
       "      <td>Masculino</td>\n",
       "      <td>0</td>\n",
       "      <td>Nao</td>\n",
       "      <td>Nao</td>\n",
       "      <td>2</td>\n",
       "      <td>Sim</td>\n",
       "      <td>Nao</td>\n",
       "      <td>DSL</td>\n",
       "      <td>...</td>\n",
       "      <td>Nao</td>\n",
       "      <td>Nao</td>\n",
       "      <td>Nao</td>\n",
       "      <td>Mensal</td>\n",
       "      <td>Nao</td>\n",
       "      <td>BoletoEletronico</td>\n",
       "      <td>53.45</td>\n",
       "      <td>119.5</td>\n",
       "      <td>Nao</td>\n",
       "      <td>NaN</td>\n",
       "    </tr>\n",
       "    <tr>\n",
       "      <th>...</th>\n",
       "      <td>...</td>\n",
       "      <td>...</td>\n",
       "      <td>...</td>\n",
       "      <td>...</td>\n",
       "      <td>...</td>\n",
       "      <td>...</td>\n",
       "      <td>...</td>\n",
       "      <td>...</td>\n",
       "      <td>...</td>\n",
       "      <td>...</td>\n",
       "      <td>...</td>\n",
       "      <td>...</td>\n",
       "      <td>...</td>\n",
       "      <td>...</td>\n",
       "      <td>...</td>\n",
       "      <td>...</td>\n",
       "      <td>...</td>\n",
       "      <td>...</td>\n",
       "      <td>...</td>\n",
       "      <td>...</td>\n",
       "      <td>...</td>\n",
       "    </tr>\n",
       "    <tr>\n",
       "      <th>5981</th>\n",
       "      <td>3772</td>\n",
       "      <td>0684-AOSIH</td>\n",
       "      <td>Masculino</td>\n",
       "      <td>0</td>\n",
       "      <td>Sim</td>\n",
       "      <td>Nao</td>\n",
       "      <td>1</td>\n",
       "      <td>Sim</td>\n",
       "      <td>Nao</td>\n",
       "      <td>Fibra</td>\n",
       "      <td>...</td>\n",
       "      <td>Nao</td>\n",
       "      <td>Sim</td>\n",
       "      <td>Sim</td>\n",
       "      <td>Mensal</td>\n",
       "      <td>Sim</td>\n",
       "      <td>BoletoEletronico</td>\n",
       "      <td>95.00</td>\n",
       "      <td>95</td>\n",
       "      <td>Sim</td>\n",
       "      <td>NaN</td>\n",
       "    </tr>\n",
       "    <tr>\n",
       "      <th>5982</th>\n",
       "      <td>5191</td>\n",
       "      <td>5982-PSMKW</td>\n",
       "      <td>Feminino</td>\n",
       "      <td>0</td>\n",
       "      <td>Sim</td>\n",
       "      <td>Sim</td>\n",
       "      <td>23</td>\n",
       "      <td>Sim</td>\n",
       "      <td>Sim</td>\n",
       "      <td>DSL</td>\n",
       "      <td>...</td>\n",
       "      <td>Sim</td>\n",
       "      <td>Sim</td>\n",
       "      <td>Sim</td>\n",
       "      <td>2 anos</td>\n",
       "      <td>Sim</td>\n",
       "      <td>CartaoCredito</td>\n",
       "      <td>91.10</td>\n",
       "      <td>2198.3</td>\n",
       "      <td>Nao</td>\n",
       "      <td>NaN</td>\n",
       "    </tr>\n",
       "    <tr>\n",
       "      <th>5983</th>\n",
       "      <td>5226</td>\n",
       "      <td>8044-BGWPI</td>\n",
       "      <td>Masculino</td>\n",
       "      <td>0</td>\n",
       "      <td>Sim</td>\n",
       "      <td>Sim</td>\n",
       "      <td>12</td>\n",
       "      <td>Sim</td>\n",
       "      <td>Nao</td>\n",
       "      <td>Nao</td>\n",
       "      <td>...</td>\n",
       "      <td>SemInternet</td>\n",
       "      <td>SemInternet</td>\n",
       "      <td>SemInternet</td>\n",
       "      <td>Mensal</td>\n",
       "      <td>Sim</td>\n",
       "      <td>BoletoEletronico</td>\n",
       "      <td>21.15</td>\n",
       "      <td>306.05</td>\n",
       "      <td>Nao</td>\n",
       "      <td>NaN</td>\n",
       "    </tr>\n",
       "    <tr>\n",
       "      <th>5984</th>\n",
       "      <td>5390</td>\n",
       "      <td>7450-NWRTR</td>\n",
       "      <td>Masculino</td>\n",
       "      <td>1</td>\n",
       "      <td>Nao</td>\n",
       "      <td>Nao</td>\n",
       "      <td>12</td>\n",
       "      <td>Sim</td>\n",
       "      <td>Sim</td>\n",
       "      <td>Fibra</td>\n",
       "      <td>...</td>\n",
       "      <td>Nao</td>\n",
       "      <td>Sim</td>\n",
       "      <td>Sim</td>\n",
       "      <td>Mensal</td>\n",
       "      <td>Sim</td>\n",
       "      <td>BoletoEletronico</td>\n",
       "      <td>99.45</td>\n",
       "      <td>1200.15</td>\n",
       "      <td>Sim</td>\n",
       "      <td>NaN</td>\n",
       "    </tr>\n",
       "    <tr>\n",
       "      <th>5985</th>\n",
       "      <td>860</td>\n",
       "      <td>4795-UXVCJ</td>\n",
       "      <td>Masculino</td>\n",
       "      <td>0</td>\n",
       "      <td>Nao</td>\n",
       "      <td>Nao</td>\n",
       "      <td>26</td>\n",
       "      <td>Sim</td>\n",
       "      <td>Nao</td>\n",
       "      <td>Nao</td>\n",
       "      <td>...</td>\n",
       "      <td>SemInternet</td>\n",
       "      <td>SemInternet</td>\n",
       "      <td>SemInternet</td>\n",
       "      <td>Anual</td>\n",
       "      <td>Nao</td>\n",
       "      <td>CartaoCredito</td>\n",
       "      <td>19.80</td>\n",
       "      <td>457.3</td>\n",
       "      <td>Nao</td>\n",
       "      <td>NaN</td>\n",
       "    </tr>\n",
       "  </tbody>\n",
       "</table>\n",
       "<p>5986 rows × 23 columns</p>\n",
       "</div>"
      ],
      "text/plain": [
       "      Unnamed: 0   IDCliente     Genero  Aposentado Casado Dependentes  \\\n",
       "0           1869  7010-BRBUU  Masculino           0    Sim         Sim   \n",
       "1           4528  9688-YGXVR   Feminino           0    Nao         Nao   \n",
       "2           6344  9286-DOJGF   Feminino           1    Sim         Nao   \n",
       "3           6739  6994-KERXL  Masculino           0    Nao         Nao   \n",
       "4            432  2181-UAESM  Masculino           0    Nao         Nao   \n",
       "...          ...         ...        ...         ...    ...         ...   \n",
       "5981        3772  0684-AOSIH  Masculino           0    Sim         Nao   \n",
       "5982        5191  5982-PSMKW   Feminino           0    Sim         Sim   \n",
       "5983        5226  8044-BGWPI  Masculino           0    Sim         Sim   \n",
       "5984        5390  7450-NWRTR  Masculino           1    Nao         Nao   \n",
       "5985         860  4795-UXVCJ  Masculino           0    Nao         Nao   \n",
       "\n",
       "      MesesComoCliente ServicoTelefone MultiplasLinhas ServicoInternet  ...  \\\n",
       "0                   72             Sim             Sim             Nao  ...   \n",
       "1                   44             Sim             Nao           Fibra  ...   \n",
       "2                   38             Sim             Sim           Fibra  ...   \n",
       "3                    4             Sim             Nao             DSL  ...   \n",
       "4                    2             Sim             Nao             DSL  ...   \n",
       "...                ...             ...             ...             ...  ...   \n",
       "5981                 1             Sim             Nao           Fibra  ...   \n",
       "5982                23             Sim             Sim             DSL  ...   \n",
       "5983                12             Sim             Nao             Nao  ...   \n",
       "5984                12             Sim             Sim           Fibra  ...   \n",
       "5985                26             Sim             Nao             Nao  ...   \n",
       "\n",
       "     ServicoSuporteTecnico ServicoStreamingTV ServicoFilmes TipoContrato  \\\n",
       "0              SemInternet        SemInternet   SemInternet       2 anos   \n",
       "1                      Nao                Sim           Nao       Mensal   \n",
       "2                      Nao                Nao           Nao       Mensal   \n",
       "3                      Nao                Nao           Sim       Mensal   \n",
       "4                      Nao                Nao           Nao       Mensal   \n",
       "...                    ...                ...           ...          ...   \n",
       "5981                   Nao                Sim           Sim       Mensal   \n",
       "5982                   Sim                Sim           Sim       2 anos   \n",
       "5983           SemInternet        SemInternet   SemInternet       Mensal   \n",
       "5984                   Nao                Sim           Sim       Mensal   \n",
       "5985           SemInternet        SemInternet   SemInternet        Anual   \n",
       "\n",
       "     FaturaDigital    FormaPagamento ValorMensal TotalGasto Churn  Codigo  \n",
       "0              Nao     CartaoCredito       24.10    1734.65   Nao     NaN  \n",
       "1              Sim     CartaoCredito       88.15     3973.2   Nao     NaN  \n",
       "2              Sim  DebitoAutomatico       74.95    2869.85   Sim     NaN  \n",
       "3              Sim  BoletoEletronico       55.90      238.5   Nao     NaN  \n",
       "4              Nao  BoletoEletronico       53.45      119.5   Nao     NaN  \n",
       "...            ...               ...         ...        ...   ...     ...  \n",
       "5981           Sim  BoletoEletronico       95.00         95   Sim     NaN  \n",
       "5982           Sim     CartaoCredito       91.10     2198.3   Nao     NaN  \n",
       "5983           Sim  BoletoEletronico       21.15     306.05   Nao     NaN  \n",
       "5984           Sim  BoletoEletronico       99.45    1200.15   Sim     NaN  \n",
       "5985           Nao     CartaoCredito       19.80      457.3   Nao     NaN  \n",
       "\n",
       "[5986 rows x 23 columns]"
      ]
     },
     "metadata": {},
     "output_type": "display_data"
    }
   ],
   "source": [
    "display(tabela_clientes)"
   ]
  },
  {
   "cell_type": "code",
   "execution_count": 3,
   "id": "5c907a15",
   "metadata": {},
   "outputs": [
    {
     "data": {
      "text/plain": [
       "Index(['Unnamed: 0', 'IDCliente', 'Genero', 'Aposentado', 'Casado',\n",
       "       'Dependentes', 'MesesComoCliente', 'ServicoTelefone', 'MultiplasLinhas',\n",
       "       'ServicoInternet', 'ServicoSegurancaOnline', 'ServicoBackupOnline',\n",
       "       'ProtecaoEquipamento', 'ServicoSuporteTecnico', 'ServicoStreamingTV',\n",
       "       'ServicoFilmes', 'TipoContrato', 'FaturaDigital', 'FormaPagamento',\n",
       "       'ValorMensal', 'TotalGasto', 'Churn', 'Codigo'],\n",
       "      dtype='object')"
      ]
     },
     "metadata": {},
     "output_type": "display_data"
    }
   ],
   "source": [
    "display(tabela_clientes.columns)"
   ]
  },
  {
   "cell_type": "markdown",
   "id": "9b265d5b",
   "metadata": {},
   "source": [
    "### Passo 3: Tratamento de Dados"
   ]
  },
  {
   "cell_type": "code",
   "execution_count": 4,
   "id": "55c9262d",
   "metadata": {},
   "outputs": [
    {
     "name": "stdout",
     "output_type": "stream",
     "text": [
      "<class 'pandas.core.frame.DataFrame'>\n",
      "RangeIndex: 5986 entries, 0 to 5985\n",
      "Data columns (total 23 columns):\n",
      " #   Column                  Non-Null Count  Dtype  \n",
      "---  ------                  --------------  -----  \n",
      " 0   Unnamed: 0              5986 non-null   int64  \n",
      " 1   IDCliente               5986 non-null   object \n",
      " 2   Genero                  5986 non-null   object \n",
      " 3   Aposentado              5986 non-null   int64  \n",
      " 4   Casado                  5986 non-null   object \n",
      " 5   Dependentes             5985 non-null   object \n",
      " 6   MesesComoCliente        5986 non-null   int64  \n",
      " 7   ServicoTelefone         5986 non-null   object \n",
      " 8   MultiplasLinhas         5986 non-null   object \n",
      " 9   ServicoInternet         5986 non-null   object \n",
      " 10  ServicoSegurancaOnline  5986 non-null   object \n",
      " 11  ServicoBackupOnline     5986 non-null   object \n",
      " 12  ProtecaoEquipamento     5986 non-null   object \n",
      " 13  ServicoSuporteTecnico   5986 non-null   object \n",
      " 14  ServicoStreamingTV      5986 non-null   object \n",
      " 15  ServicoFilmes           5986 non-null   object \n",
      " 16  TipoContrato            5986 non-null   object \n",
      " 17  FaturaDigital           5986 non-null   object \n",
      " 18  FormaPagamento          5986 non-null   object \n",
      " 19  ValorMensal             5986 non-null   float64\n",
      " 20  TotalGasto              5986 non-null   object \n",
      " 21  Churn                   5985 non-null   object \n",
      " 22  Codigo                  0 non-null      float64\n",
      "dtypes: float64(2), int64(3), object(18)\n",
      "memory usage: 1.1+ MB\n",
      "None\n"
     ]
    }
   ],
   "source": [
    "print(tabela_clientes.info()) #vamos analisar os dados, ver vazios, se o tipo do dado esta correto com o Dtype"
   ]
  },
  {
   "cell_type": "code",
   "execution_count": 5,
   "id": "006becda",
   "metadata": {},
   "outputs": [],
   "source": [
    "#problema de tipos de informacao #passar o valor atual para numeric, o coerce para caso erro continuar o codigo (cuidado com a quantidade de perda de informação ao rodar)"
   ]
  },
  {
   "cell_type": "code",
   "execution_count": 6,
   "id": "7cb1f99d",
   "metadata": {},
   "outputs": [
    {
     "name": "stdout",
     "output_type": "stream",
     "text": [
      "<class 'pandas.core.frame.DataFrame'>\n",
      "RangeIndex: 5986 entries, 0 to 5985\n",
      "Data columns (total 23 columns):\n",
      " #   Column                  Non-Null Count  Dtype  \n",
      "---  ------                  --------------  -----  \n",
      " 0   Unnamed: 0              5986 non-null   int64  \n",
      " 1   IDCliente               5986 non-null   object \n",
      " 2   Genero                  5986 non-null   object \n",
      " 3   Aposentado              5986 non-null   int64  \n",
      " 4   Casado                  5986 non-null   object \n",
      " 5   Dependentes             5985 non-null   object \n",
      " 6   MesesComoCliente        5986 non-null   int64  \n",
      " 7   ServicoTelefone         5986 non-null   object \n",
      " 8   MultiplasLinhas         5986 non-null   object \n",
      " 9   ServicoInternet         5986 non-null   object \n",
      " 10  ServicoSegurancaOnline  5986 non-null   object \n",
      " 11  ServicoBackupOnline     5986 non-null   object \n",
      " 12  ProtecaoEquipamento     5986 non-null   object \n",
      " 13  ServicoSuporteTecnico   5986 non-null   object \n",
      " 14  ServicoStreamingTV      5986 non-null   object \n",
      " 15  ServicoFilmes           5986 non-null   object \n",
      " 16  TipoContrato            5986 non-null   object \n",
      " 17  FaturaDigital           5986 non-null   object \n",
      " 18  FormaPagamento          5986 non-null   object \n",
      " 19  ValorMensal             5986 non-null   float64\n",
      " 20  TotalGasto              5976 non-null   float64\n",
      " 21  Churn                   5985 non-null   object \n",
      " 22  Codigo                  0 non-null      float64\n",
      "dtypes: float64(3), int64(3), object(17)\n",
      "memory usage: 1.1+ MB\n",
      "None\n"
     ]
    }
   ],
   "source": [
    "tabela_clientes[\"TotalGasto\"] = pd.to_numeric(tabela_clientes[\"TotalGasto\"], errors=\"coerce\") \n",
    "\n",
    "print(tabela_clientes.info())"
   ]
  },
  {
   "cell_type": "code",
   "execution_count": 7,
   "id": "c409a96c",
   "metadata": {},
   "outputs": [],
   "source": [
    "#exlcuir coluna"
   ]
  },
  {
   "cell_type": "code",
   "execution_count": 8,
   "id": "f2a41f80",
   "metadata": {},
   "outputs": [],
   "source": [
    "tabela_clientes = tabela_clientes.drop(\"Unnamed: 0\", axis=1)"
   ]
  },
  {
   "cell_type": "code",
   "execution_count": 9,
   "id": "24610810",
   "metadata": {},
   "outputs": [],
   "source": [
    "#excluir colunas vazias (temos que tratar os vazios, ou subisttituir por algo, ou excluir)"
   ]
  },
  {
   "cell_type": "code",
   "execution_count": 10,
   "id": "9a7c81bb",
   "metadata": {},
   "outputs": [],
   "source": [
    "tabela_clientes = tabela_clientes.dropna(how=\"all\", axis=1) # excluir todas colunas (axis=1) com valor vazio passamos all."
   ]
  },
  {
   "cell_type": "code",
   "execution_count": 11,
   "id": "fc5f283d",
   "metadata": {},
   "outputs": [],
   "source": [
    "tabela_clientes = tabela_clientes.dropna() # excluir linhas com algum valor vazio, este é o padrão"
   ]
  },
  {
   "cell_type": "code",
   "execution_count": 12,
   "id": "a55e1760",
   "metadata": {},
   "outputs": [
    {
     "name": "stdout",
     "output_type": "stream",
     "text": [
      "<class 'pandas.core.frame.DataFrame'>\n",
      "Int64Index: 5974 entries, 0 to 5985\n",
      "Data columns (total 21 columns):\n",
      " #   Column                  Non-Null Count  Dtype  \n",
      "---  ------                  --------------  -----  \n",
      " 0   IDCliente               5974 non-null   object \n",
      " 1   Genero                  5974 non-null   object \n",
      " 2   Aposentado              5974 non-null   int64  \n",
      " 3   Casado                  5974 non-null   object \n",
      " 4   Dependentes             5974 non-null   object \n",
      " 5   MesesComoCliente        5974 non-null   int64  \n",
      " 6   ServicoTelefone         5974 non-null   object \n",
      " 7   MultiplasLinhas         5974 non-null   object \n",
      " 8   ServicoInternet         5974 non-null   object \n",
      " 9   ServicoSegurancaOnline  5974 non-null   object \n",
      " 10  ServicoBackupOnline     5974 non-null   object \n",
      " 11  ProtecaoEquipamento     5974 non-null   object \n",
      " 12  ServicoSuporteTecnico   5974 non-null   object \n",
      " 13  ServicoStreamingTV      5974 non-null   object \n",
      " 14  ServicoFilmes           5974 non-null   object \n",
      " 15  TipoContrato            5974 non-null   object \n",
      " 16  FaturaDigital           5974 non-null   object \n",
      " 17  FormaPagamento          5974 non-null   object \n",
      " 18  ValorMensal             5974 non-null   float64\n",
      " 19  TotalGasto              5974 non-null   float64\n",
      " 20  Churn                   5974 non-null   object \n",
      "dtypes: float64(2), int64(2), object(17)\n",
      "memory usage: 1.0+ MB\n",
      "None\n"
     ]
    }
   ],
   "source": [
    "print(tabela_clientes.info()) #agora todos estão com No-Null Cont com mesmo valor."
   ]
  },
  {
   "cell_type": "markdown",
   "id": "247ba38e",
   "metadata": {},
   "source": [
    "### Passo 4: Olhar como que estão distribuídos os Churns/Cancelamentos"
   ]
  },
  {
   "cell_type": "code",
   "execution_count": 13,
   "id": "fb949ac6",
   "metadata": {},
   "outputs": [
    {
     "data": {
      "text/plain": [
       "Nao    4387\n",
       "Sim    1587\n",
       "Name: Churn, dtype: int64"
      ]
     },
     "metadata": {},
     "output_type": "display_data"
    }
   ],
   "source": [
    "display(tabela_clientes[\"Churn\"].value_counts()) #ver uma coluna quantidade que foram cancelados"
   ]
  },
  {
   "cell_type": "code",
   "execution_count": 14,
   "id": "2377755d",
   "metadata": {},
   "outputs": [
    {
     "data": {
      "text/plain": [
       "Nao    0.734349\n",
       "Sim    0.265651\n",
       "Name: Churn, dtype: float64"
      ]
     },
     "metadata": {},
     "output_type": "display_data"
    }
   ],
   "source": [
    "display(tabela_clientes[\"Churn\"].value_counts(normalize=True)) #ver uma coluna quantidade que foram cancelados, em percentual"
   ]
  },
  {
   "cell_type": "code",
   "execution_count": 15,
   "id": "a03fcee9",
   "metadata": {},
   "outputs": [
    {
     "data": {
      "text/plain": [
       "Nao    73.4%\n",
       "Sim    26.6%\n",
       "Name: Churn, dtype: object"
      ]
     },
     "metadata": {},
     "output_type": "display_data"
    }
   ],
   "source": [
    "display(tabela_clientes[\"Churn\"].value_counts(normalize=True).map(\"{:.1%}\".format)) #ver uma coluna quantidade que foram cancelados, em percentual formatado"
   ]
  },
  {
   "cell_type": "code",
   "execution_count": null,
   "id": "4172dfb1",
   "metadata": {},
   "outputs": [],
   "source": []
  },
  {
   "cell_type": "markdown",
   "id": "8f600daf",
   "metadata": {},
   "source": [
    "### Passo 5: Fazer uma análise das causas dos cancelamentos"
   ]
  },
  {
   "cell_type": "code",
   "execution_count": 16,
   "id": "b38eaaa0",
   "metadata": {},
   "outputs": [
    {
     "ename": "ModuleNotFoundError",
     "evalue": "No module named 'plotly'",
     "output_type": "error",
     "traceback": [
      "\u001b[1;31m---------------------------------------------------------------------------\u001b[0m",
      "\u001b[1;31mModuleNotFoundError\u001b[0m                       Traceback (most recent call last)",
      "Input \u001b[1;32mIn [16]\u001b[0m, in \u001b[0;36m<cell line: 1>\u001b[1;34m()\u001b[0m\n\u001b[1;32m----> 1\u001b[0m \u001b[38;5;28;01mimport\u001b[39;00m \u001b[38;5;21;01mplotly\u001b[39;00m\u001b[38;5;21;01m.\u001b[39;00m\u001b[38;5;21;01mexpress\u001b[39;00m \u001b[38;5;28;01mas\u001b[39;00m \u001b[38;5;21;01mpx\u001b[39;00m\n",
      "\u001b[1;31mModuleNotFoundError\u001b[0m: No module named 'plotly'"
     ]
    }
   ],
   "source": [
    "import plotly.express as px"
   ]
  },
  {
   "cell_type": "code",
   "execution_count": null,
   "id": "bd77bdf6",
   "metadata": {},
   "outputs": [],
   "source": [
    "#grafico histograma\n",
    "grafico = px.histogram(tabela_clientes, x=\"Churn\")\n",
    "grafico.show() #mostrar o grafico"
   ]
  },
  {
   "cell_type": "code",
   "execution_count": null,
   "id": "0bbee52a",
   "metadata": {},
   "outputs": [],
   "source": [
    "#grafico histograma com Cor\n",
    "grafico = px.histogram(tabela_clientes, x=\"Churn\", color=\"Churn\")\n",
    "grafico.show() #mostrar o grafico"
   ]
  },
  {
   "cell_type": "code",
   "execution_count": null,
   "id": "8553c740",
   "metadata": {
    "scrolled": false
   },
   "outputs": [],
   "source": [
    "#grafico histograma com Cor, ServicoInternet X Churn\n",
    "grafico = px.histogram(tabela_clientes, x=\"ServicoInternet\", color=\"Churn\")\n",
    "grafico.show() #mostrar o grafico"
   ]
  },
  {
   "cell_type": "code",
   "execution_count": null,
   "id": "812bef1d",
   "metadata": {},
   "outputs": [],
   "source": [
    "#grafico histograma com Cor, Churn X todas colunas\n",
    "\n",
    "for coluna in tabela_clientes: # padrão é percorrer colunas, caso precise linhas colocar .index\n",
    "    grafico = px.histogram(tabela_clientes, x=coluna, color=\"Churn\")\n",
    "    grafico.show() #mostrar o grafico\n"
   ]
  },
  {
   "cell_type": "markdown",
   "id": "58af1040",
   "metadata": {},
   "source": [
    "## Passo 6: Conclusão"
   ]
  },
  {
   "cell_type": "code",
   "execution_count": null,
   "id": "7d484b5e",
   "metadata": {},
   "outputs": [],
   "source": [
    "# tentar encontrar os 80-20: as poucos coisas (20%) que represente, fazem ocorrer a maioria (80%)"
   ]
  },
  {
   "cell_type": "code",
   "execution_count": null,
   "id": "0a922acd",
   "metadata": {},
   "outputs": [],
   "source": [
    "# 1- Não casados, e sem dependentes cancelam mais: me parece que pessoas que tem mais pessoas nas familia cancelam menos.\n",
    "# 2- Novos clientes cancelam mais: Problema de retenção de cliente no inicio, nos primeiros meses. \n",
    "    #-- talvez trazendo muitos clientes desqualificados (ja entram querendo sair)\n",
    "    #-- talvez o serviço no inicio não seja bom\n",
    "# 3- Temso problema no serviço de Fibra: Clientes de fibra cancelam mais.\n",
    "# 4- Clientes que têm vários serviços Cancelam muito menos.\n",
    "   #-- talvez planos/promoçoes para incentivar contratar serviços adicionais\n",
    "# 5- Quem tem contrato mensal cancela muito mais\n",
    "   #-- Plano/promoçoes para incentivar contrato anual\n",
    "# 6- Quem tem pagamento boleto cancela muito mais\n",
    "   #-- Plano/promoçoes para incentivar pagamentos automaticos, evitar boleto."
   ]
  },
  {
   "cell_type": "code",
   "execution_count": null,
   "id": "dfc450bb",
   "metadata": {},
   "outputs": [],
   "source": []
  }
 ],
 "metadata": {
  "kernelspec": {
   "display_name": "Python 3 (ipykernel)",
   "language": "python",
   "name": "python3"
  },
  "language_info": {
   "codemirror_mode": {
    "name": "ipython",
    "version": 3
   },
   "file_extension": ".py",
   "mimetype": "text/x-python",
   "name": "python",
   "nbconvert_exporter": "python",
   "pygments_lexer": "ipython3",
   "version": "3.9.12"
  }
 },
 "nbformat": 4,
 "nbformat_minor": 5
}
