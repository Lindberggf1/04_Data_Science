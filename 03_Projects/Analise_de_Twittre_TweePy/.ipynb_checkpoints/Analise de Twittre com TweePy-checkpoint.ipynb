{
 "cells": [
  {
   "cell_type": "code",
   "execution_count": 2,
   "id": "8cabab70",
   "metadata": {},
   "outputs": [
    {
     "name": "stdout",
     "output_type": "stream",
     "text": [
      "Requirement already satisfied: tweepy in c:\\users\\lindb\\anaconda3\\lib\\site-packages (4.1.0)\n",
      "Requirement already satisfied: requests-oauthlib<2,>=1.0.0 in c:\\users\\lindb\\anaconda3\\lib\\site-packages (from tweepy) (1.3.0)\n",
      "Requirement already satisfied: requests<3,>=2.11.1 in c:\\users\\lindb\\anaconda3\\lib\\site-packages (from tweepy) (2.25.1)\n",
      "Requirement already satisfied: chardet<5,>=3.0.2 in c:\\users\\lindb\\anaconda3\\lib\\site-packages (from requests<3,>=2.11.1->tweepy) (4.0.0)\n",
      "Requirement already satisfied: certifi>=2017.4.17 in c:\\users\\lindb\\anaconda3\\lib\\site-packages (from requests<3,>=2.11.1->tweepy) (2020.12.5)\n",
      "Requirement already satisfied: urllib3<1.27,>=1.21.1 in c:\\users\\lindb\\anaconda3\\lib\\site-packages (from requests<3,>=2.11.1->tweepy) (1.26.4)\n",
      "Requirement already satisfied: idna<3,>=2.5 in c:\\users\\lindb\\anaconda3\\lib\\site-packages (from requests<3,>=2.11.1->tweepy) (2.10)\n",
      "Requirement already satisfied: oauthlib>=3.0.0 in c:\\users\\lindb\\anaconda3\\lib\\site-packages (from requests-oauthlib<2,>=1.0.0->tweepy) (3.1.1)\n",
      "Note: you may need to restart the kernel to use updated packages.\n"
     ]
    }
   ],
   "source": [
    "pip install tweepy"
   ]
  },
  {
   "cell_type": "code",
   "execution_count": 3,
   "id": "caefedc9",
   "metadata": {},
   "outputs": [],
   "source": [
    "import tweepy\n",
    "import re"
   ]
  },
  {
   "cell_type": "code",
   "execution_count": 4,
   "id": "3243a24a",
   "metadata": {},
   "outputs": [
    {
     "name": "stdout",
     "output_type": "stream",
     "text": [
      "Há 30 anos o Brasil não cresce, diz ministro Paulo Guedes https://t.co/fdkiGvRj99 https://t.co/8c1TrpwkDa\n",
      "Clarice Lispector foi fichada pela polícia e era fã de videntes, mostra biografia https://t.co/fFbgPpZdZy\n",
      "Ex-presidente Lula (PT) disse, em entrevista para a Rádio Gaúcha, que espera Geraldo Alckmin (PSDB) definir partido… https://t.co/zjlrpb2twv\n",
      "https://t.co/2MRzYVszYd\n",
      "Fed deve discutir redução mais rápida de estímulos, diz Powell https://t.co/IM6xlMvGf7\n",
      "Fora! - Por @desenhosdonando, do Jornalistas pela Democracia https://t.co/rsvrMzj8Jp\n",
      "Cena de Sophie Charlotte em ‘Ti-Ti-Ti’ viraliza após 10 anos e vira meme\n",
      "https://t.co/4kdCBY6bRB - via @Emais_Estadao\n",
      "3 dicas para organizar as finanças da sua empresa em 2022; OUÇA o podcast ==&gt; https://t.co/y5NjJjrVWj #g1 #podcasts… https://t.co/lofouBB4s6\n",
      "Pipoca pronta? Vem que é hora de assistir 'Um Presente Especial' na minha #SessãoDaTarde! ❤🍿🎬 https://t.co/Ari2M3iREG\n",
      "Premiê russo exorta China a unir esforços na luta contra sanções internacionais\n",
      "https://t.co/RaRxRRCElo\n",
      "Segundo a agência, a aprovação de um remédio de dose única representa um avanço, pois simplifica o tratamento e a a… https://t.co/LQMXTFyOXu\n",
      "Estádio do Pacaembu terá hotel com 50 quartos onde ficava o tobogã https://t.co/wsvbu2tjqQ\n",
      "Presidente de Portugal veta descriminalização da eutanásia https://t.co/nGhfiZD7ec https://t.co/z2IGi4HmDv\n",
      "Moro e Doria entram em guerra e disputam o apoio de partidos do Centrão\n",
      "https://t.co/HYQVwEjHmQ\n",
      "Clientes do Bradesco relatam instabilidade em app do banco (via @EstadaoEconomia)\n",
      "https://t.co/a0Y9YSoWfq\n",
      "Renda média atinge menor nível em quase 10 anos, diz IBGE https://t.co/C6efAWov1o\n",
      "O âncora do BandNews FM No Meio Do Dia e do Jornal da Band, Eduardo Oinegue (@Oinegue), fala sobre as obras com ind… https://t.co/KnBm0gOKrd\n",
      "Incêndio em agência bancária abandonada deixa quatro mortos em Barcelona https://t.co/yU7Jq5Imwo https://t.co/ayhiRnff0q\n",
      "🗓️ O #MJSP, por meio da Secretaria Nacional do Consumidor (Senacon), realiza a #live \"Efetividade das Sanções Admin… https://t.co/dO7HhmmyQp\n",
      "Aplicativo do Bradesco tem instabilidade e clientes ficam indignados\n",
      "https://t.co/EFx7tuWPqx\n"
     ]
    }
   ],
   "source": [
    "consumer_key = \"J5j4nXijxbT6KfFS2FFT1ehlQ\"\n",
    "consumer_secret = \"VvxPUMSy8lUgMxvMRV6eN1TUT8J3bqGDkYJJbX0LO1ZdzaGUfB\"\n",
    "access_token = \"1200225236790194176-IisZokOxTv4V1hikOZ4xzJn6Zaj9ch\"\n",
    "access_token_secret = \"Aols2xiaU49SUliSrJiAZytuVwhEKO3OxtYEXkVisYLRU\"\n",
    "\n",
    "auth = tweepy.OAuthHandler(consumer_key, consumer_secret)\n",
    "auth.set_access_token(access_token, access_token_secret)\n",
    "\n",
    "api = tweepy.API(auth)\n",
    "\n",
    "public_tweets = api.home_timeline()\n",
    "for tweet in public_tweets:\n",
    "    print(tweet.text)"
   ]
  },
  {
   "cell_type": "code",
   "execution_count": 5,
   "id": "e410b019",
   "metadata": {},
   "outputs": [
    {
     "name": "stdout",
     "output_type": "stream",
     "text": [
      "kauepcs\n",
      "18\n",
      "MorawieckiM\n",
      "PremierRP\n",
      "LoLegendsBR\n",
      "forumferos\n",
      "seikshik\n",
      "cinthyalt\n",
      "TalitaBuguinha\n",
      "ivnasimons\n",
      "fred_jus\n",
      "Feliphe_csc\n",
      "lilinhafonteles\n",
      "sarahcpribeiro\n",
      "dedonogatilho\n",
      "bgueno_\n",
      "lyfonteles\n",
      "Eudesmar\n",
      "renatobraga\n",
      "lorrapatricia\n",
      "yur1sb\n"
     ]
    }
   ],
   "source": [
    "user = api.get_user(screen_name='KauePCS')\n",
    "\n",
    "print(user.screen_name)\n",
    "print(user.followers_count)\n",
    "for friend in user.friends():\n",
    "   print(friend.screen_name)"
   ]
  },
  {
   "cell_type": "code",
   "execution_count": 6,
   "id": "e0e5e14b",
   "metadata": {},
   "outputs": [],
   "source": [
    "# cria um objeto api\n",
    "api = tweepy.API(auth)"
   ]
  },
  {
   "cell_type": "code",
   "execution_count": 7,
   "id": "72b81c6e",
   "metadata": {},
   "outputs": [
    {
     "ename": "OperationalError",
     "evalue": "('08001', '[08001] [Microsoft][ODBC Driver 17 for SQL Server]TCP Provider: Timeout error [258].  (258) (SQLDriverConnect); [08001] [Microsoft][ODBC Driver 17 for SQL Server]Login timeout expired (0); [08001] [Microsoft][ODBC Driver 17 for SQL Server]Unable to complete login process due to delay in login response (258)')",
     "output_type": "error",
     "traceback": [
      "\u001b[1;31m---------------------------------------------------------------------------\u001b[0m",
      "\u001b[1;31mOperationalError\u001b[0m                          Traceback (most recent call last)",
      "\u001b[1;32m<ipython-input-7-099ffbda86c3>\u001b[0m in \u001b[0;36m<module>\u001b[1;34m\u001b[0m\n\u001b[0;32m     11\u001b[0m \u001b[0musername\u001b[0m \u001b[1;33m=\u001b[0m \u001b[1;34m'rootavaliacao'\u001b[0m\u001b[1;33m\u001b[0m\u001b[1;33m\u001b[0m\u001b[0m\n\u001b[0;32m     12\u001b[0m \u001b[0mpassword\u001b[0m \u001b[1;33m=\u001b[0m \u001b[1;34m'Senha#@@!#22345!!'\u001b[0m\u001b[1;33m\u001b[0m\u001b[1;33m\u001b[0m\u001b[0m\n\u001b[1;32m---> 13\u001b[1;33m \u001b[0mconn\u001b[0m \u001b[1;33m=\u001b[0m \u001b[0mpyodbc\u001b[0m\u001b[1;33m.\u001b[0m\u001b[0mconnect\u001b[0m\u001b[1;33m(\u001b[0m\u001b[1;34m'DRIVER={ODBC Driver 17 for SQL Server};SERVER='\u001b[0m\u001b[1;33m+\u001b[0m\u001b[0mserver\u001b[0m\u001b[1;33m+\u001b[0m\u001b[1;34m';DATABASE='\u001b[0m\u001b[1;33m+\u001b[0m\u001b[0mdatabase\u001b[0m\u001b[1;33m+\u001b[0m\u001b[1;34m';UID='\u001b[0m\u001b[1;33m+\u001b[0m\u001b[0musername\u001b[0m\u001b[1;33m+\u001b[0m\u001b[1;34m';PWD='\u001b[0m\u001b[1;33m+\u001b[0m \u001b[0mpassword\u001b[0m\u001b[1;33m)\u001b[0m\u001b[1;33m\u001b[0m\u001b[1;33m\u001b[0m\u001b[0m\n\u001b[0m\u001b[0;32m     14\u001b[0m \u001b[1;33m\u001b[0m\u001b[0m\n\u001b[0;32m     15\u001b[0m \u001b[0mcursor\u001b[0m \u001b[1;33m=\u001b[0m \u001b[0mconn\u001b[0m\u001b[1;33m.\u001b[0m\u001b[0mcursor\u001b[0m\u001b[1;33m(\u001b[0m\u001b[1;33m)\u001b[0m\u001b[1;33m\u001b[0m\u001b[1;33m\u001b[0m\u001b[0m\n",
      "\u001b[1;31mOperationalError\u001b[0m: ('08001', '[08001] [Microsoft][ODBC Driver 17 for SQL Server]TCP Provider: Timeout error [258].  (258) (SQLDriverConnect); [08001] [Microsoft][ODBC Driver 17 for SQL Server]Login timeout expired (0); [08001] [Microsoft][ODBC Driver 17 for SQL Server]Unable to complete login process due to delay in login response (258)')"
     ]
    }
   ],
   "source": [
    "# Press Shift+F10 to execute it or replace it with your code.\n",
    "# Press Double Shift to search everywhere for classes, files, tool windows, actions, and settings.\n",
    "import pyodbc\n",
    "\n",
    "def print_hi(name):\n",
    "    # Use a breakpoint in the code line below to debug your script.\n",
    "    print(f'Hi, {name}')  # Press Ctrl+F8 to toggle the breakpoint.\n",
    "\n",
    "server = 'srvdbstudy.database.windows.net'\n",
    "database = 'db_config'\n",
    "username = 'rootavaliacao'\n",
    "password = 'Senha#@@!#22345!!'\n",
    "conn = pyodbc.connect('DRIVER={ODBC Driver 17 for SQL Server};SERVER='+server+';DATABASE='+database+';UID='+username+';PWD='+ password)\n",
    "\n",
    "cursor = conn.cursor()\n",
    "cursor.execute('SELECT * FROM tweets.Tweet')"
   ]
  },
  {
   "cell_type": "code",
   "execution_count": null,
   "id": "3a05eebb",
   "metadata": {},
   "outputs": [],
   "source": [
    "\n"
   ]
  },
  {
   "cell_type": "code",
   "execution_count": null,
   "id": "7c7b0092",
   "metadata": {},
   "outputs": [],
   "source": [
    "# obtém tweets de um dado usuário\n",
    "def obter_tweets(usuario, limite=10):\n",
    "\tresultados = api.user_timeline(screen_name=usuario, count=limite, tweet_mode='extended')\n",
    "\ttweets = [] # lista de tweets inicialmente vazia\n",
    "\tfor r in resultados:\n",
    "\t\t# utiliza expressão regular para remover a URL do tweet\n",
    "\t\t# http pega o início da url\n",
    "\t\t# \\S+ pega os caracteres não brancos (o final da URL) \n",
    "\t\ttweet = re.sub(r'http\\S+', '', r.full_text) \n",
    "\t\tcursor.execute(\"INSERT INTO[tweets].[Tweet] ([Texto], [IdUser]) VALUES (? , ?) commit\", r.full_text , usuario)\n",
    "\t\ttweets.append(tweet.replace('\\n', ' ')) # adiciona na lista\n",
    "\treturn tweets # retorna a lista de tweets\n",
    "\n"
   ]
  },
  {
   "cell_type": "code",
   "execution_count": null,
   "id": "9e07366a",
   "metadata": {},
   "outputs": [],
   "source": [
    "# escreve os tweets em um arquivo 'tweets.txt'\n",
    "tweets = obter_tweets(usuario='KauePCS', limite=100)\n",
    "with open('tweets.txt', 'w') as f:\n",
    "\tf.write('\\n'.join(tweets))"
   ]
  },
  {
   "cell_type": "code",
   "execution_count": null,
   "id": "9f1307d7",
   "metadata": {},
   "outputs": [],
   "source": [
    "tweets"
   ]
  },
  {
   "cell_type": "code",
   "execution_count": null,
   "id": "b3fb41c8",
   "metadata": {},
   "outputs": [],
   "source": []
  },
  {
   "cell_type": "code",
   "execution_count": null,
   "id": "7b6fc84f",
   "metadata": {},
   "outputs": [],
   "source": []
  }
 ],
 "metadata": {
  "kernelspec": {
   "display_name": "Python 3",
   "language": "python",
   "name": "python3"
  },
  "language_info": {
   "codemirror_mode": {
    "name": "ipython",
    "version": 3
   },
   "file_extension": ".py",
   "mimetype": "text/x-python",
   "name": "python",
   "nbconvert_exporter": "python",
   "pygments_lexer": "ipython3",
   "version": "3.8.8"
  }
 },
 "nbformat": 4,
 "nbformat_minor": 5
}
