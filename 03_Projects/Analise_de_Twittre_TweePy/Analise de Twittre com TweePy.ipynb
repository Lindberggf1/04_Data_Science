{
 "cells": [
  {
   "cell_type": "code",
   "execution_count": 2,
   "id": "8cabab70",
   "metadata": {},
   "outputs": [
    {
     "name": "stdout",
     "output_type": "stream",
     "text": [
      "Requirement already satisfied: tweepy in c:\\users\\lindb\\anaconda3\\lib\\site-packages (4.1.0)\n",
      "Requirement already satisfied: requests<3,>=2.11.1 in c:\\users\\lindb\\anaconda3\\lib\\site-packages (from tweepy) (2.25.1)\n",
      "Requirement already satisfied: requests-oauthlib<2,>=1.0.0 in c:\\users\\lindb\\anaconda3\\lib\\site-packages (from tweepy) (1.3.0)\n",
      "Requirement already satisfied: idna<3,>=2.5 in c:\\users\\lindb\\anaconda3\\lib\\site-packages (from requests<3,>=2.11.1->tweepy) (2.10)\n",
      "Requirement already satisfied: certifi>=2017.4.17 in c:\\users\\lindb\\anaconda3\\lib\\site-packages (from requests<3,>=2.11.1->tweepy) (2020.12.5)\n",
      "Requirement already satisfied: chardet<5,>=3.0.2 in c:\\users\\lindb\\anaconda3\\lib\\site-packages (from requests<3,>=2.11.1->tweepy) (4.0.0)\n",
      "Requirement already satisfied: urllib3<1.27,>=1.21.1 in c:\\users\\lindb\\anaconda3\\lib\\site-packages (from requests<3,>=2.11.1->tweepy) (1.26.4)\n",
      "Requirement already satisfied: oauthlib>=3.0.0 in c:\\users\\lindb\\anaconda3\\lib\\site-packages (from requests-oauthlib<2,>=1.0.0->tweepy) (3.1.1)\n",
      "Note: you may need to restart the kernel to use updated packages.\n"
     ]
    }
   ],
   "source": [
    "pip install tweepy"
   ]
  },
  {
   "cell_type": "code",
   "execution_count": 3,
   "id": "caefedc9",
   "metadata": {},
   "outputs": [],
   "source": [
    "import tweepy\n",
    "import re"
   ]
  },
  {
   "cell_type": "code",
   "execution_count": 10,
   "id": "3243a24a",
   "metadata": {},
   "outputs": [],
   "source": [
    "consumer_key = \"Bz4g2f46vgBgZkaWClhYEHQ6W\"\n",
    "consumer_secret = \"P2dFgJgvoiOsxrWNN67v96wQt1A2WvTdK9bJHvoaHPbrfmQYJg\"\n",
    "access_token = \"326813143-13E4qpGQADt8xoRGTZJX6FIlDdWrAeabiODEk3vK\"\n",
    "access_token_secret = \"SaDU6vULOgX76JBCPUtWm6TEFSSN6kuMzZo6MoIl4LgQU\"\n",
    "\n",
    "auth = tweepy.OAuthHandler(consumer_key, consumer_secret)\n",
    "auth.set_access_token(access_token, access_token_secret)\n",
    "\n",
    "api = tweepy.API(auth)\n"
   ]
  },
  {
   "cell_type": "code",
   "execution_count": 13,
   "id": "2730d606",
   "metadata": {},
   "outputs": [
    {
     "ename": "AttributeError",
     "evalue": "'API' object has no attribute 'search'",
     "output_type": "error",
     "traceback": [
      "\u001b[1;31m---------------------------------------------------------------------------\u001b[0m",
      "\u001b[1;31mAttributeError\u001b[0m                            Traceback (most recent call last)",
      "\u001b[1;32m<ipython-input-13-0fbe7528723a>\u001b[0m in \u001b[0;36m<module>\u001b[1;34m\u001b[0m\n\u001b[0;32m      1\u001b[0m \u001b[1;31m# bianca add\u001b[0m\u001b[1;33m\u001b[0m\u001b[1;33m\u001b[0m\u001b[1;33m\u001b[0m\u001b[0m\n\u001b[0;32m      2\u001b[0m \u001b[1;33m\u001b[0m\u001b[0m\n\u001b[1;32m----> 3\u001b[1;33m \u001b[0mpesquisa\u001b[0m \u001b[1;33m=\u001b[0m \u001b[0mapi\u001b[0m\u001b[1;33m.\u001b[0m\u001b[0msearch\u001b[0m\u001b[1;33m(\u001b[0m\u001b[0mq\u001b[0m \u001b[1;33m=\u001b[0m \u001b[1;34m\"#bbb22\"\u001b[0m\u001b[1;33m)\u001b[0m\u001b[1;33m\u001b[0m\u001b[1;33m\u001b[0m\u001b[0m\n\u001b[0m\u001b[0;32m      4\u001b[0m \u001b[1;33m\u001b[0m\u001b[0m\n\u001b[0;32m      5\u001b[0m \u001b[1;32mfor\u001b[0m \u001b[0mtweet\u001b[0m \u001b[1;32min\u001b[0m \u001b[0mpesquisa\u001b[0m\u001b[1;33m:\u001b[0m\u001b[1;33m\u001b[0m\u001b[1;33m\u001b[0m\u001b[0m\n",
      "\u001b[1;31mAttributeError\u001b[0m: 'API' object has no attribute 'search'"
     ]
    }
   ],
   "source": [
    "# bianca add\n",
    "\n",
    "pesquisa = api.search(q = \"#bbb22\")\n",
    "                      \n",
    "for tweet in pesquisa:\n",
    "    print(tweet.text)"
   ]
  },
  {
   "cell_type": "code",
   "execution_count": 9,
   "id": "78e90fb7",
   "metadata": {},
   "outputs": [
    {
     "name": "stdout",
     "output_type": "stream",
     "text": [
      "Padrasto emociona ao se declarar para enteada e perguntar se ela o aceita como pai; veja vídeo https://t.co/T1RDd0A5AZ\n",
      "Caetano Veloso entrega documento ao presidente do Senado, Rodrigo Pacheco, contra a aprovação de projetos que flexi… https://t.co/0JvPwkVMm8\n",
      "Leia no blog da @NatuzaNery https://t.co/4sY0fvMMGQ #g1\n",
      "RT @ApibOficial: Seguimos no #AtoPelaTerra !!! \n",
      "\n",
      "Leitura da carta dos artistas pedindo pela não aprovação do pacote da destruição.\n",
      "\n",
      "Não ao…\n",
      "Senador Pacheco recebeu artistas e organizações do Ato pela Terra, deputado Arthur marca o dia afirmando que vai pa… https://t.co/4iT996Fa9w\n",
      "Artes Cênicas: Musical 'A Família Addams' retorna a SP mais sexy e com deboche do 'american way of life' https://t.co/5mj2zi5M7n\n",
      "Carolina Pasquali, do Greenpeace, explica o que é o \"pacote da destruição\" https://t.co/efBMS5DY3F\n",
      "Áustria suspende lei de vacinação obrigatória contra Covid-19 https://t.co/VQ6Qz65eO2\n",
      "No quadro #ANossaLínguaDeTodoDia, no @estudiocbn, professor Pasquale tira a dúvida de um ouvinte que está confuso e… https://t.co/sbYHPiLMJH\n",
      "&gt;@EstadaoEsporte Freguesia de Abel Ferreira diante de Rogério Ceni agita o clássico desta quinta-feira, no Morumbi https://t.co/0FsRQa5N56\n",
      "BBB22: Jade se surpreende ao ver Laís pedindo desculpas a Arthur.\n",
      "\n",
      "Já eliminada, a influenciadora ainda confessou q… https://t.co/vYDnJloJpc\n",
      "Cotidiano: 'Não tem esse negócio de ensinar você nasceu homem, pode ser mulher', diz ministro da Educação https://t.co/YmAYXMc06X\n",
      "Guerra na Ucrânia: Petróleo tem forte queda com avanço no diálogo entre Rússia e Ucrânia https://t.co/N40hAnPaLF\n",
      "Caetano Veloso menciona tragédias ambientais recentes em seu discurso no Congresso Nacional\n",
      "\n",
      "+ https://t.co/eeJg2bKQDS\n",
      "Como o agronegócio pode evoluir da agenda ESG foi tema de debate nesta quarta-feira https://t.co/BTgslZgEyW\n",
      "Zelensky pede decisão rápida aos ocidentais sobre caças oferecidos pela Polônia https://t.co/QeKE1AF23N\n",
      "\n",
      "#Notícias #Ucrânia #Mundo\n",
      "Painel: Pré-candidato, Eduardo Braga pede a Guedes exceções ao decreto de redução do IPI https://t.co/8iVNLfZTny\n",
      "Ministro pede destaque e Supremo recomeçará do zero julgamento da 'revisão da vida toda' do INSS… https://t.co/KNmBw2wBVW\n",
      "Seguranças que intimidaram repórter durante greve do BRT prestam depoimento https://t.co/wTn8pdpAFZ\n",
      "Apesar de serem a maior parte da população, quando se trata de tecnologia, elas representam apenas 30% da força de… https://t.co/1RX6muN7BD\n"
     ]
    }
   ],
   "source": [
    "public_tweets = api.home_timeline()\n",
    "for tweet in public_tweets:\n",
    "    print(tweet.text)"
   ]
  },
  {
   "cell_type": "code",
   "execution_count": 14,
   "id": "e410b019",
   "metadata": {},
   "outputs": [
    {
     "name": "stdout",
     "output_type": "stream",
     "text": [
      "bbb22\n",
      "45\n"
     ]
    },
    {
     "ename": "AttributeError",
     "evalue": "'User' object has no attribute 'user_text'",
     "output_type": "error",
     "traceback": [
      "\u001b[1;31m---------------------------------------------------------------------------\u001b[0m",
      "\u001b[1;31mAttributeError\u001b[0m                            Traceback (most recent call last)",
      "\u001b[1;32m<ipython-input-14-cfe5efd57030>\u001b[0m in \u001b[0;36m<module>\u001b[1;34m\u001b[0m\n\u001b[0;32m      4\u001b[0m \u001b[0mprint\u001b[0m\u001b[1;33m(\u001b[0m\u001b[0muser\u001b[0m\u001b[1;33m.\u001b[0m\u001b[0mfollowers_count\u001b[0m\u001b[1;33m)\u001b[0m\u001b[1;33m\u001b[0m\u001b[1;33m\u001b[0m\u001b[0m\n\u001b[0;32m      5\u001b[0m \u001b[1;32mfor\u001b[0m \u001b[0mfriend\u001b[0m \u001b[1;32min\u001b[0m \u001b[0muser\u001b[0m\u001b[1;33m.\u001b[0m\u001b[0mfriends\u001b[0m\u001b[1;33m(\u001b[0m\u001b[1;33m)\u001b[0m\u001b[1;33m:\u001b[0m\u001b[1;33m\u001b[0m\u001b[1;33m\u001b[0m\u001b[0m\n\u001b[1;32m----> 6\u001b[1;33m     \u001b[0mprint\u001b[0m\u001b[1;33m(\u001b[0m\u001b[0mfriend\u001b[0m\u001b[1;33m.\u001b[0m\u001b[0muser_text\u001b[0m\u001b[1;33m)\u001b[0m\u001b[1;33m\u001b[0m\u001b[1;33m\u001b[0m\u001b[0m\n\u001b[0m",
      "\u001b[1;31mAttributeError\u001b[0m: 'User' object has no attribute 'user_text'"
     ]
    }
   ],
   "source": [
    "user = api.get_user(screen_name='BBB22')\n",
    "\n",
    "print(user.screen_name)\n",
    "print(user.followers_count)\n",
    "for friend in user.friends():\n",
    "    print(friend.user_text)\n"
   ]
  },
  {
   "cell_type": "code",
   "execution_count": 8,
   "id": "b5229e1e",
   "metadata": {},
   "outputs": [
    {
     "ename": "AttributeError",
     "evalue": "'User' object has no attribute 'scree_text'",
     "output_type": "error",
     "traceback": [
      "\u001b[1;31m---------------------------------------------------------------------------\u001b[0m",
      "\u001b[1;31mAttributeError\u001b[0m                            Traceback (most recent call last)",
      "\u001b[1;32m<ipython-input-8-1ea2c9a81659>\u001b[0m in \u001b[0;36m<module>\u001b[1;34m\u001b[0m\n\u001b[0;32m      1\u001b[0m \u001b[1;32mfor\u001b[0m \u001b[0mfriend\u001b[0m \u001b[1;32min\u001b[0m \u001b[0muser\u001b[0m\u001b[1;33m.\u001b[0m\u001b[0mfriends\u001b[0m\u001b[1;33m(\u001b[0m\u001b[1;33m)\u001b[0m\u001b[1;33m:\u001b[0m\u001b[1;33m\u001b[0m\u001b[1;33m\u001b[0m\u001b[0m\n\u001b[1;32m----> 2\u001b[1;33m     \u001b[0mprint\u001b[0m\u001b[1;33m(\u001b[0m\u001b[0mfriend\u001b[0m\u001b[1;33m.\u001b[0m\u001b[0mscree_text\u001b[0m\u001b[1;33m)\u001b[0m\u001b[1;33m\u001b[0m\u001b[1;33m\u001b[0m\u001b[0m\n\u001b[0m",
      "\u001b[1;31mAttributeError\u001b[0m: 'User' object has no attribute 'scree_text'"
     ]
    }
   ],
   "source": [
    "for friend in user.friends():\n",
    "    print(friend.scree_text)"
   ]
  },
  {
   "cell_type": "code",
   "execution_count": 6,
   "id": "e0e5e14b",
   "metadata": {},
   "outputs": [],
   "source": [
    "# cria um objeto api\n",
    "api = tweepy.API(auth)"
   ]
  },
  {
   "cell_type": "code",
   "execution_count": 3,
   "id": "72b81c6e",
   "metadata": {},
   "outputs": [
    {
     "ename": "ProgrammingError",
     "evalue": "('42000', '[42000] [Microsoft][ODBC SQL Server Driver][SQL Server]Cannot open database \"sql-estudo\" requested by the login. The login failed. (4060) (SQLDriverConnect); [42000] [Microsoft][ODBC SQL Server Driver][SQL Server]Cannot open database \"sql-estudo\" requested by the login. The login failed. (4060)')",
     "output_type": "error",
     "traceback": [
      "\u001b[1;31m---------------------------------------------------------------------------\u001b[0m",
      "\u001b[1;31mProgrammingError\u001b[0m                          Traceback (most recent call last)",
      "\u001b[1;32m<ipython-input-3-9808c097770f>\u001b[0m in \u001b[0;36m<module>\u001b[1;34m\u001b[0m\n\u001b[0;32m     11\u001b[0m \u001b[0musername\u001b[0m \u001b[1;33m=\u001b[0m \u001b[1;34m'admin-azure'\u001b[0m\u001b[1;33m\u001b[0m\u001b[1;33m\u001b[0m\u001b[0m\n\u001b[0;32m     12\u001b[0m \u001b[0mpassword\u001b[0m \u001b[1;33m=\u001b[0m \u001b[1;34m'a&Ehs&HB'\u001b[0m\u001b[1;33m\u001b[0m\u001b[1;33m\u001b[0m\u001b[0m\n\u001b[1;32m---> 13\u001b[1;33m \u001b[0mconn\u001b[0m \u001b[1;33m=\u001b[0m \u001b[0mpyodbc\u001b[0m\u001b[1;33m.\u001b[0m\u001b[0mconnect\u001b[0m\u001b[1;33m(\u001b[0m\u001b[1;34m'DRIVER={SQL Server};SERVER='\u001b[0m\u001b[1;33m+\u001b[0m\u001b[0mserver\u001b[0m\u001b[1;33m+\u001b[0m\u001b[1;34m';DATABASE='\u001b[0m\u001b[1;33m+\u001b[0m\u001b[0mdatabase\u001b[0m\u001b[1;33m+\u001b[0m\u001b[1;34m';UID='\u001b[0m\u001b[1;33m+\u001b[0m\u001b[0musername\u001b[0m\u001b[1;33m+\u001b[0m\u001b[1;34m';PWD='\u001b[0m\u001b[1;33m+\u001b[0m \u001b[0mpassword\u001b[0m\u001b[1;33m)\u001b[0m\u001b[1;33m\u001b[0m\u001b[1;33m\u001b[0m\u001b[0m\n\u001b[0m\u001b[0;32m     14\u001b[0m \u001b[1;33m\u001b[0m\u001b[0m\n\u001b[0;32m     15\u001b[0m \u001b[0mcursor\u001b[0m \u001b[1;33m=\u001b[0m \u001b[0mconn\u001b[0m\u001b[1;33m.\u001b[0m\u001b[0mcursor\u001b[0m\u001b[1;33m(\u001b[0m\u001b[1;33m)\u001b[0m\u001b[1;33m\u001b[0m\u001b[1;33m\u001b[0m\u001b[0m\n",
      "\u001b[1;31mProgrammingError\u001b[0m: ('42000', '[42000] [Microsoft][ODBC SQL Server Driver][SQL Server]Cannot open database \"sql-estudo\" requested by the login. The login failed. (4060) (SQLDriverConnect); [42000] [Microsoft][ODBC SQL Server Driver][SQL Server]Cannot open database \"sql-estudo\" requested by the login. The login failed. (4060)')"
     ]
    }
   ],
   "source": [
    "# Press Shift+F10 to execute it or replace it with your code.\n",
    "# Press Double Shift to search everywhere for classes, files, tool windows, actions, and settings.\n",
    "import pyodbc\n",
    "\n",
    "#def print_hi(name):\n",
    "    # Use a breakpoint in the code line below to debug your script.\n",
    "   # print(f'Hi, {name}')  # Press Ctrl+F8 to toggle the breakpoint.\n",
    "\n",
    "server = 'sql-estudo.database.windows.net'\n",
    "database = 'sql-estudo'\n",
    "username = 'admin-azure'\n",
    "password = 'a&Ehs&HB'\n",
    "conn = pyodbc.connect('DRIVER={SQL Server};SERVER='+server+';DATABASE='+database+';UID='+username+';PWD='+ password)\n",
    "\n",
    "cursor = conn.cursor()\n",
    "cursor.execute('SELECT * FROM dolar_lindberg_ferreira.dolar_stage_lindberg_ferreira')"
   ]
  },
  {
   "cell_type": "code",
   "execution_count": null,
   "id": "3a05eebb",
   "metadata": {},
   "outputs": [],
   "source": [
    "\n"
   ]
  },
  {
   "cell_type": "code",
   "execution_count": null,
   "id": "7c7b0092",
   "metadata": {},
   "outputs": [],
   "source": [
    "# obtém tweets de um dado usuário\n",
    "def obter_tweets(usuario, limite=10):\n",
    "\tresultados = api.user_timeline(screen_name=usuario, count=limite, tweet_mode='extended')\n",
    "\ttweets = [] # lista de tweets inicialmente vazia\n",
    "\tfor r in resultados:\n",
    "\t\t# utiliza expressão regular para remover a URL do tweet\n",
    "\t\t# http pega o início da url\n",
    "\t\t# \\S+ pega os caracteres não brancos (o final da URL) \n",
    "\t\ttweet = re.sub(r'http\\S+', '', r.full_text) \n",
    "\t\tcursor.execute(\"INSERT INTO[tweets].[Tweet] ([Texto], [IdUser]) VALUES (? , ?) commit\", r.full_text , usuario)\n",
    "\t\ttweets.append(tweet.replace('\\n', ' ')) # adiciona na lista\n",
    "\treturn tweets # retorna a lista de tweets\n",
    "\n"
   ]
  },
  {
   "cell_type": "code",
   "execution_count": null,
   "id": "9e07366a",
   "metadata": {},
   "outputs": [],
   "source": [
    "# escreve os tweets em um arquivo 'tweets.txt'\n",
    "tweets = obter_tweets(usuario='KauePCS', limite=100)\n",
    "with open('tweets.txt', 'w') as f:\n",
    "\tf.write('\\n'.join(tweets))"
   ]
  },
  {
   "cell_type": "code",
   "execution_count": null,
   "id": "9f1307d7",
   "metadata": {},
   "outputs": [],
   "source": [
    "tweets"
   ]
  },
  {
   "cell_type": "code",
   "execution_count": null,
   "id": "b3fb41c8",
   "metadata": {},
   "outputs": [],
   "source": []
  },
  {
   "cell_type": "code",
   "execution_count": null,
   "id": "7b6fc84f",
   "metadata": {},
   "outputs": [],
   "source": []
  }
 ],
 "metadata": {
  "kernelspec": {
   "display_name": "Python 3",
   "language": "python",
   "name": "python3"
  },
  "language_info": {
   "codemirror_mode": {
    "name": "ipython",
    "version": 3
   },
   "file_extension": ".py",
   "mimetype": "text/x-python",
   "name": "python",
   "nbconvert_exporter": "python",
   "pygments_lexer": "ipython3",
   "version": "3.8.8"
  }
 },
 "nbformat": 4,
 "nbformat_minor": 5
}
